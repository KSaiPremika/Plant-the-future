{
  "nbformat": 4,
  "nbformat_minor": 0,
  "metadata": {
    "colab": {
      "name": "LSTM Bidirectional model for Traffic dataset",
      "provenance": [],
      "collapsed_sections": [],
      "include_colab_link": true
    },
    "kernelspec": {
      "name": "python3",
      "display_name": "Python 3"
    },
    "accelerator": "GPU"
  },
  "cells": [
    {
      "cell_type": "markdown",
      "metadata": {
        "id": "view-in-github",
        "colab_type": "text"
      },
      "source": [
        "<a href=\"https://colab.research.google.com/github/nasirbashak/Plant-the-future/blob/master/LSTM_Bidirectional_model_for_Traffic_dataset.ipynb\" target=\"_parent\"><img src=\"https://colab.research.google.com/assets/colab-badge.svg\" alt=\"Open In Colab\"/></a>"
      ]
    },
    {
      "cell_type": "code",
      "metadata": {
        "id": "GNkzTFfynsmV",
        "colab_type": "code",
        "colab": {}
      },
      "source": [
        "#!pip install tensorflow==2.0.0b1\n",
        "!pip install tensorflow==2.1.0"
      ],
      "execution_count": 0,
      "outputs": []
    },
    {
      "cell_type": "code",
      "metadata": {
        "id": "56XEQOGknrAk",
        "colab_type": "code",
        "outputId": "46d8ca70-e07e-4ce7-f5e7-7d8d71a15d6e",
        "colab": {
          "base_uri": "https://localhost:8080/",
          "height": 34
        }
      },
      "source": [
        "import tensorflow as tf\n",
        "import numpy as np\n",
        "import matplotlib.pyplot as plt\n",
        "import pandas as pd\n",
        "print(tf.__version__)"
      ],
      "execution_count": 26,
      "outputs": [
        {
          "output_type": "stream",
          "text": [
            "2.1.0\n"
          ],
          "name": "stdout"
        }
      ]
    },
    {
      "cell_type": "code",
      "metadata": {
        "id": "sLl52leVp5wU",
        "colab_type": "code",
        "colab": {}
      },
      "source": [
        "def plot_series(time, series, format=\"-\", start=0, end=None):\n",
        "    plt.plot(time[start:end], series[start:end], format)\n",
        "    plt.xlabel(\"Time\")\n",
        "    plt.ylabel(\"Value\")\n",
        "    plt.grid(True)\n",
        "\n",
        "#normalizing data\n",
        "# Z-Score scaling or Standard Scaling\n",
        "# Output range [-3 to +3]\n",
        "def norm(x):\n",
        "  return (x - x.mean()) / x.std(), x.mean(), x.std()\n",
        "\n",
        "def windowed_dataset(series, window_size, batch_size, shuffle_buffer):\n",
        "    series = tf.expand_dims(series, axis=-1)\n",
        "    ds = tf.data.Dataset.from_tensor_slices(series)\n",
        "    ds = ds.window(window_size + 1, shift=1, drop_remainder=True)\n",
        "    ds = ds.flat_map(lambda w: w.batch(window_size + 1))\n",
        "    ds = ds.shuffle(shuffle_buffer)\n",
        "    ds = ds.map(lambda w: (w[:-1], w[1:]))\n",
        "    return ds.batch(batch_size).prefetch(1)\n",
        "\n",
        "def model_forecast(model, series, window_size):\n",
        "    ds = tf.data.Dataset.from_tensor_slices(series)\n",
        "    ds = ds.window(window_size, shift=1, drop_remainder=True)\n",
        "    ds = ds.flat_map(lambda w: w.batch(window_size))\n",
        "    ds = ds.batch(3).prefetch(1)\n",
        "    forecast = model.predict(ds)\n",
        "    return forecast\n",
        "\n"
      ],
      "execution_count": 0,
      "outputs": []
    },
    {
      "cell_type": "code",
      "metadata": {
        "id": "5orqkmFhr42S",
        "colab_type": "code",
        "outputId": "68d2633b-5eeb-4539-983c-b24ed8bff24d",
        "colab": {
          "base_uri": "https://localhost:8080/",
          "height": 224
        }
      },
      "source": [
        "df = pd.read_csv('TrafficDensity2000to2019.csv')\n",
        "df.head()"
      ],
      "execution_count": 31,
      "outputs": [
        {
          "output_type": "execute_result",
          "data": {
            "text/html": [
              "<div>\n",
              "<style scoped>\n",
              "    .dataframe tbody tr th:only-of-type {\n",
              "        vertical-align: middle;\n",
              "    }\n",
              "\n",
              "    .dataframe tbody tr th {\n",
              "        vertical-align: top;\n",
              "    }\n",
              "\n",
              "    .dataframe thead th {\n",
              "        text-align: right;\n",
              "    }\n",
              "</style>\n",
              "<table border=\"1\" class=\"dataframe\">\n",
              "  <thead>\n",
              "    <tr style=\"text-align: right;\">\n",
              "      <th></th>\n",
              "      <th>2000</th>\n",
              "      <th>2001</th>\n",
              "      <th>2002</th>\n",
              "      <th>2003</th>\n",
              "      <th>2004</th>\n",
              "      <th>2005</th>\n",
              "      <th>2006</th>\n",
              "      <th>2007</th>\n",
              "      <th>2008</th>\n",
              "      <th>2009</th>\n",
              "      <th>2010</th>\n",
              "      <th>2011</th>\n",
              "      <th>2012</th>\n",
              "      <th>2013</th>\n",
              "      <th>2014</th>\n",
              "      <th>2015</th>\n",
              "      <th>2016</th>\n",
              "      <th>2017</th>\n",
              "      <th>2018</th>\n",
              "      <th>2019</th>\n",
              "    </tr>\n",
              "  </thead>\n",
              "  <tbody>\n",
              "    <tr>\n",
              "      <th>0</th>\n",
              "      <td>18018</td>\n",
              "      <td>43257</td>\n",
              "      <td>4364</td>\n",
              "      <td>9948</td>\n",
              "      <td>15486</td>\n",
              "      <td>10824</td>\n",
              "      <td>11394</td>\n",
              "      <td>62040</td>\n",
              "      <td>139362</td>\n",
              "      <td>222630</td>\n",
              "      <td>252997</td>\n",
              "      <td>275822</td>\n",
              "      <td>341228</td>\n",
              "      <td>418053</td>\n",
              "      <td>456370</td>\n",
              "      <td>458760</td>\n",
              "      <td>436913</td>\n",
              "      <td>383336</td>\n",
              "      <td>366666</td>\n",
              "      <td>360215</td>\n",
              "    </tr>\n",
              "    <tr>\n",
              "      <th>1</th>\n",
              "      <td>199759</td>\n",
              "      <td>206274</td>\n",
              "      <td>197413</td>\n",
              "      <td>224211</td>\n",
              "      <td>246554</td>\n",
              "      <td>253461</td>\n",
              "      <td>268019</td>\n",
              "      <td>285571</td>\n",
              "      <td>321176</td>\n",
              "      <td>305794</td>\n",
              "      <td>302507</td>\n",
              "      <td>306456</td>\n",
              "      <td>316183</td>\n",
              "      <td>312025</td>\n",
              "      <td>321552</td>\n",
              "      <td>304690</td>\n",
              "      <td>347855</td>\n",
              "      <td>351027</td>\n",
              "      <td>402511</td>\n",
              "      <td>430174</td>\n",
              "    </tr>\n",
              "    <tr>\n",
              "      <th>2</th>\n",
              "      <td>31975</td>\n",
              "      <td>18508</td>\n",
              "      <td>50090</td>\n",
              "      <td>33138</td>\n",
              "      <td>3230</td>\n",
              "      <td>40469</td>\n",
              "      <td>77694</td>\n",
              "      <td>91859</td>\n",
              "      <td>95982</td>\n",
              "      <td>68764</td>\n",
              "      <td>32090</td>\n",
              "      <td>3793</td>\n",
              "      <td>36285</td>\n",
              "      <td>51176</td>\n",
              "      <td>27385</td>\n",
              "      <td>645</td>\n",
              "      <td>20132</td>\n",
              "      <td>61869</td>\n",
              "      <td>123441</td>\n",
              "      <td>138125</td>\n",
              "    </tr>\n",
              "    <tr>\n",
              "      <th>3</th>\n",
              "      <td>143344</td>\n",
              "      <td>202934</td>\n",
              "      <td>239277</td>\n",
              "      <td>261303</td>\n",
              "      <td>290123</td>\n",
              "      <td>294132</td>\n",
              "      <td>292993</td>\n",
              "      <td>300010</td>\n",
              "      <td>288019</td>\n",
              "      <td>267043</td>\n",
              "      <td>214461</td>\n",
              "      <td>176663</td>\n",
              "      <td>106045</td>\n",
              "      <td>39201</td>\n",
              "      <td>64827</td>\n",
              "      <td>111801</td>\n",
              "      <td>180004</td>\n",
              "      <td>222712</td>\n",
              "      <td>251049</td>\n",
              "      <td>263517</td>\n",
              "    </tr>\n",
              "    <tr>\n",
              "      <th>4</th>\n",
              "      <td>13344</td>\n",
              "      <td>132736</td>\n",
              "      <td>256770</td>\n",
              "      <td>326341</td>\n",
              "      <td>373479</td>\n",
              "      <td>400300</td>\n",
              "      <td>339817</td>\n",
              "      <td>354813</td>\n",
              "      <td>290336</td>\n",
              "      <td>246211</td>\n",
              "      <td>191379</td>\n",
              "      <td>169207</td>\n",
              "      <td>44706</td>\n",
              "      <td>96832</td>\n",
              "      <td>217791</td>\n",
              "      <td>297401</td>\n",
              "      <td>378743</td>\n",
              "      <td>428859</td>\n",
              "      <td>435385</td>\n",
              "      <td>477570</td>\n",
              "    </tr>\n",
              "  </tbody>\n",
              "</table>\n",
              "</div>"
            ],
            "text/plain": [
              "     2000    2001    2002    2003  ...    2016    2017    2018    2019\n",
              "0   18018   43257    4364    9948  ...  436913  383336  366666  360215\n",
              "1  199759  206274  197413  224211  ...  347855  351027  402511  430174\n",
              "2   31975   18508   50090   33138  ...   20132   61869  123441  138125\n",
              "3  143344  202934  239277  261303  ...  180004  222712  251049  263517\n",
              "4   13344  132736  256770  326341  ...  378743  428859  435385  477570\n",
              "\n",
              "[5 rows x 20 columns]"
            ]
          },
          "metadata": {
            "tags": []
          },
          "execution_count": 31
        }
      ]
    },
    {
      "cell_type": "code",
      "metadata": {
        "id": "XomJeXDYtMoM",
        "colab_type": "code",
        "outputId": "4c3be16d-8de7-4e7d-a175-22e9b466e16e",
        "colab": {
          "base_uri": "https://localhost:8080/",
          "height": 51
        }
      },
      "source": [
        "time = np.array(range(len(df.columns)))\n",
        "print(time[:],time.shape)\n",
        "series = np.array(df.iloc[10,:])\n",
        "print(series[:10],series.shape)\n",
        "\n"
      ],
      "execution_count": 32,
      "outputs": [
        {
          "output_type": "stream",
          "text": [
            "[ 0  1  2  3  4  5  6  7  8  9 10 11 12 13 14 15 16 17 18 19] (20,)\n",
            "[ 84621  21015  24739  67879 146544 186156 259504 242919 228264 243974] (20,)\n"
          ],
          "name": "stdout"
        }
      ]
    },
    {
      "cell_type": "code",
      "metadata": {
        "id": "vficwMmoryb4",
        "colab_type": "code",
        "outputId": "5354b023-f4c0-44dd-aabb-aa5e70c6d777",
        "colab": {
          "base_uri": "https://localhost:8080/",
          "height": 388
        }
      },
      "source": [
        "plt.figure(figsize=(10, 6))\n",
        "plot_series(time, series)"
      ],
      "execution_count": 33,
      "outputs": [
        {
          "output_type": "display_data",
          "data": {
            "image/png": "[encoded data removed]",
            "text/plain": [
              "<Figure size 720x432 with 1 Axes>"
            ]
          },
          "metadata": {
            "tags": []
          }
        }
      ]
    },
    {
      "cell_type": "code",
      "metadata": {
        "id": "L92YRw_IpCFG",
        "colab_type": "code",
        "colab": {}
      },
      "source": [
        "split_time = 20\n",
        "time_train = time[:split_time]\n",
        "x_train = series[:split_time]\n",
        "time_valid = time[split_time:]\n",
        "x_valid = series[split_time:]\n",
        "\n",
        "window_size = 3\n",
        "batch_size = 3\n",
        "shuffle_buffer_size = 10\n",
        "\n"
      ],
      "execution_count": 0,
      "outputs": []
    },
    {
      "cell_type": "code",
      "metadata": {
        "id": "sbyHY37uHJGs",
        "colab_type": "code",
        "colab": {}
      },
      "source": [
        "  \n",
        "normed_train_data, normed_train_mean, normed_train_std = norm(x_train)\n",
        "normed_valid_data, normed_valid_mean, normed_valid_std = norm(x_valid)"
      ],
      "execution_count": 0,
      "outputs": []
    },
    {
      "cell_type": "code",
      "metadata": {
        "id": "DaNABYvVHeuU",
        "colab_type": "code",
        "outputId": "c12ac2d3-2a2d-440b-fdb5-59fe4ee0d8b3",
        "colab": {
          "base_uri": "https://localhost:8080/",
          "height": 85
        }
      },
      "source": [
        "normed_train_data"
      ],
      "execution_count": 36,
      "outputs": [
        {
          "output_type": "execute_result",
          "data": {
            "text/plain": [
              "array([-0.4549311 , -1.24888234, -1.20239814, -0.66391031,  0.31801239,\n",
              "        0.81246255,  1.72801668,  1.5209972 ,  1.33806861,  1.53416606,\n",
              "        0.8912011 , -0.32253099, -1.06625334, -1.39556224, -1.1317731 ,\n",
              "       -0.47959618, -0.23847497, -0.42534797, -0.13877857,  0.62551465])"
            ]
          },
          "metadata": {
            "tags": []
          },
          "execution_count": 36
        }
      ]
    },
    {
      "cell_type": "code",
      "metadata": {
        "id": "lJwUUZscnG38",
        "colab_type": "code",
        "colab": {}
      },
      "source": [
        ""
      ],
      "execution_count": 0,
      "outputs": []
    },
    {
      "cell_type": "code",
      "metadata": {
        "id": "AclfYY3Mn6Ph",
        "colab_type": "code",
        "outputId": "14b614ac-75fd-4cfe-a617-febc28c3b8a5",
        "colab": {
          "base_uri": "https://localhost:8080/",
          "height": 1000
        }
      },
      "source": [
        "tf.keras.backend.clear_session()\n",
        "tf.random.set_seed(51)\n",
        "np.random.seed(51)\n",
        "window_size = 3\n",
        "batch_size = 3\n",
        "train_set = windowed_dataset(normed_train_data, window_size, batch_size, shuffle_buffer_size)\n",
        "print(train_set)\n",
        "print(normed_train_data.shape)\n",
        "\n",
        "model = tf.keras.models.Sequential([\n",
        "  #tf.keras.layers.Conv1D(filters=3, kernel_size=2,strides=1, padding=\"causal\",activation=\"relu\",input_shape=[None, 1]),\n",
        "  \n",
        "  tf.keras.layers.LSTM(3, return_sequences=True,input_shape=[None, 1]),\n",
        "  tf.keras.layers.Bidirectional(tf.keras.layers.LSTM(6, return_sequences=False)),\n",
        "  #tf.keras.layers.Dense(30, activation=\"relu\"),\n",
        "  tf.keras.layers.Dense(10, activation=\"relu\"),\n",
        "  tf.keras.layers.Dense(1),\n",
        "  tf.keras.layers.Lambda(lambda x: x * 100.0)\n",
        "])\n",
        "\n",
        "lr_schedule = tf.keras.callbacks.LearningRateScheduler(\n",
        "    lambda epoch: 1e-8 * 10**(epoch / 20))\n",
        "optimizer = tf.keras.optimizers.SGD(lr=1e-8, momentum=0.9)\n",
        "model.compile(loss=tf.keras.losses.Huber(),\n",
        "              optimizer=optimizer,\n",
        "              metrics=[\"mae\"])\n",
        "history = model.fit(train_set, epochs=100, callbacks=[lr_schedule])\n",
        "\n",
        "\n"
      ],
      "execution_count": 37,
      "outputs": [
        {
          "output_type": "stream",
          "text": [
            "<PrefetchDataset shapes: ((None, None, 1), (None, None, 1)), types: (tf.float64, tf.float64)>\n",
            "(20,)\n",
            "Epoch 1/100\n",
            "6/6 [==============================] - 8s 1s/step - loss: 1.3314 - mae: 1.7790\n",
            "Epoch 2/100\n",
            "6/6 [==============================] - 0s 9ms/step - loss: 1.2831 - mae: 1.7748\n",
            "Epoch 3/100\n",
            "6/6 [==============================] - 0s 9ms/step - loss: 1.2961 - mae: 1.7680\n",
            "Epoch 4/100\n",
            "6/6 [==============================] - 0s 8ms/step - loss: 1.2458 - mae: 1.7594\n",
            "Epoch 5/100\n",
            "6/6 [==============================] - 0s 9ms/step - loss: 1.3039 - mae: 1.7481\n",
            "Epoch 6/100\n",
            "6/6 [==============================] - 0s 9ms/step - loss: 1.2265 - mae: 1.7358\n",
            "Epoch 7/100\n",
            "6/6 [==============================] - 0s 9ms/step - loss: 1.2618 - mae: 1.7224\n",
            "Epoch 8/100\n",
            "6/6 [==============================] - 0s 9ms/step - loss: 1.2247 - mae: 1.7065\n",
            "Epoch 9/100\n",
            "6/6 [==============================] - 0s 9ms/step - loss: 1.2363 - mae: 1.6881\n",
            "Epoch 10/100\n",
            "6/6 [==============================] - 0s 9ms/step - loss: 1.1971 - mae: 1.6692\n",
            "Epoch 11/100\n",
            "6/6 [==============================] - 0s 9ms/step - loss: 1.1718 - mae: 1.6465\n",
            "Epoch 12/100\n",
            "6/6 [==============================] - 0s 9ms/step - loss: 1.1886 - mae: 1.6237\n",
            "Epoch 13/100\n",
            "6/6 [==============================] - 0s 9ms/step - loss: 1.1156 - mae: 1.5956\n",
            "Epoch 14/100\n",
            "6/6 [==============================] - 0s 9ms/step - loss: 1.0937 - mae: 1.5632\n",
            "Epoch 15/100\n",
            "6/6 [==============================] - 0s 9ms/step - loss: 1.0540 - mae: 1.5298\n",
            "Epoch 16/100\n",
            "6/6 [==============================] - 0s 9ms/step - loss: 1.0337 - mae: 1.4959\n",
            "Epoch 17/100\n",
            "6/6 [==============================] - 0s 10ms/step - loss: 1.0009 - mae: 1.4541\n",
            "Epoch 18/100\n",
            "6/6 [==============================] - 0s 9ms/step - loss: 0.9355 - mae: 1.4130\n",
            "Epoch 19/100\n",
            "6/6 [==============================] - 0s 10ms/step - loss: 0.8867 - mae: 1.3671\n",
            "Epoch 20/100\n",
            "6/6 [==============================] - 0s 10ms/step - loss: 0.8827 - mae: 1.3157\n",
            "Epoch 21/100\n",
            "6/6 [==============================] - 0s 10ms/step - loss: 0.8085 - mae: 1.2593\n",
            "Epoch 22/100\n",
            "6/6 [==============================] - 0s 9ms/step - loss: 0.7777 - mae: 1.1998\n",
            "Epoch 23/100\n",
            "6/6 [==============================] - 0s 9ms/step - loss: 0.7071 - mae: 1.1402\n",
            "Epoch 24/100\n",
            "6/6 [==============================] - 0s 9ms/step - loss: 0.6532 - mae: 1.0727\n",
            "Epoch 25/100\n",
            "6/6 [==============================] - 0s 9ms/step - loss: 0.5984 - mae: 1.0141\n",
            "Epoch 26/100\n",
            "6/6 [==============================] - 0s 9ms/step - loss: 0.5460 - mae: 0.9580\n",
            "Epoch 27/100\n",
            "6/6 [==============================] - 0s 9ms/step - loss: 0.5194 - mae: 0.9045\n",
            "Epoch 28/100\n",
            "6/6 [==============================] - 0s 9ms/step - loss: 0.4891 - mae: 0.8735\n",
            "Epoch 29/100\n",
            "6/6 [==============================] - 0s 9ms/step - loss: 0.4669 - mae: 0.8218\n",
            "Epoch 30/100\n",
            "6/6 [==============================] - 0s 9ms/step - loss: 0.4042 - mae: 0.7854\n",
            "Epoch 31/100\n",
            "6/6 [==============================] - 0s 9ms/step - loss: 0.3888 - mae: 0.7593\n",
            "Epoch 32/100\n",
            "6/6 [==============================] - 0s 10ms/step - loss: 0.3819 - mae: 0.7509\n",
            "Epoch 33/100\n",
            "6/6 [==============================] - 0s 9ms/step - loss: 0.3570 - mae: 0.7363\n",
            "Epoch 34/100\n",
            "6/6 [==============================] - 0s 8ms/step - loss: 0.3762 - mae: 0.7288\n",
            "Epoch 35/100\n",
            "6/6 [==============================] - 0s 9ms/step - loss: 0.3479 - mae: 0.7183\n",
            "Epoch 36/100\n",
            "6/6 [==============================] - 0s 9ms/step - loss: 0.3452 - mae: 0.7097\n",
            "Epoch 37/100\n",
            "6/6 [==============================] - 0s 9ms/step - loss: 0.3335 - mae: 0.7040\n",
            "Epoch 38/100\n",
            "6/6 [==============================] - 0s 9ms/step - loss: 0.3168 - mae: 0.6946\n",
            "Epoch 39/100\n",
            "6/6 [==============================] - 0s 9ms/step - loss: 0.3123 - mae: 0.6855\n",
            "Epoch 40/100\n",
            "6/6 [==============================] - 0s 9ms/step - loss: 0.3086 - mae: 0.6754\n",
            "Epoch 41/100\n",
            "6/6 [==============================] - 0s 9ms/step - loss: 0.3098 - mae: 0.6631\n",
            "Epoch 42/100\n",
            "6/6 [==============================] - 0s 10ms/step - loss: 0.2962 - mae: 0.6562\n",
            "Epoch 43/100\n",
            "6/6 [==============================] - 0s 9ms/step - loss: 0.2977 - mae: 0.6468\n",
            "Epoch 44/100\n",
            "6/6 [==============================] - 0s 9ms/step - loss: 0.2960 - mae: 0.6420\n",
            "Epoch 45/100\n",
            "6/6 [==============================] - 0s 9ms/step - loss: 0.2899 - mae: 0.6403\n",
            "Epoch 46/100\n",
            "6/6 [==============================] - 0s 8ms/step - loss: 0.2936 - mae: 0.6377\n",
            "Epoch 47/100\n",
            "6/6 [==============================] - 0s 9ms/step - loss: 0.2931 - mae: 0.6333\n",
            "Epoch 48/100\n",
            "6/6 [==============================] - 0s 8ms/step - loss: 0.2849 - mae: 0.6312\n",
            "Epoch 49/100\n",
            "6/6 [==============================] - 0s 9ms/step - loss: 0.2909 - mae: 0.6406\n",
            "Epoch 50/100\n",
            "6/6 [==============================] - 0s 9ms/step - loss: 0.2914 - mae: 0.6396\n",
            "Epoch 51/100\n",
            "6/6 [==============================] - 0s 9ms/step - loss: 0.2902 - mae: 0.6297\n",
            "Epoch 52/100\n",
            "6/6 [==============================] - 0s 9ms/step - loss: 0.2885 - mae: 0.6269\n",
            "Epoch 53/100\n",
            "6/6 [==============================] - 0s 11ms/step - loss: 0.2900 - mae: 0.6230\n",
            "Epoch 54/100\n",
            "6/6 [==============================] - 0s 10ms/step - loss: 0.3284 - mae: 0.6423\n",
            "Epoch 55/100\n",
            "6/6 [==============================] - 0s 10ms/step - loss: 0.2879 - mae: 0.6225\n",
            "Epoch 56/100\n",
            "6/6 [==============================] - 0s 9ms/step - loss: 0.3229 - mae: 0.6347\n",
            "Epoch 57/100\n",
            "6/6 [==============================] - 0s 9ms/step - loss: 0.2806 - mae: 0.6164\n",
            "Epoch 58/100\n",
            "6/6 [==============================] - 0s 9ms/step - loss: 0.2947 - mae: 0.6391\n",
            "Epoch 59/100\n",
            "6/6 [==============================] - 0s 9ms/step - loss: 0.2864 - mae: 0.6402\n",
            "Epoch 60/100\n",
            "6/6 [==============================] - 0s 8ms/step - loss: 0.2689 - mae: 0.6093\n",
            "Epoch 61/100\n",
            "6/6 [==============================] - 0s 10ms/step - loss: 0.2612 - mae: 0.6092\n",
            "Epoch 62/100\n",
            "6/6 [==============================] - 0s 9ms/step - loss: 0.2792 - mae: 0.6127\n",
            "Epoch 63/100\n",
            "6/6 [==============================] - 0s 9ms/step - loss: 0.2698 - mae: 0.5961\n",
            "Epoch 64/100\n",
            "6/6 [==============================] - 0s 9ms/step - loss: 0.2663 - mae: 0.6046\n",
            "Epoch 65/100\n",
            "6/6 [==============================] - 0s 9ms/step - loss: 0.2863 - mae: 0.6132\n",
            "Epoch 66/100\n",
            "6/6 [==============================] - 0s 9ms/step - loss: 0.2592 - mae: 0.5972\n",
            "Epoch 67/100\n",
            "6/6 [==============================] - 0s 9ms/step - loss: 0.2820 - mae: 0.5903\n",
            "Epoch 68/100\n",
            "6/6 [==============================] - 0s 9ms/step - loss: 0.2563 - mae: 0.6016\n",
            "Epoch 69/100\n",
            "6/6 [==============================] - 0s 9ms/step - loss: 0.2886 - mae: 0.6488\n",
            "Epoch 70/100\n",
            "6/6 [==============================] - 0s 10ms/step - loss: 0.2781 - mae: 0.6122\n",
            "Epoch 71/100\n",
            "6/6 [==============================] - 0s 9ms/step - loss: 0.2368 - mae: 0.5730\n",
            "Epoch 72/100\n",
            "6/6 [==============================] - 0s 9ms/step - loss: 0.2428 - mae: 0.5833\n",
            "Epoch 73/100\n",
            "6/6 [==============================] - 0s 10ms/step - loss: 0.2628 - mae: 0.5569\n",
            "Epoch 74/100\n",
            "6/6 [==============================] - 0s 9ms/step - loss: 0.3984 - mae: 0.7374\n",
            "Epoch 75/100\n",
            "6/6 [==============================] - 0s 9ms/step - loss: 0.2949 - mae: 0.6294\n",
            "Epoch 76/100\n",
            "6/6 [==============================] - 0s 10ms/step - loss: 0.3800 - mae: 0.7200\n",
            "Epoch 77/100\n",
            "6/6 [==============================] - 0s 9ms/step - loss: 0.2380 - mae: 0.5655\n",
            "Epoch 78/100\n",
            "6/6 [==============================] - 0s 9ms/step - loss: 0.3741 - mae: 0.7201\n",
            "Epoch 79/100\n",
            "6/6 [==============================] - 0s 9ms/step - loss: 0.4587 - mae: 0.8409\n",
            "Epoch 80/100\n",
            "6/6 [==============================] - 0s 9ms/step - loss: 0.6691 - mae: 1.0573\n",
            "Epoch 81/100\n",
            "6/6 [==============================] - 0s 9ms/step - loss: 1.2478 - mae: 1.7147\n",
            "Epoch 82/100\n",
            "6/6 [==============================] - 0s 9ms/step - loss: 1.2640 - mae: 1.7522\n",
            "Epoch 83/100\n",
            "6/6 [==============================] - 0s 9ms/step - loss: 1.0969 - mae: 1.5094\n",
            "Epoch 84/100\n",
            "6/6 [==============================] - 0s 9ms/step - loss: 2.2868 - mae: 2.8261\n",
            "Epoch 85/100\n",
            "6/6 [==============================] - 0s 11ms/step - loss: 1.8472 - mae: 2.3497\n",
            "Epoch 86/100\n",
            "6/6 [==============================] - 0s 11ms/step - loss: 1.9855 - mae: 2.3972\n",
            "Epoch 87/100\n",
            "6/6 [==============================] - 0s 11ms/step - loss: 1.9252 - mae: 2.3796\n",
            "Epoch 88/100\n",
            "6/6 [==============================] - 0s 9ms/step - loss: 0.8742 - mae: 1.3089\n",
            "Epoch 89/100\n",
            "6/6 [==============================] - 0s 9ms/step - loss: 1.1962 - mae: 1.6284\n",
            "Epoch 90/100\n",
            "6/6 [==============================] - 0s 9ms/step - loss: 0.7435 - mae: 1.1521\n",
            "Epoch 91/100\n",
            "6/6 [==============================] - 0s 8ms/step - loss: 0.6126 - mae: 1.0136\n",
            "Epoch 92/100\n",
            "6/6 [==============================] - 0s 9ms/step - loss: 1.3822 - mae: 1.8527\n",
            "Epoch 93/100\n",
            "6/6 [==============================] - 0s 10ms/step - loss: 0.5983 - mae: 0.9842\n",
            "Epoch 94/100\n",
            "6/6 [==============================] - 0s 10ms/step - loss: 2.3847 - mae: 2.8739\n",
            "Epoch 95/100\n",
            "6/6 [==============================] - 0s 9ms/step - loss: 4.8089 - mae: 5.4199\n",
            "Epoch 96/100\n",
            "6/6 [==============================] - 0s 9ms/step - loss: 5.8752 - mae: 6.3534\n",
            "Epoch 97/100\n",
            "6/6 [==============================] - 0s 9ms/step - loss: 6.2736 - mae: 6.7750\n",
            "Epoch 98/100\n",
            "6/6 [==============================] - 0s 9ms/step - loss: 3.2683 - mae: 3.7423\n",
            "Epoch 99/100\n",
            "6/6 [==============================] - 0s 9ms/step - loss: 3.3145 - mae: 3.7192\n",
            "Epoch 100/100\n",
            "6/6 [==============================] - 0s 9ms/step - loss: 4.3509 - mae: 4.9389\n"
          ],
          "name": "stdout"
        }
      ]
    },
    {
      "cell_type": "code",
      "metadata": {
        "id": "vVcKmg7Q_7rD",
        "colab_type": "code",
        "outputId": "b549d24f-cdce-4f5b-9f2e-1b26b71432b1",
        "colab": {
          "base_uri": "https://localhost:8080/",
          "height": 286
        }
      },
      "source": [
        "plt.semilogx(history.history[\"lr\"], history.history[\"loss\"])\n",
        "#plt.axis([1e-8, 1e-3, 100000, 140000])"
      ],
      "execution_count": 38,
      "outputs": [
        {
          "output_type": "execute_result",
          "data": {
            "text/plain": [
              "[<matplotlib.lines.Line2D at 0x7f9a7e4fabe0>]"
            ]
          },
          "metadata": {
            "tags": []
          },
          "execution_count": 38
        },
        {
          "output_type": "display_data",
          "data": {
            "image/png": "[encoded data removed]",
            "text/plain": [
              "<Figure size 432x288 with 1 Axes>"
            ]
          },
          "metadata": {
            "tags": []
          }
        }
      ]
    },
    {
      "cell_type": "code",
      "metadata": {
        "id": "bx0MwfD5D0yu",
        "colab_type": "code",
        "outputId": "ab2c18ea-b67f-48f2-bd37-837b974f5ee7",
        "colab": {
          "base_uri": "https://localhost:8080/",
          "height": 34
        }
      },
      "source": [
        "bestLr = history.history[\"lr\"][np.argmin(history.history[\"loss\"])]\n",
        "bestLr"
      ],
      "execution_count": 39,
      "outputs": [
        {
          "output_type": "execute_result",
          "data": {
            "text/plain": [
              "3.548134e-05"
            ]
          },
          "metadata": {
            "tags": []
          },
          "execution_count": 39
        }
      ]
    },
    {
      "cell_type": "code",
      "metadata": {
        "id": "QsksvkcXAAgq",
        "colab_type": "code",
        "colab": {}
      },
      "source": [
        "tf.keras.backend.clear_session()\n",
        "tf.random.set_seed(51)\n",
        "np.random.seed(51)\n",
        "train_set = windowed_dataset(normed_train_data, window_size=3, batch_size=3, shuffle_buffer=shuffle_buffer_size)\n",
        "\n",
        "\n",
        "model = tf.keras.models.Sequential([\n",
        "  #tf.keras.layers.Conv1D(filters=60, kernel_size=5,strides=1, padding=\"causal\",activation=\"relu\",input_shape=[None, 1]),\n",
        "  #tf.keras.layers.LSTM(60, return_sequences=True),\n",
        "  tf.keras.layers.LSTM(3, return_sequences=True,input_shape=[None, 1]),\n",
        "  tf.keras.layers.Bidirectional(tf.keras.layers.LSTM(6, return_sequences=False)),\n",
        "  #tf.keras.layers.Dense(30, activation=\"relu\"),\n",
        "  tf.keras.layers.Dense(10, activation=\"relu\"),\n",
        "  tf.keras.layers.Dense(1),\n",
        "  tf.keras.layers.Lambda(lambda x: x * 100)\n",
        "])\n",
        "\n",
        "\n",
        "optimizer = tf.keras.optimizers.SGD(lr=bestLr, momentum=0.9)\n",
        "model.compile(loss=tf.keras.losses.Huber(),\n",
        "              optimizer=optimizer,\n",
        "              metrics=[\"mae\"])\n"
      ],
      "execution_count": 0,
      "outputs": []
    },
    {
      "cell_type": "code",
      "metadata": {
        "id": "bbq_AmK2n36z",
        "colab_type": "code",
        "outputId": "881c986d-9f0f-4d0d-d695-1f5bc0b4ddeb",
        "colab": {
          "base_uri": "https://localhost:8080/",
          "height": 323
        }
      },
      "source": [
        "model.summary()"
      ],
      "execution_count": 41,
      "outputs": [
        {
          "output_type": "stream",
          "text": [
            "Model: \"sequential\"\n",
            "_________________________________________________________________\n",
            "Layer (type)                 Output Shape              Param #   \n",
            "=================================================================\n",
            "lstm (LSTM)                  (None, None, 3)           60        \n",
            "_________________________________________________________________\n",
            "bidirectional (Bidirectional (None, 12)                480       \n",
            "_________________________________________________________________\n",
            "dense (Dense)                (None, 10)                130       \n",
            "_________________________________________________________________\n",
            "dense_1 (Dense)              (None, 1)                 11        \n",
            "_________________________________________________________________\n",
            "lambda (Lambda)              (None, 1)                 0         \n",
            "=================================================================\n",
            "Total params: 681\n",
            "Trainable params: 681\n",
            "Non-trainable params: 0\n",
            "_________________________________________________________________\n"
          ],
          "name": "stdout"
        }
      ]
    },
    {
      "cell_type": "code",
      "metadata": {
        "id": "IIduCWnoEchB",
        "colab_type": "code",
        "outputId": "955d27bc-71b7-4455-8a6a-7060fc2e3f51",
        "colab": {
          "base_uri": "https://localhost:8080/",
          "height": 1000
        }
      },
      "source": [
        "history = model.fit(train_set,epochs=250)"
      ],
      "execution_count": 42,
      "outputs": [
        {
          "output_type": "stream",
          "text": [
            "Epoch 1/250\n",
            "6/6 [==============================] - 3s 454ms/step - loss: 0.6306 - mae: 1.0201\n",
            "Epoch 2/250\n",
            "6/6 [==============================] - 0s 9ms/step - loss: 0.4343 - mae: 0.7967\n",
            "Epoch 3/250\n",
            "6/6 [==============================] - 0s 9ms/step - loss: 0.4319 - mae: 0.8026\n",
            "Epoch 4/250\n",
            "6/6 [==============================] - 0s 9ms/step - loss: 0.4621 - mae: 0.8252\n",
            "Epoch 5/250\n",
            "6/6 [==============================] - 0s 10ms/step - loss: 0.3991 - mae: 0.8002\n",
            "Epoch 6/250\n",
            "6/6 [==============================] - 0s 10ms/step - loss: 0.5707 - mae: 0.9645\n",
            "Epoch 7/250\n",
            "6/6 [==============================] - 0s 10ms/step - loss: 0.5567 - mae: 0.9804\n",
            "Epoch 8/250\n",
            "6/6 [==============================] - 0s 10ms/step - loss: 0.2947 - mae: 0.6058\n",
            "Epoch 9/250\n",
            "6/6 [==============================] - 0s 9ms/step - loss: 0.3485 - mae: 0.6915\n",
            "Epoch 10/250\n",
            "6/6 [==============================] - 0s 9ms/step - loss: 0.2827 - mae: 0.6369\n",
            "Epoch 11/250\n",
            "6/6 [==============================] - 0s 9ms/step - loss: 0.2319 - mae: 0.5608\n",
            "Epoch 12/250\n",
            "6/6 [==============================] - 0s 10ms/step - loss: 0.3864 - mae: 0.7399\n",
            "Epoch 13/250\n",
            "6/6 [==============================] - 0s 9ms/step - loss: 0.4311 - mae: 0.8091\n",
            "Epoch 14/250\n",
            "6/6 [==============================] - 0s 9ms/step - loss: 0.3229 - mae: 0.7039\n",
            "Epoch 15/250\n",
            "6/6 [==============================] - 0s 9ms/step - loss: 0.4279 - mae: 0.8226\n",
            "Epoch 16/250\n",
            "6/6 [==============================] - 0s 9ms/step - loss: 0.3616 - mae: 0.7215\n",
            "Epoch 17/250\n",
            "6/6 [==============================] - 0s 9ms/step - loss: 0.4062 - mae: 0.7927\n",
            "Epoch 18/250\n",
            "6/6 [==============================] - 0s 9ms/step - loss: 0.3263 - mae: 0.6694\n",
            "Epoch 19/250\n",
            "6/6 [==============================] - 0s 9ms/step - loss: 0.2202 - mae: 0.5247\n",
            "Epoch 20/250\n",
            "6/6 [==============================] - 0s 10ms/step - loss: 0.2744 - mae: 0.5962\n",
            "Epoch 21/250\n",
            "6/6 [==============================] - 0s 9ms/step - loss: 0.2324 - mae: 0.5478\n",
            "Epoch 22/250\n",
            "6/6 [==============================] - 0s 9ms/step - loss: 0.2682 - mae: 0.6200\n",
            "Epoch 23/250\n",
            "6/6 [==============================] - 0s 9ms/step - loss: 0.4644 - mae: 0.8520\n",
            "Epoch 24/250\n",
            "6/6 [==============================] - 0s 10ms/step - loss: 0.3184 - mae: 0.6963\n",
            "Epoch 25/250\n",
            "6/6 [==============================] - 0s 12ms/step - loss: 0.3470 - mae: 0.6850\n",
            "Epoch 26/250\n",
            "6/6 [==============================] - 0s 9ms/step - loss: 0.3128 - mae: 0.6427\n",
            "Epoch 27/250\n",
            "6/6 [==============================] - 0s 9ms/step - loss: 0.2579 - mae: 0.6192\n",
            "Epoch 28/250\n",
            "6/6 [==============================] - 0s 9ms/step - loss: 0.3183 - mae: 0.6386\n",
            "Epoch 29/250\n",
            "6/6 [==============================] - 0s 8ms/step - loss: 0.3999 - mae: 0.7506\n",
            "Epoch 30/250\n",
            "6/6 [==============================] - 0s 9ms/step - loss: 0.3181 - mae: 0.6696\n",
            "Epoch 31/250\n",
            "6/6 [==============================] - 0s 9ms/step - loss: 0.2781 - mae: 0.6554\n",
            "Epoch 32/250\n",
            "6/6 [==============================] - 0s 9ms/step - loss: 0.1906 - mae: 0.4771\n",
            "Epoch 33/250\n",
            "6/6 [==============================] - 0s 8ms/step - loss: 0.1889 - mae: 0.4534\n",
            "Epoch 34/250\n",
            "6/6 [==============================] - 0s 10ms/step - loss: 0.1725 - mae: 0.4553\n",
            "Epoch 35/250\n",
            "6/6 [==============================] - 0s 9ms/step - loss: 0.1843 - mae: 0.4882\n",
            "Epoch 36/250\n",
            "6/6 [==============================] - 0s 9ms/step - loss: 0.1462 - mae: 0.4311\n",
            "Epoch 37/250\n",
            "6/6 [==============================] - 0s 9ms/step - loss: 0.2080 - mae: 0.4857\n",
            "Epoch 38/250\n",
            "6/6 [==============================] - 0s 9ms/step - loss: 0.1948 - mae: 0.5234\n",
            "Epoch 39/250\n",
            "6/6 [==============================] - 0s 8ms/step - loss: 0.2502 - mae: 0.6044\n",
            "Epoch 40/250\n",
            "6/6 [==============================] - 0s 9ms/step - loss: 0.3515 - mae: 0.7160\n",
            "Epoch 41/250\n",
            "6/6 [==============================] - 0s 10ms/step - loss: 0.3433 - mae: 0.7127\n",
            "Epoch 42/250\n",
            "6/6 [==============================] - 0s 9ms/step - loss: 0.6253 - mae: 1.0520\n",
            "Epoch 43/250\n",
            "6/6 [==============================] - 0s 11ms/step - loss: 0.6562 - mae: 1.1048\n",
            "Epoch 44/250\n",
            "6/6 [==============================] - 0s 10ms/step - loss: 0.5250 - mae: 0.9315\n",
            "Epoch 45/250\n",
            "6/6 [==============================] - 0s 9ms/step - loss: 0.2753 - mae: 0.6783\n",
            "Epoch 46/250\n",
            "6/6 [==============================] - 0s 10ms/step - loss: 0.3916 - mae: 0.7773\n",
            "Epoch 47/250\n",
            "6/6 [==============================] - 0s 9ms/step - loss: 0.3018 - mae: 0.6592\n",
            "Epoch 48/250\n",
            "6/6 [==============================] - 0s 9ms/step - loss: 0.3210 - mae: 0.6944\n",
            "Epoch 49/250\n",
            "6/6 [==============================] - 0s 9ms/step - loss: 0.2376 - mae: 0.5973\n",
            "Epoch 50/250\n",
            "6/6 [==============================] - 0s 9ms/step - loss: 0.2225 - mae: 0.4994\n",
            "Epoch 51/250\n",
            "6/6 [==============================] - 0s 9ms/step - loss: 0.2371 - mae: 0.5618\n",
            "Epoch 52/250\n",
            "6/6 [==============================] - 0s 9ms/step - loss: 0.2066 - mae: 0.5237\n",
            "Epoch 53/250\n",
            "6/6 [==============================] - 0s 9ms/step - loss: 0.2468 - mae: 0.5421\n",
            "Epoch 54/250\n",
            "6/6 [==============================] - 0s 9ms/step - loss: 0.2293 - mae: 0.5554\n",
            "Epoch 55/250\n",
            "6/6 [==============================] - 0s 9ms/step - loss: 0.1696 - mae: 0.4517\n",
            "Epoch 56/250\n",
            "6/6 [==============================] - 0s 9ms/step - loss: 0.3066 - mae: 0.6264\n",
            "Epoch 57/250\n",
            "6/6 [==============================] - 0s 9ms/step - loss: 0.3002 - mae: 0.6729\n",
            "Epoch 58/250\n",
            "6/6 [==============================] - 0s 9ms/step - loss: 0.3108 - mae: 0.5969\n",
            "Epoch 59/250\n",
            "6/6 [==============================] - 0s 9ms/step - loss: 0.2334 - mae: 0.5614\n",
            "Epoch 60/250\n",
            "6/6 [==============================] - 0s 10ms/step - loss: 0.2704 - mae: 0.6049\n",
            "Epoch 61/250\n",
            "6/6 [==============================] - 0s 12ms/step - loss: 0.2473 - mae: 0.5619\n",
            "Epoch 62/250\n",
            "6/6 [==============================] - 0s 10ms/step - loss: 0.3538 - mae: 0.7358\n",
            "Epoch 63/250\n",
            "6/6 [==============================] - 0s 10ms/step - loss: 0.1979 - mae: 0.5185\n",
            "Epoch 64/250\n",
            "6/6 [==============================] - 0s 9ms/step - loss: 0.3625 - mae: 0.6928\n",
            "Epoch 65/250\n",
            "6/6 [==============================] - 0s 9ms/step - loss: 0.2893 - mae: 0.6077\n",
            "Epoch 66/250\n",
            "6/6 [==============================] - 0s 9ms/step - loss: 0.1993 - mae: 0.4719\n",
            "Epoch 67/250\n",
            "6/6 [==============================] - 0s 9ms/step - loss: 0.1844 - mae: 0.4799\n",
            "Epoch 68/250\n",
            "6/6 [==============================] - 0s 9ms/step - loss: 0.1568 - mae: 0.4487\n",
            "Epoch 69/250\n",
            "6/6 [==============================] - 0s 9ms/step - loss: 0.1771 - mae: 0.4789\n",
            "Epoch 70/250\n",
            "6/6 [==============================] - 0s 9ms/step - loss: 0.1774 - mae: 0.4625\n",
            "Epoch 71/250\n",
            "6/6 [==============================] - 0s 9ms/step - loss: 0.1545 - mae: 0.4494\n",
            "Epoch 72/250\n",
            "6/6 [==============================] - 0s 9ms/step - loss: 0.1604 - mae: 0.4434\n",
            "Epoch 73/250\n",
            "6/6 [==============================] - 0s 9ms/step - loss: 0.1778 - mae: 0.4520\n",
            "Epoch 74/250\n",
            "6/6 [==============================] - 0s 8ms/step - loss: 0.1742 - mae: 0.4561\n",
            "Epoch 75/250\n",
            "6/6 [==============================] - 0s 9ms/step - loss: 0.1594 - mae: 0.4111\n",
            "Epoch 76/250\n",
            "6/6 [==============================] - 0s 9ms/step - loss: 0.1872 - mae: 0.4781\n",
            "Epoch 77/250\n",
            "6/6 [==============================] - 0s 9ms/step - loss: 0.1793 - mae: 0.4751\n",
            "Epoch 78/250\n",
            "6/6 [==============================] - 0s 9ms/step - loss: 0.1774 - mae: 0.4670\n",
            "Epoch 79/250\n",
            "6/6 [==============================] - 0s 11ms/step - loss: 0.2424 - mae: 0.5495\n",
            "Epoch 80/250\n",
            "6/6 [==============================] - 0s 9ms/step - loss: 0.2871 - mae: 0.6188\n",
            "Epoch 81/250\n",
            "6/6 [==============================] - 0s 10ms/step - loss: 0.2765 - mae: 0.6433\n",
            "Epoch 82/250\n",
            "6/6 [==============================] - 0s 9ms/step - loss: 0.1704 - mae: 0.4322\n",
            "Epoch 83/250\n",
            "6/6 [==============================] - 0s 9ms/step - loss: 0.1576 - mae: 0.4399\n",
            "Epoch 84/250\n",
            "6/6 [==============================] - 0s 10ms/step - loss: 0.1737 - mae: 0.4742\n",
            "Epoch 85/250\n",
            "6/6 [==============================] - 0s 10ms/step - loss: 0.1506 - mae: 0.4364\n",
            "Epoch 86/250\n",
            "6/6 [==============================] - 0s 9ms/step - loss: 0.1714 - mae: 0.4551\n",
            "Epoch 87/250\n",
            "6/6 [==============================] - 0s 9ms/step - loss: 0.2037 - mae: 0.5273\n",
            "Epoch 88/250\n",
            "6/6 [==============================] - 0s 9ms/step - loss: 0.2485 - mae: 0.5844\n",
            "Epoch 89/250\n",
            "6/6 [==============================] - 0s 9ms/step - loss: 0.2455 - mae: 0.5318\n",
            "Epoch 90/250\n",
            "6/6 [==============================] - 0s 10ms/step - loss: 0.2928 - mae: 0.6659\n",
            "Epoch 91/250\n",
            "6/6 [==============================] - 0s 10ms/step - loss: 0.3380 - mae: 0.6834\n",
            "Epoch 92/250\n",
            "6/6 [==============================] - 0s 9ms/step - loss: 0.2955 - mae: 0.6259\n",
            "Epoch 93/250\n",
            "6/6 [==============================] - 0s 10ms/step - loss: 0.2516 - mae: 0.5973\n",
            "Epoch 94/250\n",
            "6/6 [==============================] - 0s 10ms/step - loss: 0.1927 - mae: 0.5010\n",
            "Epoch 95/250\n",
            "6/6 [==============================] - 0s 9ms/step - loss: 0.1475 - mae: 0.4305\n",
            "Epoch 96/250\n",
            "6/6 [==============================] - 0s 10ms/step - loss: 0.1496 - mae: 0.4568\n",
            "Epoch 97/250\n",
            "6/6 [==============================] - 0s 10ms/step - loss: 0.1544 - mae: 0.4385\n",
            "Epoch 98/250\n",
            "6/6 [==============================] - 0s 9ms/step - loss: 0.1682 - mae: 0.4404\n",
            "Epoch 99/250\n",
            "6/6 [==============================] - 0s 9ms/step - loss: 0.2089 - mae: 0.5175\n",
            "Epoch 100/250\n",
            "6/6 [==============================] - 0s 9ms/step - loss: 0.2485 - mae: 0.5700\n",
            "Epoch 101/250\n",
            "6/6 [==============================] - 0s 9ms/step - loss: 0.2535 - mae: 0.5742\n",
            "Epoch 102/250\n",
            "6/6 [==============================] - 0s 9ms/step - loss: 0.1748 - mae: 0.4758\n",
            "Epoch 103/250\n",
            "6/6 [==============================] - 0s 9ms/step - loss: 0.1529 - mae: 0.4533\n",
            "Epoch 104/250\n",
            "6/6 [==============================] - 0s 9ms/step - loss: 0.1431 - mae: 0.4160\n",
            "Epoch 105/250\n",
            "6/6 [==============================] - 0s 9ms/step - loss: 0.1442 - mae: 0.4104\n",
            "Epoch 106/250\n",
            "6/6 [==============================] - 0s 9ms/step - loss: 0.1550 - mae: 0.4536\n",
            "Epoch 107/250\n",
            "6/6 [==============================] - 0s 9ms/step - loss: 0.1449 - mae: 0.4369\n",
            "Epoch 108/250\n",
            "6/6 [==============================] - 0s 9ms/step - loss: 0.1496 - mae: 0.4369\n",
            "Epoch 109/250\n",
            "6/6 [==============================] - 0s 9ms/step - loss: 0.1592 - mae: 0.4426\n",
            "Epoch 110/250\n",
            "6/6 [==============================] - 0s 9ms/step - loss: 0.1818 - mae: 0.4823\n",
            "Epoch 111/250\n",
            "6/6 [==============================] - 0s 9ms/step - loss: 0.1772 - mae: 0.4448\n",
            "Epoch 112/250\n",
            "6/6 [==============================] - 0s 9ms/step - loss: 0.2601 - mae: 0.5944\n",
            "Epoch 113/250\n",
            "6/6 [==============================] - 0s 9ms/step - loss: 0.1756 - mae: 0.4747\n",
            "Epoch 114/250\n",
            "6/6 [==============================] - 0s 10ms/step - loss: 0.2365 - mae: 0.5427\n",
            "Epoch 115/250\n",
            "6/6 [==============================] - 0s 11ms/step - loss: 0.2277 - mae: 0.5691\n",
            "Epoch 116/250\n",
            "6/6 [==============================] - 0s 10ms/step - loss: 0.3427 - mae: 0.6720\n",
            "Epoch 117/250\n",
            "6/6 [==============================] - 0s 9ms/step - loss: 0.1985 - mae: 0.5082\n",
            "Epoch 118/250\n",
            "6/6 [==============================] - 0s 9ms/step - loss: 0.2097 - mae: 0.5348\n",
            "Epoch 119/250\n",
            "6/6 [==============================] - 0s 9ms/step - loss: 0.2014 - mae: 0.5063\n",
            "Epoch 120/250\n",
            "6/6 [==============================] - 0s 10ms/step - loss: 0.1990 - mae: 0.4794\n",
            "Epoch 121/250\n",
            "6/6 [==============================] - 0s 9ms/step - loss: 0.2930 - mae: 0.6357\n",
            "Epoch 122/250\n",
            "6/6 [==============================] - 0s 9ms/step - loss: 0.1955 - mae: 0.5051\n",
            "Epoch 123/250\n",
            "6/6 [==============================] - 0s 9ms/step - loss: 0.2351 - mae: 0.5228\n",
            "Epoch 124/250\n",
            "6/6 [==============================] - 0s 9ms/step - loss: 0.1595 - mae: 0.4320\n",
            "Epoch 125/250\n",
            "6/6 [==============================] - 0s 9ms/step - loss: 0.2624 - mae: 0.6210\n",
            "Epoch 126/250\n",
            "6/6 [==============================] - 0s 9ms/step - loss: 0.2973 - mae: 0.6633\n",
            "Epoch 127/250\n",
            "6/6 [==============================] - 0s 9ms/step - loss: 0.1955 - mae: 0.4787\n",
            "Epoch 128/250\n",
            "6/6 [==============================] - 0s 9ms/step - loss: 0.1679 - mae: 0.4221\n",
            "Epoch 129/250\n",
            "6/6 [==============================] - 0s 9ms/step - loss: 0.1983 - mae: 0.5415\n",
            "Epoch 130/250\n",
            "6/6 [==============================] - 0s 13ms/step - loss: 0.2346 - mae: 0.5431\n",
            "Epoch 131/250\n",
            "6/6 [==============================] - 0s 10ms/step - loss: 0.2539 - mae: 0.5994\n",
            "Epoch 132/250\n",
            "6/6 [==============================] - 0s 10ms/step - loss: 0.2588 - mae: 0.5953\n",
            "Epoch 133/250\n",
            "6/6 [==============================] - 0s 11ms/step - loss: 0.3711 - mae: 0.7176\n",
            "Epoch 134/250\n",
            "6/6 [==============================] - 0s 10ms/step - loss: 0.2944 - mae: 0.6867\n",
            "Epoch 135/250\n",
            "6/6 [==============================] - 0s 9ms/step - loss: 0.2823 - mae: 0.6341\n",
            "Epoch 136/250\n",
            "6/6 [==============================] - 0s 9ms/step - loss: 0.3206 - mae: 0.6669\n",
            "Epoch 137/250\n",
            "6/6 [==============================] - 0s 9ms/step - loss: 0.1852 - mae: 0.5040\n",
            "Epoch 138/250\n",
            "6/6 [==============================] - 0s 9ms/step - loss: 0.1625 - mae: 0.4991\n",
            "Epoch 139/250\n",
            "6/6 [==============================] - 0s 10ms/step - loss: 0.2130 - mae: 0.4415\n",
            "Epoch 140/250\n",
            "6/6 [==============================] - 0s 10ms/step - loss: 0.2054 - mae: 0.4929\n",
            "Epoch 141/250\n",
            "6/6 [==============================] - 0s 9ms/step - loss: 0.1815 - mae: 0.5034\n",
            "Epoch 142/250\n",
            "6/6 [==============================] - 0s 9ms/step - loss: 0.2596 - mae: 0.6170\n",
            "Epoch 143/250\n",
            "6/6 [==============================] - 0s 9ms/step - loss: 0.1932 - mae: 0.4840\n",
            "Epoch 144/250\n",
            "6/6 [==============================] - 0s 9ms/step - loss: 0.1571 - mae: 0.4307\n",
            "Epoch 145/250\n",
            "6/6 [==============================] - 0s 9ms/step - loss: 0.1823 - mae: 0.4785\n",
            "Epoch 146/250\n",
            "6/6 [==============================] - 0s 9ms/step - loss: 0.1635 - mae: 0.4795\n",
            "Epoch 147/250\n",
            "6/6 [==============================] - 0s 9ms/step - loss: 0.1593 - mae: 0.4480\n",
            "Epoch 148/250\n",
            "6/6 [==============================] - 0s 9ms/step - loss: 0.2187 - mae: 0.5376\n",
            "Epoch 149/250\n",
            "6/6 [==============================] - 0s 9ms/step - loss: 0.2116 - mae: 0.5284\n",
            "Epoch 150/250\n",
            "6/6 [==============================] - 0s 9ms/step - loss: 0.1548 - mae: 0.4229\n",
            "Epoch 151/250\n",
            "6/6 [==============================] - 0s 11ms/step - loss: 0.1563 - mae: 0.4277\n",
            "Epoch 152/250\n",
            "6/6 [==============================] - 0s 9ms/step - loss: 0.1552 - mae: 0.4403\n",
            "Epoch 153/250\n",
            "6/6 [==============================] - 0s 10ms/step - loss: 0.1872 - mae: 0.4871\n",
            "Epoch 154/250\n",
            "6/6 [==============================] - 0s 9ms/step - loss: 0.1608 - mae: 0.4477\n",
            "Epoch 155/250\n",
            "6/6 [==============================] - 0s 9ms/step - loss: 0.1611 - mae: 0.4300\n",
            "Epoch 156/250\n",
            "6/6 [==============================] - 0s 9ms/step - loss: 0.1408 - mae: 0.4324\n",
            "Epoch 157/250\n",
            "6/6 [==============================] - 0s 9ms/step - loss: 0.1416 - mae: 0.4202\n",
            "Epoch 158/250\n",
            "6/6 [==============================] - 0s 9ms/step - loss: 0.1552 - mae: 0.4261\n",
            "Epoch 159/250\n",
            "6/6 [==============================] - 0s 9ms/step - loss: 0.1533 - mae: 0.4540\n",
            "Epoch 160/250\n",
            "6/6 [==============================] - 0s 9ms/step - loss: 0.1846 - mae: 0.4450\n",
            "Epoch 161/250\n",
            "6/6 [==============================] - 0s 10ms/step - loss: 0.1917 - mae: 0.4872\n",
            "Epoch 162/250\n",
            "6/6 [==============================] - 0s 9ms/step - loss: 0.1782 - mae: 0.4538\n",
            "Epoch 163/250\n",
            "6/6 [==============================] - 0s 9ms/step - loss: 0.1579 - mae: 0.4172\n",
            "Epoch 164/250\n",
            "6/6 [==============================] - 0s 9ms/step - loss: 0.1734 - mae: 0.4746\n",
            "Epoch 165/250\n",
            "6/6 [==============================] - 0s 9ms/step - loss: 0.2126 - mae: 0.5377\n",
            "Epoch 166/250\n",
            "6/6 [==============================] - 0s 9ms/step - loss: 0.1484 - mae: 0.4531\n",
            "Epoch 167/250\n",
            "6/6 [==============================] - 0s 10ms/step - loss: 0.1582 - mae: 0.4391\n",
            "Epoch 168/250\n",
            "6/6 [==============================] - 0s 9ms/step - loss: 0.1374 - mae: 0.3935\n",
            "Epoch 169/250\n",
            "6/6 [==============================] - 0s 11ms/step - loss: 0.1591 - mae: 0.4352\n",
            "Epoch 170/250\n",
            "6/6 [==============================] - 0s 9ms/step - loss: 0.1720 - mae: 0.4959\n",
            "Epoch 171/250\n",
            "6/6 [==============================] - 0s 9ms/step - loss: 0.2429 - mae: 0.5217\n",
            "Epoch 172/250\n",
            "6/6 [==============================] - 0s 9ms/step - loss: 0.2031 - mae: 0.4853\n",
            "Epoch 173/250\n",
            "6/6 [==============================] - 0s 9ms/step - loss: 0.2728 - mae: 0.6068\n",
            "Epoch 174/250\n",
            "6/6 [==============================] - 0s 9ms/step - loss: 0.2097 - mae: 0.5373\n",
            "Epoch 175/250\n",
            "6/6 [==============================] - 0s 9ms/step - loss: 0.1921 - mae: 0.4913\n",
            "Epoch 176/250\n",
            "6/6 [==============================] - 0s 9ms/step - loss: 0.2156 - mae: 0.5464\n",
            "Epoch 177/250\n",
            "6/6 [==============================] - 0s 9ms/step - loss: 0.1772 - mae: 0.4484\n",
            "Epoch 178/250\n",
            "6/6 [==============================] - 0s 9ms/step - loss: 0.2270 - mae: 0.5635\n",
            "Epoch 179/250\n",
            "6/6 [==============================] - 0s 9ms/step - loss: 0.2175 - mae: 0.5365\n",
            "Epoch 180/250\n",
            "6/6 [==============================] - 0s 9ms/step - loss: 0.1789 - mae: 0.4975\n",
            "Epoch 181/250\n",
            "6/6 [==============================] - 0s 9ms/step - loss: 0.1809 - mae: 0.4536\n",
            "Epoch 182/250\n",
            "6/6 [==============================] - 0s 9ms/step - loss: 0.2359 - mae: 0.5479\n",
            "Epoch 183/250\n",
            "6/6 [==============================] - 0s 9ms/step - loss: 0.1956 - mae: 0.5223\n",
            "Epoch 184/250\n",
            "6/6 [==============================] - 0s 10ms/step - loss: 0.1590 - mae: 0.4308\n",
            "Epoch 185/250\n",
            "6/6 [==============================] - 0s 9ms/step - loss: 0.1592 - mae: 0.4545\n",
            "Epoch 186/250\n",
            "6/6 [==============================] - 0s 11ms/step - loss: 0.1993 - mae: 0.4981\n",
            "Epoch 187/250\n",
            "6/6 [==============================] - 0s 12ms/step - loss: 0.2898 - mae: 0.6313\n",
            "Epoch 188/250\n",
            "6/6 [==============================] - 0s 10ms/step - loss: 0.2084 - mae: 0.4930\n",
            "Epoch 189/250\n",
            "6/6 [==============================] - 0s 10ms/step - loss: 0.1516 - mae: 0.4269\n",
            "Epoch 190/250\n",
            "6/6 [==============================] - 0s 10ms/step - loss: 0.1592 - mae: 0.4475\n",
            "Epoch 191/250\n",
            "6/6 [==============================] - 0s 10ms/step - loss: 0.2132 - mae: 0.5070\n",
            "Epoch 192/250\n",
            "6/6 [==============================] - 0s 10ms/step - loss: 0.1443 - mae: 0.4418\n",
            "Epoch 193/250\n",
            "6/6 [==============================] - 0s 11ms/step - loss: 0.1840 - mae: 0.4838\n",
            "Epoch 194/250\n",
            "6/6 [==============================] - 0s 11ms/step - loss: 0.1563 - mae: 0.4458\n",
            "Epoch 195/250\n",
            "6/6 [==============================] - 0s 10ms/step - loss: 0.1535 - mae: 0.4433\n",
            "Epoch 196/250\n",
            "6/6 [==============================] - 0s 10ms/step - loss: 0.1649 - mae: 0.4550\n",
            "Epoch 197/250\n",
            "6/6 [==============================] - 0s 11ms/step - loss: 0.1402 - mae: 0.4164\n",
            "Epoch 198/250\n",
            "6/6 [==============================] - 0s 11ms/step - loss: 0.1328 - mae: 0.4207\n",
            "Epoch 199/250\n",
            "6/6 [==============================] - 0s 10ms/step - loss: 0.1366 - mae: 0.4194\n",
            "Epoch 200/250\n",
            "6/6 [==============================] - 0s 10ms/step - loss: 0.1362 - mae: 0.4226\n",
            "Epoch 201/250\n",
            "6/6 [==============================] - 0s 10ms/step - loss: 0.1528 - mae: 0.4231\n",
            "Epoch 202/250\n",
            "6/6 [==============================] - 0s 11ms/step - loss: 0.1616 - mae: 0.4264\n",
            "Epoch 203/250\n",
            "6/6 [==============================] - 0s 11ms/step - loss: 0.1351 - mae: 0.3912\n",
            "Epoch 204/250\n",
            "6/6 [==============================] - 0s 9ms/step - loss: 0.1874 - mae: 0.5042\n",
            "Epoch 205/250\n",
            "6/6 [==============================] - 0s 10ms/step - loss: 0.2073 - mae: 0.5233\n",
            "Epoch 206/250\n",
            "6/6 [==============================] - 0s 10ms/step - loss: 0.1793 - mae: 0.4798\n",
            "Epoch 207/250\n",
            "6/6 [==============================] - 0s 10ms/step - loss: 0.1483 - mae: 0.4105\n",
            "Epoch 208/250\n",
            "6/6 [==============================] - 0s 10ms/step - loss: 0.1433 - mae: 0.4122\n",
            "Epoch 209/250\n",
            "6/6 [==============================] - 0s 10ms/step - loss: 0.1331 - mae: 0.4334\n",
            "Epoch 210/250\n",
            "6/6 [==============================] - 0s 9ms/step - loss: 0.1453 - mae: 0.4122\n",
            "Epoch 211/250\n",
            "6/6 [==============================] - 0s 9ms/step - loss: 0.1484 - mae: 0.4298\n",
            "Epoch 212/250\n",
            "6/6 [==============================] - 0s 9ms/step - loss: 0.1983 - mae: 0.5168\n",
            "Epoch 213/250\n",
            "6/6 [==============================] - 0s 10ms/step - loss: 0.1584 - mae: 0.4585\n",
            "Epoch 214/250\n",
            "6/6 [==============================] - 0s 10ms/step - loss: 0.1640 - mae: 0.4334\n",
            "Epoch 215/250\n",
            "6/6 [==============================] - 0s 10ms/step - loss: 0.1488 - mae: 0.4201\n",
            "Epoch 216/250\n",
            "6/6 [==============================] - 0s 10ms/step - loss: 0.1861 - mae: 0.4630\n",
            "Epoch 217/250\n",
            "6/6 [==============================] - 0s 10ms/step - loss: 0.1851 - mae: 0.4773\n",
            "Epoch 218/250\n",
            "6/6 [==============================] - 0s 9ms/step - loss: 0.2416 - mae: 0.5777\n",
            "Epoch 219/250\n",
            "6/6 [==============================] - 0s 9ms/step - loss: 0.2074 - mae: 0.5080\n",
            "Epoch 220/250\n",
            "6/6 [==============================] - 0s 10ms/step - loss: 0.2261 - mae: 0.5463\n",
            "Epoch 221/250\n",
            "6/6 [==============================] - 0s 10ms/step - loss: 0.1666 - mae: 0.4615\n",
            "Epoch 222/250\n",
            "6/6 [==============================] - 0s 9ms/step - loss: 0.3240 - mae: 0.6798\n",
            "Epoch 223/250\n",
            "6/6 [==============================] - 0s 9ms/step - loss: 0.2574 - mae: 0.6523\n",
            "Epoch 224/250\n",
            "6/6 [==============================] - 0s 9ms/step - loss: 0.1654 - mae: 0.4459\n",
            "Epoch 225/250\n",
            "6/6 [==============================] - 0s 9ms/step - loss: 0.1873 - mae: 0.4590\n",
            "Epoch 226/250\n",
            "6/6 [==============================] - 0s 9ms/step - loss: 0.2824 - mae: 0.6471\n",
            "Epoch 227/250\n",
            "6/6 [==============================] - 0s 10ms/step - loss: 0.1734 - mae: 0.4772\n",
            "Epoch 228/250\n",
            "6/6 [==============================] - 0s 9ms/step - loss: 0.1810 - mae: 0.4545\n",
            "Epoch 229/250\n",
            "6/6 [==============================] - 0s 9ms/step - loss: 0.1314 - mae: 0.3973\n",
            "Epoch 230/250\n",
            "6/6 [==============================] - 0s 9ms/step - loss: 0.1547 - mae: 0.4878\n",
            "Epoch 231/250\n",
            "6/6 [==============================] - 0s 9ms/step - loss: 0.1504 - mae: 0.4372\n",
            "Epoch 232/250\n",
            "6/6 [==============================] - 0s 9ms/step - loss: 0.1442 - mae: 0.3844\n",
            "Epoch 233/250\n",
            "6/6 [==============================] - 0s 9ms/step - loss: 0.1291 - mae: 0.3951\n",
            "Epoch 234/250\n",
            "6/6 [==============================] - 0s 9ms/step - loss: 0.1588 - mae: 0.4819\n",
            "Epoch 235/250\n",
            "6/6 [==============================] - 0s 9ms/step - loss: 0.1387 - mae: 0.4174\n",
            "Epoch 236/250\n",
            "6/6 [==============================] - 0s 9ms/step - loss: 0.1982 - mae: 0.5034\n",
            "Epoch 237/250\n",
            "6/6 [==============================] - 0s 9ms/step - loss: 0.1722 - mae: 0.4732\n",
            "Epoch 238/250\n",
            "6/6 [==============================] - 0s 10ms/step - loss: 0.2362 - mae: 0.5658\n",
            "Epoch 239/250\n",
            "6/6 [==============================] - 0s 9ms/step - loss: 0.2465 - mae: 0.6020\n",
            "Epoch 240/250\n",
            "6/6 [==============================] - 0s 10ms/step - loss: 0.1960 - mae: 0.4786\n",
            "Epoch 241/250\n",
            "6/6 [==============================] - 0s 9ms/step - loss: 0.1351 - mae: 0.4147\n",
            "Epoch 242/250\n",
            "6/6 [==============================] - 0s 9ms/step - loss: 0.1474 - mae: 0.4073\n",
            "Epoch 243/250\n",
            "6/6 [==============================] - 0s 9ms/step - loss: 0.1361 - mae: 0.4087\n",
            "Epoch 244/250\n",
            "6/6 [==============================] - 0s 9ms/step - loss: 0.1459 - mae: 0.4169\n",
            "Epoch 245/250\n",
            "6/6 [==============================] - 0s 9ms/step - loss: 0.1294 - mae: 0.3824\n",
            "Epoch 246/250\n",
            "6/6 [==============================] - 0s 9ms/step - loss: 0.1280 - mae: 0.4147\n",
            "Epoch 247/250\n",
            "6/6 [==============================] - 0s 9ms/step - loss: 0.1447 - mae: 0.4151\n",
            "Epoch 248/250\n",
            "6/6 [==============================] - 0s 9ms/step - loss: 0.1356 - mae: 0.3872\n",
            "Epoch 249/250\n",
            "6/6 [==============================] - 0s 9ms/step - loss: 0.1442 - mae: 0.4371\n",
            "Epoch 250/250\n",
            "6/6 [==============================] - 0s 10ms/step - loss: 0.1337 - mae: 0.4164\n"
          ],
          "name": "stdout"
        }
      ]
    },
    {
      "cell_type": "code",
      "metadata": {
        "id": "SWGu-wJDJDER",
        "colab_type": "code",
        "outputId": "7d51ac85-95f1-475f-9f2f-56cea9900f35",
        "colab": {
          "base_uri": "https://localhost:8080/",
          "height": 85
        }
      },
      "source": [
        "\n",
        "norm_series_data, norm_series_mean, norm_series_std = norm(series)\n",
        "norm_series_data"
      ],
      "execution_count": 43,
      "outputs": [
        {
          "output_type": "execute_result",
          "data": {
            "text/plain": [
              "array([-0.4549311 , -1.24888234, -1.20239814, -0.66391031,  0.31801239,\n",
              "        0.81246255,  1.72801668,  1.5209972 ,  1.33806861,  1.53416606,\n",
              "        0.8912011 , -0.32253099, -1.06625334, -1.39556224, -1.1317731 ,\n",
              "       -0.47959618, -0.23847497, -0.42534797, -0.13877857,  0.62551465])"
            ]
          },
          "metadata": {
            "tags": []
          },
          "execution_count": 43
        }
      ]
    },
    {
      "cell_type": "code",
      "metadata": {
        "id": "GaC6NNMRp0lb",
        "colab_type": "code",
        "outputId": "3f47ff3f-3d88-4a03-b0e6-4c50948bad0d",
        "colab": {
          "base_uri": "https://localhost:8080/",
          "height": 119
        }
      },
      "source": [
        "rnn_forecast = model_forecast(model, norm_series_data[..., np.newaxis], window_size)\n",
        "print(rnn_forecast.shape)\n",
        "rnn_forecast = rnn_forecast[ 0:-1, -1]\n",
        "#rnn_forecast = rnn_forecast[:-1, -1]\n",
        "print(rnn_forecast.shape)\n",
        "\n",
        "rnn_forecast"
      ],
      "execution_count": 44,
      "outputs": [
        {
          "output_type": "stream",
          "text": [
            "(18, 1)\n",
            "(17,)\n"
          ],
          "name": "stdout"
        },
        {
          "output_type": "execute_result",
          "data": {
            "text/plain": [
              "array([-0.61522406, -0.4113054 ,  0.38531062,  1.2181606 ,  1.254656  ,\n",
              "        1.4426787 ,  1.4334178 ,  1.4016731 ,  1.262213  ,  0.83589184,\n",
              "       -0.5882407 , -0.61859286, -0.66977704, -0.31083167,  0.14010763,\n",
              "        0.19400467,  0.26763013], dtype=float32)"
            ]
          },
          "metadata": {
            "tags": []
          },
          "execution_count": 44
        }
      ]
    },
    {
      "cell_type": "code",
      "metadata": {
        "id": "PrktQX3hKYex",
        "colab_type": "code",
        "outputId": "511d4c46-0e3c-49bb-b745-5b75a881b296",
        "colab": {
          "base_uri": "https://localhost:8080/",
          "height": 388
        }
      },
      "source": [
        "plt.figure(figsize=(10, 6))\n",
        "plot_series(time_train, normed_train_data)\n",
        "plot_series(time_train[3:], rnn_forecast)"
      ],
      "execution_count": 45,
      "outputs": [
        {
          "output_type": "display_data",
          "data": {
            "image/png": "[encoded data removed]",
            "text/plain": [
              "<Figure size 720x432 with 1 Axes>"
            ]
          },
          "metadata": {
            "tags": []
          }
        }
      ]
    },
    {
      "cell_type": "code",
      "metadata": {
        "id": "13XrorC5wQoE",
        "colab_type": "code",
        "outputId": "f747eaaa-fcca-480d-b207-f8528f9bb96d",
        "colab": {
          "base_uri": "https://localhost:8080/",
          "height": 34
        }
      },
      "source": [
        "tf.keras.metrics.mean_absolute_error(normed_train_data[3:], rnn_forecast).numpy()"
      ],
      "execution_count": 46,
      "outputs": [
        {
          "output_type": "execute_result",
          "data": {
            "text/plain": [
              "0.5307785"
            ]
          },
          "metadata": {
            "tags": []
          },
          "execution_count": 46
        }
      ]
    },
    {
      "cell_type": "code",
      "metadata": {
        "id": "AOVzQXxCwkzP",
        "colab_type": "code",
        "outputId": "c345c0f4-28e1-42ac-ea95-a317769d8e45",
        "colab": {
          "base_uri": "https://localhost:8080/",
          "height": 68
        }
      },
      "source": [
        "print(rnn_forecast)"
      ],
      "execution_count": 47,
      "outputs": [
        {
          "output_type": "stream",
          "text": [
            "[-0.61522406 -0.4113054   0.38531062  1.2181606   1.254656    1.4426787\n",
            "  1.4334178   1.4016731   1.262213    0.83589184 -0.5882407  -0.61859286\n",
            " -0.66977704 -0.31083167  0.14010763  0.19400467  0.26763013]\n"
          ],
          "name": "stdout"
        }
      ]
    },
    {
      "cell_type": "code",
      "metadata": {
        "id": "AbmHxOn-Zvx6",
        "colab_type": "code",
        "outputId": "435e5071-f343-4bdb-f37d-8e0d17c39821",
        "colab": {
          "base_uri": "https://localhost:8080/",
          "height": 136
        }
      },
      "source": [
        "# x = y* Sigma + mean\n",
        "print(norm_series_mean)\n",
        "print(normed_train_mean)\n",
        "\n",
        "original_series = rnn_forecast * normed_train_std+ normed_train_mean\n",
        "print(\"Forecasted Series\",original_series)\n",
        "print(\"Series\",x_train[3:])"
      ],
      "execution_count": 48,
      "outputs": [
        {
          "output_type": "stream",
          "text": [
            "121067.0\n",
            "121067.0\n",
            "Forecasted Series [ 71779.41   88116.    151935.48  218657.78  221581.55  236644.66\n",
            " 235902.73  233359.56  222186.97  188033.     73941.14   71509.52\n",
            "  67409.     96165.266 132291.47  136609.34  142507.72 ]\n",
            "Series [ 67879 146544 186156 259504 242919 228264 243974 192464  95228  35646\n",
            "   9264  30397  82645 101962  86991 109949 171179]\n"
          ],
          "name": "stdout"
        }
      ]
    },
    {
      "cell_type": "code",
      "metadata": {
        "id": "FFqlfF-Oa2Y1",
        "colab_type": "code",
        "outputId": "2c1bfa75-0e89-4054-8bf6-2827135046b1",
        "colab": {
          "base_uri": "https://localhost:8080/",
          "height": 388
        }
      },
      "source": [
        "plt.figure(figsize=(10, 6))\n",
        "plot_series(time_train[3:], original_series)\n",
        "plot_series(time_train, series)"
      ],
      "execution_count": 49,
      "outputs": [
        {
          "output_type": "display_data",
          "data": {
            "image/png": "[encoded data removed]",
            "text/plain": [
              "<Figure size 720x432 with 1 Axes>"
            ]
          },
          "metadata": {
            "tags": []
          }
        }
      ]
    },
    {
      "cell_type": "code",
      "metadata": {
        "id": "i38mv8SPgHDf",
        "colab_type": "code",
        "colab": {}
      },
      "source": [
        ""
      ],
      "execution_count": 0,
      "outputs": []
    },
    {
      "cell_type": "code",
      "metadata": {
        "id": "T8kFHJjDgHPZ",
        "colab_type": "code",
        "colab": {}
      },
      "source": [
        "model.save(\"LSTM_Bidirectional_model.h5\")"
      ],
      "execution_count": 0,
      "outputs": []
    },
    {
      "cell_type": "code",
      "metadata": {
        "id": "k55wL6gWiP44",
        "colab_type": "code",
        "colab": {}
      },
      "source": [
        ""
      ],
      "execution_count": 0,
      "outputs": []
    },
    {
      "cell_type": "code",
      "metadata": {
        "id": "OVnkZfVKiiLc",
        "colab_type": "code",
        "colab": {}
      },
      "source": [
        ""
      ],
      "execution_count": 0,
      "outputs": []
    },
    {
      "cell_type": "code",
      "metadata": {
        "id": "5A_rLhKh1nbS",
        "colab_type": "code",
        "colab": {}
      },
      "source": [
        ""
      ],
      "execution_count": 0,
      "outputs": []
    },
    {
      "cell_type": "markdown",
      "metadata": {
        "id": "UUm-xerX1twH",
        "colab_type": "text"
      },
      "source": [
        "## Predictions using trained model"
      ]
    },
    {
      "cell_type": "markdown",
      "metadata": {
        "id": "klbncmeK2Mpw",
        "colab_type": "text"
      },
      "source": [
        "### Step 1: Importing libraries"
      ]
    },
    {
      "cell_type": "code",
      "metadata": {
        "id": "zqF0A80W2K0t",
        "colab_type": "code",
        "colab": {}
      },
      "source": [
        "import tensorflow as tf\n",
        "import numpy as np\n",
        "import matplotlib.pyplot as plt\n",
        "import pandas as pd"
      ],
      "execution_count": 0,
      "outputs": []
    },
    {
      "cell_type": "markdown",
      "metadata": {
        "id": "djr-uNnB14EH",
        "colab_type": "text"
      },
      "source": [
        "### Step 1 : Load the dataset"
      ]
    },
    {
      "cell_type": "code",
      "metadata": {
        "id": "4h4EUHy_1nqR",
        "colab_type": "code",
        "colab": {
          "base_uri": "https://localhost:8080/",
          "height": 289
        },
        "outputId": "ac2aa2ff-7528-487f-dcf2-b74119aa385d"
      },
      "source": [
        "try:\n",
        "  df = pd.read_csv(\"TrafficDensity2000to2019.csv\")\n",
        "  print(df.head())\n",
        "  print(df.tail())\n",
        "except FileNotFoundError:\n",
        "  print(\"Dataset File not found\")\n",
        "  "
      ],
      "execution_count": 51,
      "outputs": [
        {
          "output_type": "stream",
          "text": [
            "     2000    2001    2002    2003  ...    2016    2017    2018    2019\n",
            "0   18018   43257    4364    9948  ...  436913  383336  366666  360215\n",
            "1  199759  206274  197413  224211  ...  347855  351027  402511  430174\n",
            "2   31975   18508   50090   33138  ...   20132   61869  123441  138125\n",
            "3  143344  202934  239277  261303  ...  180004  222712  251049  263517\n",
            "4   13344  132736  256770  326341  ...  378743  428859  435385  477570\n",
            "\n",
            "[5 rows x 20 columns]\n",
            "       2000    2001    2002    2003  ...    2016    2017    2018    2019\n",
            "995  149254  154188  163279  170645  ...  259190  268790  278025  286573\n",
            "996   38526  119449  198658  233426  ...  100550  164971  217201  236679\n",
            "997   32279   14075   21236   34409  ...  198629  215467  248502  264773\n",
            "998  180195  205710  288049  346179  ...  219080  190117  244531  290784\n",
            "999   72669   49821   74458   39664  ...  286319  314117  277458  237214\n",
            "\n",
            "[5 rows x 20 columns]\n"
          ],
          "name": "stdout"
        }
      ]
    },
    {
      "cell_type": "code",
      "metadata": {
        "id": "R6OdRmGW1nwE",
        "colab_type": "code",
        "colab": {}
      },
      "source": [
        ""
      ],
      "execution_count": 0,
      "outputs": []
    },
    {
      "cell_type": "markdown",
      "metadata": {
        "id": "qm8fuR436GHk",
        "colab_type": "text"
      },
      "source": [
        "### Step 2 : Load the pre-trained model"
      ]
    },
    {
      "cell_type": "code",
      "metadata": {
        "id": "zsxy1fEd1op5",
        "colab_type": "code",
        "colab": {}
      },
      "source": [
        "try:\n",
        "  model = tf.keras.models.load_model(\"LSTM_Bidirectional_model.h5\")\n",
        "except OSError:\n",
        "  print(\"The model not found\")"
      ],
      "execution_count": 0,
      "outputs": []
    },
    {
      "cell_type": "code",
      "metadata": {
        "id": "DQjcfTk41otc",
        "colab_type": "code",
        "colab": {}
      },
      "source": [
        ""
      ],
      "execution_count": 0,
      "outputs": []
    },
    {
      "cell_type": "code",
      "metadata": {
        "id": "FzfjCiRE-_zA",
        "colab_type": "code",
        "colab": {}
      },
      "source": [
        ""
      ],
      "execution_count": 0,
      "outputs": []
    },
    {
      "cell_type": "markdown",
      "metadata": {
        "id": "lyzeH50s_AkR",
        "colab_type": "text"
      },
      "source": [
        "### Helper functions"
      ]
    },
    {
      "cell_type": "code",
      "metadata": {
        "id": "30x28nOr_Isb",
        "colab_type": "code",
        "colab": {}
      },
      "source": [
        "#normalizing data\n",
        "# Z-Score scaling or Standard Scaling\n",
        "# Output range [-3 to +3]\n",
        "def norm(x):\n",
        "  return (x - x.mean()) / x.std(), x.mean(), x.std()\n",
        "\n",
        "# Plotting the traffic data\n",
        "def plot_series(time, series, format=\"-\", start=0, end=None,save=False,name=None):\n",
        "    plt.plot(time[start:end], series[start:end], format)\n",
        "    plt.xlabel(\"Time\")\n",
        "    plt.ylabel(\"Value\")\n",
        "    plt.grid(True)\n",
        "    if save:\n",
        "      plt.savefig(name+\".png\")\n",
        "\n",
        "# Preparing the data suitable for input of the model\n",
        "def model_forecast(model, series, window_size):\n",
        "    ds = tf.data.Dataset.from_tensor_slices(series)\n",
        "    ds = ds.window(window_size, shift=1, drop_remainder=True)\n",
        "    ds = ds.flat_map(lambda w: w.batch(window_size))\n",
        "    ds = ds.batch(3).prefetch(1)\n",
        "    forecast = model.predict(ds)\n",
        "    return forecast\n",
        "\n",
        "# Predicting the traffic density in the given year\n",
        "def predict(year,all=False):\n",
        "  predictions = []\n",
        "  norm_series_data_copy = np.copy(norm_series_data)\n",
        "\n",
        "  if year <20:\n",
        "    print(\"Year less than 20\")\n",
        "    return [norm_series_data_copy[year]* norm_series_std+ norm_series_mean]\n",
        "\n",
        "  elif year >20:\n",
        "    temp_year = 20\n",
        "    while temp_year != year:\n",
        "      #print(\"temp_year\",temp_year)\n",
        "      forecast = model_forecast(model, norm_series_data_copy[temp_year-window_size:temp_year][...,np.newaxis], window_size)\n",
        "      #print(\"Value calculated for \",temp_year,forecast[0][-1]* norm_series_std+ norm_series_mean)\n",
        "      norm_series_data_copy = np.append(norm_series_data_copy,forecast[0][-1])\n",
        "      \n",
        "      # Formula to calculate the original value from normalized output\n",
        "      # x = y* Sigma + mean\n",
        "      predictions.append(forecast[0][-1]* norm_series_std+ norm_series_mean)\n",
        "      temp_year+=1\n",
        "      \n",
        "    forecast = model_forecast(model, norm_series_data_copy[year-window_size:year][...,np.newaxis], window_size)\n",
        "    predictions.append(forecast[0][-1]* norm_series_std+ norm_series_mean)\n",
        "\n",
        "  else:\n",
        "    forecast = model_forecast(model, norm_series_data_copy[year-window_size:year][...,np.newaxis], window_size)\n",
        "    predictions.append(forecast[0][-1]* norm_series_std+ norm_series_mean)\n",
        "\n",
        "  if all:\n",
        "    return predictions\n",
        "  return [forecast[0][-1]* norm_series_std+ norm_series_mean]\n",
        "\n",
        "\n"
      ],
      "execution_count": 0,
      "outputs": []
    },
    {
      "cell_type": "markdown",
      "metadata": {
        "id": "68qMIews7K1h",
        "colab_type": "text"
      },
      "source": [
        "### Step 3 : Predictions on model"
      ]
    },
    {
      "cell_type": "code",
      "metadata": {
        "id": "EfIMS49E1o4_",
        "colab_type": "code",
        "colab": {
          "base_uri": "https://localhost:8080/",
          "height": 820
        },
        "outputId": "2c0df216-24a1-4056-aca0-ef59de68ea85"
      },
      "source": [
        "# select an area\n",
        "area = 10\n",
        "\n",
        "# select an year to forecast\n",
        "year = 2025\n",
        "\n",
        "#constant value don't change\n",
        "window_size = 3\n",
        "\n",
        "# time interval values which is equal to number of columns for now!!\n",
        "time = np.array(range(len(df.columns)))\n",
        "print(\"Time Intervals :\",time[:])\n",
        "print(\"Shape of Time Intervals :\",time.shape)\n",
        "\n",
        "# traffic density values of selected area\n",
        "series = np.array(df.iloc[area,:])\n",
        "print(\"Traffic Series Data :\",series[:10])\n",
        "print(\"Shape of Traffic Series Data :\",series.shape)\n",
        "\n",
        "# normalizing the series data\n",
        "norm_series_data, norm_series_mean, norm_series_std = norm(series)\n",
        "print(\"Normalized Series Data :\",norm_series_data)\n",
        "print(\"Normalized Series Mean :\",norm_series_mean)\n",
        "print(\"Normalized Series STD :\",norm_series_std)\n",
        "\n",
        "\n",
        "# visualizing the traffic data of the selected area\n",
        "plot_series(time, series)\n",
        "\n",
        "#Forecasting the traffic density\n",
        "y = year % 2000\n",
        "prediction = predict(y,True)\n",
        "\n",
        "if len(prediction) > 1:\n",
        "  years = list(range(20,y+1))\n",
        "  plt.figure(figsize=(10, 6))\n",
        "  plot_series(years,prediction,save=False,name=\"test\")\n",
        "  plot_series(time, series)\n",
        "  plt.plot([time[-1],years[0]],[series[-1],prediction[0]])\n",
        "  plt.savefig(\"Prediction.png\")\n",
        "\n",
        "else:\n",
        "  print(\"The Forecasted traffic value of {} year is {}\".format(year,int(prediction[0])))\n",
        "  plt.figure(figsize=(10, 6))\n",
        "  plot_series([y],prediction,format='*',save=False,name=\"test\")\n",
        "  plot_series(time, series)\n",
        "  if y == 20:\n",
        "    plt.plot([y],[prediction[0]])\n",
        "  else:\n",
        "    plt.plot([time[y],y],[series[y],prediction[0]])\n",
        "  plt.savefig(\"Prediction.png\")\n",
        "\n",
        "\n",
        "\n",
        "\n"
      ],
      "execution_count": 77,
      "outputs": [
        {
          "output_type": "stream",
          "text": [
            "Time Intervals : [ 0  1  2  3  4  5  6  7  8  9 10 11 12 13 14 15 16 17 18 19]\n",
            "Shape of Time Intervals : (20,)\n",
            "Traffic Series Data : [ 84621  21015  24739  67879 146544 186156 259504 242919 228264 243974]\n",
            "Shape of Traffic Series Data : (20,)\n",
            "Normalized Series Data : [-0.4549311  -1.24888234 -1.20239814 -0.66391031  0.31801239  0.81246255\n",
            "  1.72801668  1.5209972   1.33806861  1.53416606  0.8912011  -0.32253099\n",
            " -1.06625334 -1.39556224 -1.1317731  -0.47959618 -0.23847497 -0.42534797\n",
            " -0.13877857  0.62551465]\n",
            "Normalized Series Mean : 121067.0\n",
            "Normalized Series STD : 80113.23116751689\n"
          ],
          "name": "stdout"
        },
        {
          "output_type": "display_data",
          "data": {
            "image/png": "[encoded data removed]",
            "text/plain": [
              "<Figure size 432x288 with 1 Axes>"
            ]
          },
          "metadata": {
            "tags": []
          }
        },
        {
          "output_type": "display_data",
          "data": {
            "image/png": "[encoded data removed]",
            "text/plain": [
              "<Figure size 720x432 with 1 Axes>"
            ]
          },
          "metadata": {
            "tags": []
          }
        }
      ]
    },
    {
      "cell_type": "code",
      "metadata": {
        "id": "dilGw67G1o94",
        "colab_type": "code",
        "colab": {}
      },
      "source": [
        ""
      ],
      "execution_count": 0,
      "outputs": []
    },
    {
      "cell_type": "code",
      "metadata": {
        "id": "QJk7d6xG1ntu",
        "colab_type": "code",
        "colab": {}
      },
      "source": [
        ""
      ],
      "execution_count": 0,
      "outputs": []
    },
    {
      "cell_type": "code",
      "metadata": {
        "id": "Bp7sRxP31nVd",
        "colab_type": "code",
        "colab": {}
      },
      "source": [
        ""
      ],
      "execution_count": 0,
      "outputs": []
    },
    {
      "cell_type": "code",
      "metadata": {
        "id": "2ug54hddgHfA",
        "colab_type": "code",
        "colab": {}
      },
      "source": [
        ""
      ],
      "execution_count": 0,
      "outputs": []
    },
    {
      "cell_type": "code",
      "metadata": {
        "id": "QmDISkjMgHb-",
        "colab_type": "code",
        "colab": {}
      },
      "source": [
        ""
      ],
      "execution_count": 0,
      "outputs": []
    },
    {
      "cell_type": "code",
      "metadata": {
        "id": "Bfd-33f7gHYQ",
        "colab_type": "code",
        "colab": {}
      },
      "source": [
        ""
      ],
      "execution_count": 0,
      "outputs": []
    }
  ]
}