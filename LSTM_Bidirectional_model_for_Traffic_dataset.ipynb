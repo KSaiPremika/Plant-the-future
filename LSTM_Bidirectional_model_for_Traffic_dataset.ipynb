{
  "nbformat": 4,
  "nbformat_minor": 0,
  "metadata": {
    "colab": {
      "name": "LSTM Bidirectional model for Traffic dataset",
      "provenance": [],
      "collapsed_sections": [],
      "include_colab_link": true
    },
    "kernelspec": {
      "name": "python3",
      "display_name": "Python 3"
    },
    "accelerator": "GPU"
  },
  "cells": [
    {
      "cell_type": "markdown",
      "metadata": {
        "id": "view-in-github",
        "colab_type": "text"
      },
      "source": [
        "<a href=\"https://colab.research.google.com/github/nasirbashak/Plant-the-future/blob/master/LSTM_Bidirectional_model_for_Traffic_dataset.ipynb\" target=\"_parent\"><img src=\"https://colab.research.google.com/assets/colab-badge.svg\" alt=\"Open In Colab\"/></a>"
      ]
    },
    {
      "cell_type": "code",
      "metadata": {
        "id": "GNkzTFfynsmV",
        "colab_type": "code",
        "colab": {}
      },
      "source": [
        "#!pip install tensorflow==2.0.0b1\n",
        "!pip install tensorflow==2.1.0"
      ],
      "execution_count": 0,
      "outputs": []
    },
    {
      "cell_type": "code",
      "metadata": {
        "id": "56XEQOGknrAk",
        "colab_type": "code",
        "outputId": "be6dd05a-a05c-4108-a86e-7bb20ca6df40",
        "colab": {
          "base_uri": "https://localhost:8080/",
          "height": 34
        }
      },
      "source": [
        "import tensorflow as tf\n",
        "import numpy as np\n",
        "import matplotlib.pyplot as plt\n",
        "import pandas as pd\n",
        "print(tf.__version__)"
      ],
      "execution_count": 0,
      "outputs": [
        {
          "output_type": "stream",
          "text": [
            "2.1.0\n"
          ],
          "name": "stdout"
        }
      ]
    },
    {
      "cell_type": "code",
      "metadata": {
        "id": "sLl52leVp5wU",
        "colab_type": "code",
        "colab": {}
      },
      "source": [
        "\n",
        "def plot_series(time, series, format=\"-\", start=0, end=None):\n",
        "    plt.plot(time[start:end], series[start:end], format)\n",
        "    plt.xlabel(\"Time\")\n",
        "    plt.ylabel(\"Value\")\n",
        "    plt.grid(True)"
      ],
      "execution_count": 0,
      "outputs": []
    },
    {
      "cell_type": "code",
      "metadata": {
        "id": "tP7oqUdkk0gY",
        "colab_type": "code",
        "outputId": "bbaf2b19-fdad-4076-a0c3-5107209caaba",
        "colab": {
          "base_uri": "https://localhost:8080/",
          "height": 224
        }
      },
      "source": [
        "!wget --no-check-certificate \\\n",
        "    https://raw.githubusercontent.com/jbrownlee/Datasets/master/daily-min-temperatures.csv \\\n",
        "    -O /tmp/daily-min-temperatures.csv"
      ],
      "execution_count": 0,
      "outputs": [
        {
          "output_type": "stream",
          "text": [
            "--2020-03-04 08:39:42--  https://raw.githubusercontent.com/jbrownlee/Datasets/master/daily-min-temperatures.csv\n",
            "Resolving raw.githubusercontent.com (raw.githubusercontent.com)... 151.101.0.133, 151.101.64.133, 151.101.128.133, ...\n",
            "Connecting to raw.githubusercontent.com (raw.githubusercontent.com)|151.101.0.133|:443... connected.\n",
            "HTTP request sent, awaiting response... 200 OK\n",
            "Length: 67921 (66K) [text/plain]\n",
            "Saving to: ‘/tmp/daily-min-temperatures.csv’\n",
            "\n",
            "\r          /tmp/dail   0%[                    ]       0  --.-KB/s               \r/tmp/daily-min-temp 100%[===================>]  66.33K  --.-KB/s    in 0.03s   \n",
            "\n",
            "2020-03-04 08:39:43 (2.39 MB/s) - ‘/tmp/daily-min-temperatures.csv’ saved [67921/67921]\n",
            "\n"
          ],
          "name": "stdout"
        }
      ]
    },
    {
      "cell_type": "code",
      "metadata": {
        "id": "NcG9r1eClbTh",
        "colab_type": "code",
        "outputId": "28695f68-cb5d-4dc0-b701-7e8e4c54c0c6",
        "colab": {
          "base_uri": "https://localhost:8080/",
          "height": 388
        }
      },
      "source": [
        "import csv\n",
        "time_step = []\n",
        "temps = []\n",
        "\n",
        "with open('/tmp/daily-min-temperatures.csv') as csvfile:\n",
        "  reader = csv.reader(csvfile, delimiter=',')\n",
        "  next(reader)\n",
        "  step=0\n",
        "  for row in reader:\n",
        "    temps.append(float(row[1]))\n",
        "    time_step.append(step)\n",
        "    step = step + 1\n",
        "\n",
        "\n",
        "series = np.array(temps)\n",
        "time = np.array(time_step)\n",
        "\n"
      ],
      "execution_count": 0,
      "outputs": [
        {
          "output_type": "display_data",
          "data": {
            "image/png": "[encoded data removed]",
            "text/plain": [
              "<Figure size 720x432 with 1 Axes>"
            ]
          },
          "metadata": {
            "tags": []
          }
        }
      ]
    },
    {
      "cell_type": "code",
      "metadata": {
        "id": "5orqkmFhr42S",
        "colab_type": "code",
        "outputId": "15a3a8d2-7279-41fd-a9eb-cfecb806ee63",
        "colab": {
          "base_uri": "https://localhost:8080/",
          "height": 241
        }
      },
      "source": [
        "df = pd.read_csv('TrafficDensity2000to2019.csv')\n",
        "df.head()"
      ],
      "execution_count": 0,
      "outputs": [
        {
          "output_type": "execute_result",
          "data": {
            "text/html": [
              "<div>\n",
              "<style scoped>\n",
              "    .dataframe tbody tr th:only-of-type {\n",
              "        vertical-align: middle;\n",
              "    }\n",
              "\n",
              "    .dataframe tbody tr th {\n",
              "        vertical-align: top;\n",
              "    }\n",
              "\n",
              "    .dataframe thead th {\n",
              "        text-align: right;\n",
              "    }\n",
              "</style>\n",
              "<table border=\"1\" class=\"dataframe\">\n",
              "  <thead>\n",
              "    <tr style=\"text-align: right;\">\n",
              "      <th></th>\n",
              "      <th>Unnamed: 0</th>\n",
              "      <th>2000</th>\n",
              "      <th>2001</th>\n",
              "      <th>2002</th>\n",
              "      <th>2003</th>\n",
              "      <th>2004</th>\n",
              "      <th>2005</th>\n",
              "      <th>2006</th>\n",
              "      <th>2007</th>\n",
              "      <th>2008</th>\n",
              "      <th>2009</th>\n",
              "      <th>2010</th>\n",
              "      <th>2011</th>\n",
              "      <th>2012</th>\n",
              "      <th>2013</th>\n",
              "      <th>2014</th>\n",
              "      <th>2015</th>\n",
              "      <th>2016</th>\n",
              "      <th>2017</th>\n",
              "      <th>2018</th>\n",
              "      <th>2019</th>\n",
              "    </tr>\n",
              "  </thead>\n",
              "  <tbody>\n",
              "    <tr>\n",
              "      <th>0</th>\n",
              "      <td>0</td>\n",
              "      <td>18018</td>\n",
              "      <td>43257</td>\n",
              "      <td>4364</td>\n",
              "      <td>9948</td>\n",
              "      <td>15486</td>\n",
              "      <td>10824</td>\n",
              "      <td>11394</td>\n",
              "      <td>62040</td>\n",
              "      <td>139362</td>\n",
              "      <td>222630</td>\n",
              "      <td>252997</td>\n",
              "      <td>275822</td>\n",
              "      <td>341228</td>\n",
              "      <td>418053</td>\n",
              "      <td>456370</td>\n",
              "      <td>458760</td>\n",
              "      <td>436913</td>\n",
              "      <td>383336</td>\n",
              "      <td>366666</td>\n",
              "      <td>360215</td>\n",
              "    </tr>\n",
              "    <tr>\n",
              "      <th>1</th>\n",
              "      <td>1</td>\n",
              "      <td>199759</td>\n",
              "      <td>206274</td>\n",
              "      <td>197413</td>\n",
              "      <td>224211</td>\n",
              "      <td>246554</td>\n",
              "      <td>253461</td>\n",
              "      <td>268019</td>\n",
              "      <td>285571</td>\n",
              "      <td>321176</td>\n",
              "      <td>305794</td>\n",
              "      <td>302507</td>\n",
              "      <td>306456</td>\n",
              "      <td>316183</td>\n",
              "      <td>312025</td>\n",
              "      <td>321552</td>\n",
              "      <td>304690</td>\n",
              "      <td>347855</td>\n",
              "      <td>351027</td>\n",
              "      <td>402511</td>\n",
              "      <td>430174</td>\n",
              "    </tr>\n",
              "    <tr>\n",
              "      <th>2</th>\n",
              "      <td>2</td>\n",
              "      <td>31975</td>\n",
              "      <td>18508</td>\n",
              "      <td>50090</td>\n",
              "      <td>33138</td>\n",
              "      <td>3230</td>\n",
              "      <td>40469</td>\n",
              "      <td>77694</td>\n",
              "      <td>91859</td>\n",
              "      <td>95982</td>\n",
              "      <td>68764</td>\n",
              "      <td>32090</td>\n",
              "      <td>3793</td>\n",
              "      <td>36285</td>\n",
              "      <td>51176</td>\n",
              "      <td>27385</td>\n",
              "      <td>645</td>\n",
              "      <td>20132</td>\n",
              "      <td>61869</td>\n",
              "      <td>123441</td>\n",
              "      <td>138125</td>\n",
              "    </tr>\n",
              "    <tr>\n",
              "      <th>3</th>\n",
              "      <td>3</td>\n",
              "      <td>143344</td>\n",
              "      <td>202934</td>\n",
              "      <td>239277</td>\n",
              "      <td>261303</td>\n",
              "      <td>290123</td>\n",
              "      <td>294132</td>\n",
              "      <td>292993</td>\n",
              "      <td>300010</td>\n",
              "      <td>288019</td>\n",
              "      <td>267043</td>\n",
              "      <td>214461</td>\n",
              "      <td>176663</td>\n",
              "      <td>106045</td>\n",
              "      <td>39201</td>\n",
              "      <td>64827</td>\n",
              "      <td>111801</td>\n",
              "      <td>180004</td>\n",
              "      <td>222712</td>\n",
              "      <td>251049</td>\n",
              "      <td>263517</td>\n",
              "    </tr>\n",
              "    <tr>\n",
              "      <th>4</th>\n",
              "      <td>4</td>\n",
              "      <td>13344</td>\n",
              "      <td>132736</td>\n",
              "      <td>256770</td>\n",
              "      <td>326341</td>\n",
              "      <td>373479</td>\n",
              "      <td>400300</td>\n",
              "      <td>339817</td>\n",
              "      <td>354813</td>\n",
              "      <td>290336</td>\n",
              "      <td>246211</td>\n",
              "      <td>191379</td>\n",
              "      <td>169207</td>\n",
              "      <td>44706</td>\n",
              "      <td>96832</td>\n",
              "      <td>217791</td>\n",
              "      <td>297401</td>\n",
              "      <td>378743</td>\n",
              "      <td>428859</td>\n",
              "      <td>435385</td>\n",
              "      <td>477570</td>\n",
              "    </tr>\n",
              "  </tbody>\n",
              "</table>\n",
              "</div>"
            ],
            "text/plain": [
              "   Unnamed: 0    2000    2001    2002  ...    2016    2017    2018    2019\n",
              "0           0   18018   43257    4364  ...  436913  383336  366666  360215\n",
              "1           1  199759  206274  197413  ...  347855  351027  402511  430174\n",
              "2           2   31975   18508   50090  ...   20132   61869  123441  138125\n",
              "3           3  143344  202934  239277  ...  180004  222712  251049  263517\n",
              "4           4   13344  132736  256770  ...  378743  428859  435385  477570\n",
              "\n",
              "[5 rows x 21 columns]"
            ]
          },
          "metadata": {
            "tags": []
          },
          "execution_count": 83
        }
      ]
    },
    {
      "cell_type": "code",
      "metadata": {
        "id": "1euJy4wCCAmE",
        "colab_type": "code",
        "outputId": "de3060b9-514c-4902-f901-a05193f296e7",
        "colab": {
          "base_uri": "https://localhost:8080/",
          "height": 224
        }
      },
      "source": [
        "df[[\"Unnamed: 0\"]]\n",
        "df.drop(columns=[\"Unnamed: 0\"],axis=1,inplace=True)\n",
        "df.head()"
      ],
      "execution_count": 0,
      "outputs": [
        {
          "output_type": "execute_result",
          "data": {
            "text/html": [
              "<div>\n",
              "<style scoped>\n",
              "    .dataframe tbody tr th:only-of-type {\n",
              "        vertical-align: middle;\n",
              "    }\n",
              "\n",
              "    .dataframe tbody tr th {\n",
              "        vertical-align: top;\n",
              "    }\n",
              "\n",
              "    .dataframe thead th {\n",
              "        text-align: right;\n",
              "    }\n",
              "</style>\n",
              "<table border=\"1\" class=\"dataframe\">\n",
              "  <thead>\n",
              "    <tr style=\"text-align: right;\">\n",
              "      <th></th>\n",
              "      <th>2000</th>\n",
              "      <th>2001</th>\n",
              "      <th>2002</th>\n",
              "      <th>2003</th>\n",
              "      <th>2004</th>\n",
              "      <th>2005</th>\n",
              "      <th>2006</th>\n",
              "      <th>2007</th>\n",
              "      <th>2008</th>\n",
              "      <th>2009</th>\n",
              "      <th>2010</th>\n",
              "      <th>2011</th>\n",
              "      <th>2012</th>\n",
              "      <th>2013</th>\n",
              "      <th>2014</th>\n",
              "      <th>2015</th>\n",
              "      <th>2016</th>\n",
              "      <th>2017</th>\n",
              "      <th>2018</th>\n",
              "      <th>2019</th>\n",
              "    </tr>\n",
              "  </thead>\n",
              "  <tbody>\n",
              "    <tr>\n",
              "      <th>0</th>\n",
              "      <td>18018</td>\n",
              "      <td>43257</td>\n",
              "      <td>4364</td>\n",
              "      <td>9948</td>\n",
              "      <td>15486</td>\n",
              "      <td>10824</td>\n",
              "      <td>11394</td>\n",
              "      <td>62040</td>\n",
              "      <td>139362</td>\n",
              "      <td>222630</td>\n",
              "      <td>252997</td>\n",
              "      <td>275822</td>\n",
              "      <td>341228</td>\n",
              "      <td>418053</td>\n",
              "      <td>456370</td>\n",
              "      <td>458760</td>\n",
              "      <td>436913</td>\n",
              "      <td>383336</td>\n",
              "      <td>366666</td>\n",
              "      <td>360215</td>\n",
              "    </tr>\n",
              "    <tr>\n",
              "      <th>1</th>\n",
              "      <td>199759</td>\n",
              "      <td>206274</td>\n",
              "      <td>197413</td>\n",
              "      <td>224211</td>\n",
              "      <td>246554</td>\n",
              "      <td>253461</td>\n",
              "      <td>268019</td>\n",
              "      <td>285571</td>\n",
              "      <td>321176</td>\n",
              "      <td>305794</td>\n",
              "      <td>302507</td>\n",
              "      <td>306456</td>\n",
              "      <td>316183</td>\n",
              "      <td>312025</td>\n",
              "      <td>321552</td>\n",
              "      <td>304690</td>\n",
              "      <td>347855</td>\n",
              "      <td>351027</td>\n",
              "      <td>402511</td>\n",
              "      <td>430174</td>\n",
              "    </tr>\n",
              "    <tr>\n",
              "      <th>2</th>\n",
              "      <td>31975</td>\n",
              "      <td>18508</td>\n",
              "      <td>50090</td>\n",
              "      <td>33138</td>\n",
              "      <td>3230</td>\n",
              "      <td>40469</td>\n",
              "      <td>77694</td>\n",
              "      <td>91859</td>\n",
              "      <td>95982</td>\n",
              "      <td>68764</td>\n",
              "      <td>32090</td>\n",
              "      <td>3793</td>\n",
              "      <td>36285</td>\n",
              "      <td>51176</td>\n",
              "      <td>27385</td>\n",
              "      <td>645</td>\n",
              "      <td>20132</td>\n",
              "      <td>61869</td>\n",
              "      <td>123441</td>\n",
              "      <td>138125</td>\n",
              "    </tr>\n",
              "    <tr>\n",
              "      <th>3</th>\n",
              "      <td>143344</td>\n",
              "      <td>202934</td>\n",
              "      <td>239277</td>\n",
              "      <td>261303</td>\n",
              "      <td>290123</td>\n",
              "      <td>294132</td>\n",
              "      <td>292993</td>\n",
              "      <td>300010</td>\n",
              "      <td>288019</td>\n",
              "      <td>267043</td>\n",
              "      <td>214461</td>\n",
              "      <td>176663</td>\n",
              "      <td>106045</td>\n",
              "      <td>39201</td>\n",
              "      <td>64827</td>\n",
              "      <td>111801</td>\n",
              "      <td>180004</td>\n",
              "      <td>222712</td>\n",
              "      <td>251049</td>\n",
              "      <td>263517</td>\n",
              "    </tr>\n",
              "    <tr>\n",
              "      <th>4</th>\n",
              "      <td>13344</td>\n",
              "      <td>132736</td>\n",
              "      <td>256770</td>\n",
              "      <td>326341</td>\n",
              "      <td>373479</td>\n",
              "      <td>400300</td>\n",
              "      <td>339817</td>\n",
              "      <td>354813</td>\n",
              "      <td>290336</td>\n",
              "      <td>246211</td>\n",
              "      <td>191379</td>\n",
              "      <td>169207</td>\n",
              "      <td>44706</td>\n",
              "      <td>96832</td>\n",
              "      <td>217791</td>\n",
              "      <td>297401</td>\n",
              "      <td>378743</td>\n",
              "      <td>428859</td>\n",
              "      <td>435385</td>\n",
              "      <td>477570</td>\n",
              "    </tr>\n",
              "  </tbody>\n",
              "</table>\n",
              "</div>"
            ],
            "text/plain": [
              "     2000    2001    2002    2003  ...    2016    2017    2018    2019\n",
              "0   18018   43257    4364    9948  ...  436913  383336  366666  360215\n",
              "1  199759  206274  197413  224211  ...  347855  351027  402511  430174\n",
              "2   31975   18508   50090   33138  ...   20132   61869  123441  138125\n",
              "3  143344  202934  239277  261303  ...  180004  222712  251049  263517\n",
              "4   13344  132736  256770  326341  ...  378743  428859  435385  477570\n",
              "\n",
              "[5 rows x 20 columns]"
            ]
          },
          "metadata": {
            "tags": []
          },
          "execution_count": 84
        }
      ]
    },
    {
      "cell_type": "code",
      "metadata": {
        "id": "XomJeXDYtMoM",
        "colab_type": "code",
        "outputId": "5d36b66d-c487-49e6-ff52-91b0278267ca",
        "colab": {
          "base_uri": "https://localhost:8080/",
          "height": 51
        }
      },
      "source": [
        "time = np.array(range(len(df.columns)))\n",
        "print(time[:10],time.shape)\n",
        "series = np.array(df.iloc[699,:])\n",
        "print(series[:10],series.shape)\n",
        "\n"
      ],
      "execution_count": 0,
      "outputs": [
        {
          "output_type": "stream",
          "text": [
            "[0 1 2 3 4 5 6 7 8 9] (20,)\n",
            "[ 89793 113714  96397 101829 104212 111974 121932 118847 115671  95073] (20,)\n"
          ],
          "name": "stdout"
        }
      ]
    },
    {
      "cell_type": "code",
      "metadata": {
        "id": "vficwMmoryb4",
        "colab_type": "code",
        "outputId": "403d54db-5980-4354-bab5-cded32ae5c3c",
        "colab": {
          "base_uri": "https://localhost:8080/",
          "height": 388
        }
      },
      "source": [
        "\n",
        "plt.figure(figsize=(10, 6))\n",
        "plot_series(time, series)"
      ],
      "execution_count": 0,
      "outputs": [
        {
          "output_type": "display_data",
          "data": {
            "image/png": "[encoded data removed]",
            "text/plain": [
              "<Figure size 720x432 with 1 Axes>"
            ]
          },
          "metadata": {
            "tags": []
          }
        }
      ]
    },
    {
      "cell_type": "code",
      "metadata": {
        "id": "L92YRw_IpCFG",
        "colab_type": "code",
        "colab": {}
      },
      "source": [
        "split_time = 20\n",
        "time_train = time[:split_time]\n",
        "x_train = series[:split_time]\n",
        "time_valid = time[split_time:]\n",
        "x_valid = series[split_time:]\n",
        "\n",
        "window_size = 3\n",
        "batch_size = 3\n",
        "shuffle_buffer_size = 10\n",
        "\n"
      ],
      "execution_count": 0,
      "outputs": []
    },
    {
      "cell_type": "code",
      "metadata": {
        "id": "sbyHY37uHJGs",
        "colab_type": "code",
        "outputId": "fe8fdda5-7d07-421c-81dc-957b5bdad01c",
        "colab": {
          "base_uri": "https://localhost:8080/",
          "height": 207
        }
      },
      "source": [
        "\n",
        "#normalizing data\n",
        "# Z-Score scaling or Standard Scaling\n",
        "# Output range [-3 to +3]\n",
        "def norm(x):\n",
        "  return (x - x.mean()) / x.std(), x.mean(), x.std()\n",
        "\n",
        "  \n",
        "normed_train_data, normed_train_mean, normed_train_std = norm(x_train)\n",
        "normed_valid_data, normed_valid_mean, normed_valid_std = norm(x_valid)"
      ],
      "execution_count": 0,
      "outputs": [
        {
          "output_type": "stream",
          "text": [
            "/usr/local/lib/python3.6/dist-packages/ipykernel_launcher.py:2: RuntimeWarning: Mean of empty slice.\n",
            "  \n",
            "/usr/local/lib/python3.6/dist-packages/numpy/core/_methods.py:161: RuntimeWarning: invalid value encountered in double_scalars\n",
            "  ret = ret.dtype.type(ret / rcount)\n",
            "/usr/local/lib/python3.6/dist-packages/numpy/core/_methods.py:217: RuntimeWarning: Degrees of freedom <= 0 for slice\n",
            "  keepdims=keepdims)\n",
            "/usr/local/lib/python3.6/dist-packages/numpy/core/_methods.py:186: RuntimeWarning: invalid value encountered in true_divide\n",
            "  arrmean, rcount, out=arrmean, casting='unsafe', subok=False)\n",
            "/usr/local/lib/python3.6/dist-packages/numpy/core/_methods.py:209: RuntimeWarning: invalid value encountered in double_scalars\n",
            "  ret = ret.dtype.type(ret / rcount)\n"
          ],
          "name": "stderr"
        }
      ]
    },
    {
      "cell_type": "code",
      "metadata": {
        "id": "DaNABYvVHeuU",
        "colab_type": "code",
        "outputId": "34d78c82-487a-4acc-c028-affab4dbd5fa",
        "colab": {
          "base_uri": "https://localhost:8080/",
          "height": 85
        }
      },
      "source": [
        "normed_train_data"
      ],
      "execution_count": 0,
      "outputs": [
        {
          "output_type": "execute_result",
          "data": {
            "text/plain": [
              "array([-0.79051654, -0.27861025, -0.6491918 , -0.5329477 , -0.48195181,\n",
              "       -0.31584603, -0.10274612, -0.16876472, -0.23673071, -0.67752522,\n",
              "       -1.1409822 , -1.39688184, -0.81534038, -0.18648381, -0.01866604,\n",
              "        0.53978496,  1.78953735,  2.10323804,  1.98729355,  1.37333129])"
            ]
          },
          "metadata": {
            "tags": []
          },
          "execution_count": 424
        }
      ]
    },
    {
      "cell_type": "code",
      "metadata": {
        "id": "lJwUUZscnG38",
        "colab_type": "code",
        "colab": {}
      },
      "source": [
        "def windowed_dataset(series, window_size, batch_size, shuffle_buffer):\n",
        "    series = tf.expand_dims(series, axis=-1)\n",
        "    ds = tf.data.Dataset.from_tensor_slices(series)\n",
        "    ds = ds.window(window_size + 1, shift=1, drop_remainder=True)\n",
        "    ds = ds.flat_map(lambda w: w.batch(window_size + 1))\n",
        "    ds = ds.shuffle(shuffle_buffer)\n",
        "    ds = ds.map(lambda w: (w[:-1], w[1:]))\n",
        "    return ds.batch(batch_size).prefetch(1)"
      ],
      "execution_count": 0,
      "outputs": []
    },
    {
      "cell_type": "code",
      "metadata": {
        "id": "4XwGrf-A_wF0",
        "colab_type": "code",
        "colab": {}
      },
      "source": [
        "def model_forecast(model, series, window_size):\n",
        "    ds = tf.data.Dataset.from_tensor_slices(series)\n",
        "    ds = ds.window(window_size, shift=1, drop_remainder=True)\n",
        "    ds = ds.flat_map(lambda w: w.batch(window_size))\n",
        "    ds = ds.batch(3).prefetch(1)\n",
        "    forecast = model.predict(ds)\n",
        "    return forecast"
      ],
      "execution_count": 0,
      "outputs": []
    },
    {
      "cell_type": "code",
      "metadata": {
        "id": "AclfYY3Mn6Ph",
        "colab_type": "code",
        "outputId": "c0e91331-74eb-451d-d96b-83645f1341ec",
        "colab": {
          "base_uri": "https://localhost:8080/",
          "height": 1000
        }
      },
      "source": [
        "tf.keras.backend.clear_session()\n",
        "tf.random.set_seed(51)\n",
        "np.random.seed(51)\n",
        "window_size = 3\n",
        "batch_size = 3\n",
        "train_set = windowed_dataset(normed_train_data, window_size, batch_size, shuffle_buffer_size)\n",
        "print(train_set)\n",
        "print(normed_train_data.shape)\n",
        "\n",
        "model = tf.keras.models.Sequential([\n",
        "  #tf.keras.layers.Conv1D(filters=3, kernel_size=2,strides=1, padding=\"causal\",activation=\"relu\",input_shape=[None, 1]),\n",
        "  \n",
        "  tf.keras.layers.LSTM(3, return_sequences=True,input_shape=[None, 1]),\n",
        "  tf.keras.layers.Bidirectional(tf.keras.layers.LSTM(6, return_sequences=False)),\n",
        "  #tf.keras.layers.Dense(30, activation=\"relu\"),\n",
        "  tf.keras.layers.Dense(10, activation=\"relu\"),\n",
        "  tf.keras.layers.Dense(1),\n",
        "  tf.keras.layers.Lambda(lambda x: x * 100.0)\n",
        "])\n",
        "\n",
        "lr_schedule = tf.keras.callbacks.LearningRateScheduler(\n",
        "    lambda epoch: 1e-8 * 10**(epoch / 20))\n",
        "optimizer = tf.keras.optimizers.SGD(lr=1e-8, momentum=0.9)\n",
        "model.compile(loss=tf.keras.losses.Huber(),\n",
        "              optimizer=optimizer,\n",
        "              metrics=[\"mae\"])\n",
        "history = model.fit(train_set, epochs=100, callbacks=[lr_schedule])\n",
        "\n",
        "\n"
      ],
      "execution_count": 0,
      "outputs": [
        {
          "output_type": "stream",
          "text": [
            "<PrefetchDataset shapes: ((None, None, 1), (None, None, 1)), types: (tf.float64, tf.float64)>\n",
            "(20,)\n",
            "Epoch 1/100\n",
            "6/6 [==============================] - 3s 560ms/step - loss: 1.3484 - mae: 1.8091\n",
            "Epoch 2/100\n",
            "6/6 [==============================] - 0s 12ms/step - loss: 1.3385 - mae: 1.8044\n",
            "Epoch 3/100\n",
            "6/6 [==============================] - 0s 11ms/step - loss: 1.2969 - mae: 1.7959\n",
            "Epoch 4/100\n",
            "6/6 [==============================] - 0s 12ms/step - loss: 1.2893 - mae: 1.7855\n",
            "Epoch 5/100\n",
            "6/6 [==============================] - 0s 12ms/step - loss: 1.3190 - mae: 1.7724\n",
            "Epoch 6/100\n",
            "6/6 [==============================] - 0s 13ms/step - loss: 1.2851 - mae: 1.7583\n",
            "Epoch 7/100\n",
            "6/6 [==============================] - 0s 11ms/step - loss: 1.2659 - mae: 1.7412\n",
            "Epoch 8/100\n",
            "6/6 [==============================] - 0s 12ms/step - loss: 1.2257 - mae: 1.7229\n",
            "Epoch 9/100\n",
            "6/6 [==============================] - 0s 12ms/step - loss: 1.2448 - mae: 1.7014\n",
            "Epoch 10/100\n",
            "6/6 [==============================] - 0s 11ms/step - loss: 1.2277 - mae: 1.6783\n",
            "Epoch 11/100\n",
            "6/6 [==============================] - 0s 11ms/step - loss: 1.2024 - mae: 1.6521\n",
            "Epoch 12/100\n",
            "6/6 [==============================] - 0s 12ms/step - loss: 1.1708 - mae: 1.6233\n",
            "Epoch 13/100\n",
            "6/6 [==============================] - 0s 11ms/step - loss: 1.1150 - mae: 1.5904\n",
            "Epoch 14/100\n",
            "6/6 [==============================] - 0s 11ms/step - loss: 1.1129 - mae: 1.5544\n",
            "Epoch 15/100\n",
            "6/6 [==============================] - 0s 11ms/step - loss: 1.0697 - mae: 1.5129\n",
            "Epoch 16/100\n",
            "6/6 [==============================] - 0s 11ms/step - loss: 1.0146 - mae: 1.4715\n",
            "Epoch 17/100\n",
            "6/6 [==============================] - 0s 11ms/step - loss: 0.9745 - mae: 1.4230\n",
            "Epoch 18/100\n",
            "6/6 [==============================] - 0s 11ms/step - loss: 0.9394 - mae: 1.3706\n",
            "Epoch 19/100\n",
            "6/6 [==============================] - 0s 12ms/step - loss: 0.8602 - mae: 1.3175\n",
            "Epoch 20/100\n",
            "6/6 [==============================] - 0s 13ms/step - loss: 0.8183 - mae: 1.2549\n",
            "Epoch 21/100\n",
            "6/6 [==============================] - 0s 12ms/step - loss: 0.7483 - mae: 1.1900\n",
            "Epoch 22/100\n",
            "6/6 [==============================] - 0s 11ms/step - loss: 0.6953 - mae: 1.1246\n",
            "Epoch 23/100\n",
            "6/6 [==============================] - 0s 11ms/step - loss: 0.6172 - mae: 1.0496\n",
            "Epoch 24/100\n",
            "6/6 [==============================] - 0s 11ms/step - loss: 0.5310 - mae: 0.9740\n",
            "Epoch 25/100\n",
            "6/6 [==============================] - 0s 12ms/step - loss: 0.4414 - mae: 0.8896\n",
            "Epoch 26/100\n",
            "6/6 [==============================] - 0s 11ms/step - loss: 0.3773 - mae: 0.8055\n",
            "Epoch 27/100\n",
            "6/6 [==============================] - 0s 11ms/step - loss: 0.3066 - mae: 0.7213\n",
            "Epoch 28/100\n",
            "6/6 [==============================] - 0s 11ms/step - loss: 0.2555 - mae: 0.6579\n",
            "Epoch 29/100\n",
            "6/6 [==============================] - 0s 11ms/step - loss: 0.2077 - mae: 0.5752\n",
            "Epoch 30/100\n",
            "6/6 [==============================] - 0s 11ms/step - loss: 0.1897 - mae: 0.5235\n",
            "Epoch 31/100\n",
            "6/6 [==============================] - 0s 11ms/step - loss: 0.1621 - mae: 0.4765\n",
            "Epoch 32/100\n",
            "6/6 [==============================] - 0s 11ms/step - loss: 0.1510 - mae: 0.4409\n",
            "Epoch 33/100\n",
            "6/6 [==============================] - 0s 12ms/step - loss: 0.1433 - mae: 0.4139\n",
            "Epoch 34/100\n",
            "6/6 [==============================] - 0s 13ms/step - loss: 0.1373 - mae: 0.3998\n",
            "Epoch 35/100\n",
            "6/6 [==============================] - 0s 11ms/step - loss: 0.1349 - mae: 0.3881\n",
            "Epoch 36/100\n",
            "6/6 [==============================] - 0s 11ms/step - loss: 0.1337 - mae: 0.3836\n",
            "Epoch 37/100\n",
            "6/6 [==============================] - 0s 11ms/step - loss: 0.1336 - mae: 0.3807\n",
            "Epoch 38/100\n",
            "6/6 [==============================] - 0s 11ms/step - loss: 0.1298 - mae: 0.3734\n",
            "Epoch 39/100\n",
            "6/6 [==============================] - 0s 11ms/step - loss: 0.1254 - mae: 0.3681\n",
            "Epoch 40/100\n",
            "6/6 [==============================] - 0s 11ms/step - loss: 0.1451 - mae: 0.3637\n",
            "Epoch 41/100\n",
            "6/6 [==============================] - 0s 11ms/step - loss: 0.1217 - mae: 0.3673\n",
            "Epoch 42/100\n",
            "6/6 [==============================] - 0s 12ms/step - loss: 0.1208 - mae: 0.3655\n",
            "Epoch 43/100\n",
            "6/6 [==============================] - 0s 11ms/step - loss: 0.1350 - mae: 0.3603\n",
            "Epoch 44/100\n",
            "6/6 [==============================] - 0s 11ms/step - loss: 0.1231 - mae: 0.3588\n",
            "Epoch 45/100\n",
            "6/6 [==============================] - 0s 11ms/step - loss: 0.1154 - mae: 0.3679\n",
            "Epoch 46/100\n",
            "6/6 [==============================] - 0s 11ms/step - loss: 0.1123 - mae: 0.3639\n",
            "Epoch 47/100\n",
            "6/6 [==============================] - 0s 11ms/step - loss: 0.1255 - mae: 0.3397\n",
            "Epoch 48/100\n",
            "6/6 [==============================] - 0s 12ms/step - loss: 0.1065 - mae: 0.3359\n",
            "Epoch 49/100\n",
            "6/6 [==============================] - 0s 12ms/step - loss: 0.1127 - mae: 0.3575\n",
            "Epoch 50/100\n",
            "6/6 [==============================] - 0s 11ms/step - loss: 0.1170 - mae: 0.3405\n",
            "Epoch 51/100\n",
            "6/6 [==============================] - 0s 11ms/step - loss: 0.1029 - mae: 0.3325\n",
            "Epoch 52/100\n",
            "6/6 [==============================] - 0s 11ms/step - loss: 0.0958 - mae: 0.3302\n",
            "Epoch 53/100\n",
            "6/6 [==============================] - 0s 13ms/step - loss: 0.0875 - mae: 0.3110\n",
            "Epoch 54/100\n",
            "6/6 [==============================] - 0s 11ms/step - loss: 0.0940 - mae: 0.3126\n",
            "Epoch 55/100\n",
            "6/6 [==============================] - 0s 11ms/step - loss: 0.0879 - mae: 0.3085\n",
            "Epoch 56/100\n",
            "6/6 [==============================] - 0s 11ms/step - loss: 0.0852 - mae: 0.2976\n",
            "Epoch 57/100\n",
            "6/6 [==============================] - 0s 11ms/step - loss: 0.0896 - mae: 0.3453\n",
            "Epoch 58/100\n",
            "6/6 [==============================] - 0s 11ms/step - loss: 0.0941 - mae: 0.2903\n",
            "Epoch 59/100\n",
            "6/6 [==============================] - 0s 12ms/step - loss: 0.0756 - mae: 0.3013\n",
            "Epoch 60/100\n",
            "6/6 [==============================] - 0s 12ms/step - loss: 0.0656 - mae: 0.2961\n",
            "Epoch 61/100\n",
            "6/6 [==============================] - 0s 12ms/step - loss: 0.0580 - mae: 0.2488\n",
            "Epoch 62/100\n",
            "6/6 [==============================] - 0s 12ms/step - loss: 0.0515 - mae: 0.2396\n",
            "Epoch 63/100\n",
            "6/6 [==============================] - 0s 13ms/step - loss: 0.0565 - mae: 0.2684\n",
            "Epoch 64/100\n",
            "6/6 [==============================] - 0s 11ms/step - loss: 0.0568 - mae: 0.2708\n",
            "Epoch 65/100\n",
            "6/6 [==============================] - 0s 11ms/step - loss: 0.0446 - mae: 0.2272\n",
            "Epoch 66/100\n",
            "6/6 [==============================] - 0s 12ms/step - loss: 0.0392 - mae: 0.2082\n",
            "Epoch 67/100\n",
            "6/6 [==============================] - 0s 11ms/step - loss: 0.0449 - mae: 0.2277\n",
            "Epoch 68/100\n",
            "6/6 [==============================] - 0s 12ms/step - loss: 0.0354 - mae: 0.2194\n",
            "Epoch 69/100\n",
            "6/6 [==============================] - 0s 11ms/step - loss: 0.0330 - mae: 0.1942\n",
            "Epoch 70/100\n",
            "6/6 [==============================] - 0s 11ms/step - loss: 0.0351 - mae: 0.2049\n",
            "Epoch 71/100\n",
            "6/6 [==============================] - 0s 11ms/step - loss: 0.0384 - mae: 0.2299\n",
            "Epoch 72/100\n",
            "6/6 [==============================] - 0s 11ms/step - loss: 0.0411 - mae: 0.2347\n",
            "Epoch 73/100\n",
            "6/6 [==============================] - 0s 11ms/step - loss: 0.0307 - mae: 0.1941\n",
            "Epoch 74/100\n",
            "6/6 [==============================] - 0s 11ms/step - loss: 0.0353 - mae: 0.2144\n",
            "Epoch 75/100\n",
            "6/6 [==============================] - 0s 11ms/step - loss: 0.0397 - mae: 0.2339\n",
            "Epoch 76/100\n",
            "6/6 [==============================] - 0s 12ms/step - loss: 0.0356 - mae: 0.2101\n",
            "Epoch 77/100\n",
            "6/6 [==============================] - 0s 12ms/step - loss: 0.0388 - mae: 0.2150\n",
            "Epoch 78/100\n",
            "6/6 [==============================] - 0s 12ms/step - loss: 0.0524 - mae: 0.2787\n",
            "Epoch 79/100\n",
            "6/6 [==============================] - 0s 12ms/step - loss: 0.0691 - mae: 0.2695\n",
            "Epoch 80/100\n",
            "6/6 [==============================] - 0s 11ms/step - loss: 0.1204 - mae: 0.4001\n",
            "Epoch 81/100\n",
            "6/6 [==============================] - 0s 11ms/step - loss: 0.0653 - mae: 0.2897\n",
            "Epoch 82/100\n",
            "6/6 [==============================] - 0s 11ms/step - loss: 0.0636 - mae: 0.3002\n",
            "Epoch 83/100\n",
            "6/6 [==============================] - 0s 12ms/step - loss: 0.0492 - mae: 0.2538\n",
            "Epoch 84/100\n",
            "6/6 [==============================] - 0s 11ms/step - loss: 0.1627 - mae: 0.4424\n",
            "Epoch 85/100\n",
            "6/6 [==============================] - 0s 11ms/step - loss: 0.0733 - mae: 0.3174\n",
            "Epoch 86/100\n",
            "6/6 [==============================] - 0s 12ms/step - loss: 0.1142 - mae: 0.3914\n",
            "Epoch 87/100\n",
            "6/6 [==============================] - 0s 11ms/step - loss: 0.2729 - mae: 0.6061\n",
            "Epoch 88/100\n",
            "6/6 [==============================] - 0s 12ms/step - loss: 0.5285 - mae: 0.9282\n",
            "Epoch 89/100\n",
            "6/6 [==============================] - 0s 11ms/step - loss: 1.4511 - mae: 1.9060\n",
            "Epoch 90/100\n",
            "6/6 [==============================] - 0s 11ms/step - loss: 0.6177 - mae: 1.0396\n",
            "Epoch 91/100\n",
            "6/6 [==============================] - 0s 13ms/step - loss: 1.5808 - mae: 2.1124\n",
            "Epoch 92/100\n",
            "6/6 [==============================] - 0s 11ms/step - loss: 0.5006 - mae: 0.8811\n",
            "Epoch 93/100\n",
            "6/6 [==============================] - 0s 11ms/step - loss: 2.8320 - mae: 3.1419\n",
            "Epoch 94/100\n",
            "6/6 [==============================] - 0s 11ms/step - loss: 5.7919 - mae: 6.4268\n",
            "Epoch 95/100\n",
            "6/6 [==============================] - 0s 11ms/step - loss: 5.5031 - mae: 6.0382\n",
            "Epoch 96/100\n",
            "6/6 [==============================] - 0s 11ms/step - loss: 3.0572 - mae: 3.5322\n",
            "Epoch 97/100\n",
            "6/6 [==============================] - 0s 11ms/step - loss: 1.2735 - mae: 1.6587\n",
            "Epoch 98/100\n",
            "6/6 [==============================] - 0s 12ms/step - loss: 4.9345 - mae: 5.3508\n",
            "Epoch 99/100\n",
            "6/6 [==============================] - 0s 11ms/step - loss: 7.5208 - mae: 7.9318\n",
            "Epoch 100/100\n",
            "6/6 [==============================] - 0s 11ms/step - loss: 8.4943 - mae: 8.7195\n"
          ],
          "name": "stdout"
        }
      ]
    },
    {
      "cell_type": "code",
      "metadata": {
        "id": "vVcKmg7Q_7rD",
        "colab_type": "code",
        "outputId": "62b45bde-b4c1-4603-add9-683d452bb48c",
        "colab": {
          "base_uri": "https://localhost:8080/",
          "height": 286
        }
      },
      "source": [
        "plt.semilogx(history.history[\"lr\"], history.history[\"loss\"])\n",
        "#plt.axis([1e-8, 1e-3, 100000, 140000])"
      ],
      "execution_count": 0,
      "outputs": [
        {
          "output_type": "execute_result",
          "data": {
            "text/plain": [
              "[<matplotlib.lines.Line2D at 0x7fc755ba9fd0>]"
            ]
          },
          "metadata": {
            "tags": []
          },
          "execution_count": 362
        },
        {
          "output_type": "display_data",
          "data": {
            "image/png": "[encoded data removed]",
            "text/plain": [
              "<Figure size 432x288 with 1 Axes>"
            ]
          },
          "metadata": {
            "tags": []
          }
        }
      ]
    },
    {
      "cell_type": "code",
      "metadata": {
        "id": "bx0MwfD5D0yu",
        "colab_type": "code",
        "outputId": "b832046c-fab5-4a15-e4cc-2960105773ee",
        "colab": {
          "base_uri": "https://localhost:8080/",
          "height": 34
        }
      },
      "source": [
        "bestLr = history.history[\"lr\"][np.argmin(history.history[\"loss\"])]\n",
        "bestLr"
      ],
      "execution_count": 0,
      "outputs": [
        {
          "output_type": "execute_result",
          "data": {
            "text/plain": [
              "3.981072e-05"
            ]
          },
          "metadata": {
            "tags": []
          },
          "execution_count": 363
        }
      ]
    },
    {
      "cell_type": "code",
      "metadata": {
        "id": "QsksvkcXAAgq",
        "colab_type": "code",
        "colab": {}
      },
      "source": [
        "tf.keras.backend.clear_session()\n",
        "tf.random.set_seed(51)\n",
        "np.random.seed(51)\n",
        "train_set = windowed_dataset(normed_train_data, window_size=3, batch_size=3, shuffle_buffer=shuffle_buffer_size)\n",
        "\n",
        "\n",
        "model = tf.keras.models.Sequential([\n",
        "  #tf.keras.layers.Conv1D(filters=60, kernel_size=5,strides=1, padding=\"causal\",activation=\"relu\",input_shape=[None, 1]),\n",
        "  #tf.keras.layers.LSTM(60, return_sequences=True),\n",
        "  tf.keras.layers.LSTM(3, return_sequences=True,input_shape=[None, 1]),\n",
        "  tf.keras.layers.Bidirectional(tf.keras.layers.LSTM(6, return_sequences=False)),\n",
        "  #tf.keras.layers.Dense(30, activation=\"relu\"),\n",
        "  tf.keras.layers.Dense(10, activation=\"relu\"),\n",
        "  tf.keras.layers.Dense(1),\n",
        "  tf.keras.layers.Lambda(lambda x: x * 100)\n",
        "])\n",
        "\n",
        "\n",
        "optimizer = tf.keras.optimizers.SGD(lr=bestLr, momentum=0.9)\n",
        "model.compile(loss=tf.keras.losses.Huber(),\n",
        "              optimizer=optimizer,\n",
        "              metrics=[\"mae\"])\n"
      ],
      "execution_count": 0,
      "outputs": []
    },
    {
      "cell_type": "code",
      "metadata": {
        "id": "bbq_AmK2n36z",
        "colab_type": "code",
        "outputId": "b39b3c9d-5c93-4edb-9dc9-f34b9840af1b",
        "colab": {
          "base_uri": "https://localhost:8080/",
          "height": 323
        }
      },
      "source": [
        "model.summary()"
      ],
      "execution_count": 0,
      "outputs": [
        {
          "output_type": "stream",
          "text": [
            "Model: \"sequential\"\n",
            "_________________________________________________________________\n",
            "Layer (type)                 Output Shape              Param #   \n",
            "=================================================================\n",
            "lstm (LSTM)                  (None, None, 3)           60        \n",
            "_________________________________________________________________\n",
            "bidirectional (Bidirectional (None, 12)                480       \n",
            "_________________________________________________________________\n",
            "dense (Dense)                (None, 10)                130       \n",
            "_________________________________________________________________\n",
            "dense_1 (Dense)              (None, 1)                 11        \n",
            "_________________________________________________________________\n",
            "lambda (Lambda)              (None, 1)                 0         \n",
            "=================================================================\n",
            "Total params: 681\n",
            "Trainable params: 681\n",
            "Non-trainable params: 0\n",
            "_________________________________________________________________\n"
          ],
          "name": "stdout"
        }
      ]
    },
    {
      "cell_type": "code",
      "metadata": {
        "id": "IIduCWnoEchB",
        "colab_type": "code",
        "outputId": "c3637ef9-6b86-464e-c843-1c252d14253b",
        "colab": {
          "base_uri": "https://localhost:8080/",
          "height": 1000
        }
      },
      "source": [
        "history = model.fit(train_set,epochs=250)"
      ],
      "execution_count": 0,
      "outputs": [
        {
          "output_type": "stream",
          "text": [
            "Epoch 1/250\n",
            "6/6 [==============================] - 3s 568ms/step - loss: 0.8487 - mae: 1.2055\n",
            "Epoch 2/250\n",
            "6/6 [==============================] - 0s 12ms/step - loss: 0.9823 - mae: 1.4486\n",
            "Epoch 3/250\n",
            "6/6 [==============================] - 0s 11ms/step - loss: 0.5166 - mae: 0.9485\n",
            "Epoch 4/250\n",
            "6/6 [==============================] - 0s 13ms/step - loss: 0.3560 - mae: 0.7373\n",
            "Epoch 5/250\n",
            "6/6 [==============================] - 0s 13ms/step - loss: 0.2437 - mae: 0.5912\n",
            "Epoch 6/250\n",
            "6/6 [==============================] - 0s 12ms/step - loss: 0.2176 - mae: 0.5210\n",
            "Epoch 7/250\n",
            "6/6 [==============================] - 0s 11ms/step - loss: 0.4036 - mae: 0.8430\n",
            "Epoch 8/250\n",
            "6/6 [==============================] - 0s 12ms/step - loss: 0.4198 - mae: 0.8357\n",
            "Epoch 9/250\n",
            "6/6 [==============================] - 0s 12ms/step - loss: 0.2829 - mae: 0.6756\n",
            "Epoch 10/250\n",
            "6/6 [==============================] - 0s 11ms/step - loss: 0.2671 - mae: 0.6119\n",
            "Epoch 11/250\n",
            "6/6 [==============================] - 0s 11ms/step - loss: 0.1272 - mae: 0.4089\n",
            "Epoch 12/250\n",
            "6/6 [==============================] - 0s 12ms/step - loss: 0.0680 - mae: 0.2962\n",
            "Epoch 13/250\n",
            "6/6 [==============================] - 0s 12ms/step - loss: 0.0423 - mae: 0.2338\n",
            "Epoch 14/250\n",
            "6/6 [==============================] - 0s 12ms/step - loss: 0.0436 - mae: 0.2539\n",
            "Epoch 15/250\n",
            "6/6 [==============================] - 0s 12ms/step - loss: 0.0348 - mae: 0.2292\n",
            "Epoch 16/250\n",
            "6/6 [==============================] - 0s 11ms/step - loss: 0.0273 - mae: 0.1974\n",
            "Epoch 17/250\n",
            "6/6 [==============================] - 0s 12ms/step - loss: 0.0396 - mae: 0.2200\n",
            "Epoch 18/250\n",
            "6/6 [==============================] - 0s 12ms/step - loss: 0.0244 - mae: 0.1792\n",
            "Epoch 19/250\n",
            "6/6 [==============================] - 0s 13ms/step - loss: 0.0242 - mae: 0.1765\n",
            "Epoch 20/250\n",
            "6/6 [==============================] - 0s 11ms/step - loss: 0.0301 - mae: 0.2049\n",
            "Epoch 21/250\n",
            "6/6 [==============================] - 0s 12ms/step - loss: 0.0180 - mae: 0.1313\n",
            "Epoch 22/250\n",
            "6/6 [==============================] - 0s 11ms/step - loss: 0.0198 - mae: 0.1590\n",
            "Epoch 23/250\n",
            "6/6 [==============================] - 0s 12ms/step - loss: 0.0215 - mae: 0.1631\n",
            "Epoch 24/250\n",
            "6/6 [==============================] - 0s 12ms/step - loss: 0.0214 - mae: 0.1646\n",
            "Epoch 25/250\n",
            "6/6 [==============================] - 0s 13ms/step - loss: 0.0192 - mae: 0.1562\n",
            "Epoch 26/250\n",
            "6/6 [==============================] - 0s 12ms/step - loss: 0.0185 - mae: 0.1510\n",
            "Epoch 27/250\n",
            "6/6 [==============================] - 0s 12ms/step - loss: 0.0163 - mae: 0.1384\n",
            "Epoch 28/250\n",
            "6/6 [==============================] - 0s 11ms/step - loss: 0.0207 - mae: 0.1563\n",
            "Epoch 29/250\n",
            "6/6 [==============================] - 0s 11ms/step - loss: 0.0199 - mae: 0.1507\n",
            "Epoch 30/250\n",
            "6/6 [==============================] - 0s 12ms/step - loss: 0.0246 - mae: 0.1756\n",
            "Epoch 31/250\n",
            "6/6 [==============================] - 0s 11ms/step - loss: 0.0212 - mae: 0.1611\n",
            "Epoch 32/250\n",
            "6/6 [==============================] - 0s 11ms/step - loss: 0.0182 - mae: 0.1557\n",
            "Epoch 33/250\n",
            "6/6 [==============================] - 0s 14ms/step - loss: 0.0188 - mae: 0.1520\n",
            "Epoch 34/250\n",
            "6/6 [==============================] - 0s 11ms/step - loss: 0.0166 - mae: 0.1408\n",
            "Epoch 35/250\n",
            "6/6 [==============================] - 0s 12ms/step - loss: 0.0186 - mae: 0.1424\n",
            "Epoch 36/250\n",
            "6/6 [==============================] - 0s 14ms/step - loss: 0.0183 - mae: 0.1406\n",
            "Epoch 37/250\n",
            "6/6 [==============================] - 0s 12ms/step - loss: 0.0183 - mae: 0.1440\n",
            "Epoch 38/250\n",
            "6/6 [==============================] - 0s 13ms/step - loss: 0.0163 - mae: 0.1461\n",
            "Epoch 39/250\n",
            "6/6 [==============================] - 0s 12ms/step - loss: 0.0205 - mae: 0.1485\n",
            "Epoch 40/250\n",
            "6/6 [==============================] - 0s 11ms/step - loss: 0.0170 - mae: 0.1486\n",
            "Epoch 41/250\n",
            "6/6 [==============================] - 0s 11ms/step - loss: 0.0168 - mae: 0.1383\n",
            "Epoch 42/250\n",
            "6/6 [==============================] - 0s 11ms/step - loss: 0.0177 - mae: 0.1472\n",
            "Epoch 43/250\n",
            "6/6 [==============================] - 0s 12ms/step - loss: 0.0176 - mae: 0.1407\n",
            "Epoch 44/250\n",
            "6/6 [==============================] - 0s 12ms/step - loss: 0.0164 - mae: 0.1358\n",
            "Epoch 45/250\n",
            "6/6 [==============================] - 0s 12ms/step - loss: 0.0172 - mae: 0.1417\n",
            "Epoch 46/250\n",
            "6/6 [==============================] - 0s 13ms/step - loss: 0.0194 - mae: 0.1568\n",
            "Epoch 47/250\n",
            "6/6 [==============================] - 0s 13ms/step - loss: 0.0163 - mae: 0.1375\n",
            "Epoch 48/250\n",
            "6/6 [==============================] - 0s 11ms/step - loss: 0.0169 - mae: 0.1397\n",
            "Epoch 49/250\n",
            "6/6 [==============================] - 0s 12ms/step - loss: 0.0192 - mae: 0.1582\n",
            "Epoch 50/250\n",
            "6/6 [==============================] - 0s 12ms/step - loss: 0.0207 - mae: 0.1596\n",
            "Epoch 51/250\n",
            "6/6 [==============================] - 0s 12ms/step - loss: 0.0180 - mae: 0.1428\n",
            "Epoch 52/250\n",
            "6/6 [==============================] - 0s 11ms/step - loss: 0.0180 - mae: 0.1484\n",
            "Epoch 53/250\n",
            "6/6 [==============================] - 0s 12ms/step - loss: 0.0192 - mae: 0.1508\n",
            "Epoch 54/250\n",
            "6/6 [==============================] - 0s 12ms/step - loss: 0.0193 - mae: 0.1404\n",
            "Epoch 55/250\n",
            "6/6 [==============================] - 0s 12ms/step - loss: 0.0170 - mae: 0.1418\n",
            "Epoch 56/250\n",
            "6/6 [==============================] - 0s 12ms/step - loss: 0.0178 - mae: 0.1404\n",
            "Epoch 57/250\n",
            "6/6 [==============================] - 0s 12ms/step - loss: 0.0198 - mae: 0.1560\n",
            "Epoch 58/250\n",
            "6/6 [==============================] - 0s 12ms/step - loss: 0.0184 - mae: 0.1570\n",
            "Epoch 59/250\n",
            "6/6 [==============================] - 0s 12ms/step - loss: 0.0183 - mae: 0.1437\n",
            "Epoch 60/250\n",
            "6/6 [==============================] - 0s 11ms/step - loss: 0.0189 - mae: 0.1496\n",
            "Epoch 61/250\n",
            "6/6 [==============================] - 0s 14ms/step - loss: 0.0272 - mae: 0.1999\n",
            "Epoch 62/250\n",
            "6/6 [==============================] - 0s 13ms/step - loss: 0.0182 - mae: 0.1472\n",
            "Epoch 63/250\n",
            "6/6 [==============================] - 0s 12ms/step - loss: 0.0173 - mae: 0.1436\n",
            "Epoch 64/250\n",
            "6/6 [==============================] - 0s 12ms/step - loss: 0.0154 - mae: 0.1382\n",
            "Epoch 65/250\n",
            "6/6 [==============================] - 0s 12ms/step - loss: 0.0174 - mae: 0.1429\n",
            "Epoch 66/250\n",
            "6/6 [==============================] - 0s 12ms/step - loss: 0.0176 - mae: 0.1478\n",
            "Epoch 67/250\n",
            "6/6 [==============================] - 0s 12ms/step - loss: 0.0198 - mae: 0.1582\n",
            "Epoch 68/250\n",
            "6/6 [==============================] - 0s 12ms/step - loss: 0.0204 - mae: 0.1466\n",
            "Epoch 69/250\n",
            "6/6 [==============================] - 0s 12ms/step - loss: 0.0191 - mae: 0.1416\n",
            "Epoch 70/250\n",
            "6/6 [==============================] - 0s 12ms/step - loss: 0.0186 - mae: 0.1534\n",
            "Epoch 71/250\n",
            "6/6 [==============================] - 0s 11ms/step - loss: 0.0174 - mae: 0.1428\n",
            "Epoch 72/250\n",
            "6/6 [==============================] - 0s 11ms/step - loss: 0.0169 - mae: 0.1412\n",
            "Epoch 73/250\n",
            "6/6 [==============================] - 0s 12ms/step - loss: 0.0166 - mae: 0.1426\n",
            "Epoch 74/250\n",
            "6/6 [==============================] - 0s 11ms/step - loss: 0.0166 - mae: 0.1419\n",
            "Epoch 75/250\n",
            "6/6 [==============================] - 0s 13ms/step - loss: 0.0160 - mae: 0.1374\n",
            "Epoch 76/250\n",
            "6/6 [==============================] - 0s 11ms/step - loss: 0.0162 - mae: 0.1388\n",
            "Epoch 77/250\n",
            "6/6 [==============================] - 0s 11ms/step - loss: 0.0158 - mae: 0.1372\n",
            "Epoch 78/250\n",
            "6/6 [==============================] - 0s 12ms/step - loss: 0.0170 - mae: 0.1430\n",
            "Epoch 79/250\n",
            "6/6 [==============================] - 0s 12ms/step - loss: 0.0188 - mae: 0.1400\n",
            "Epoch 80/250\n",
            "6/6 [==============================] - 0s 11ms/step - loss: 0.0168 - mae: 0.1378\n",
            "Epoch 81/250\n",
            "6/6 [==============================] - 0s 11ms/step - loss: 0.0166 - mae: 0.1422\n",
            "Epoch 82/250\n",
            "6/6 [==============================] - 0s 12ms/step - loss: 0.0158 - mae: 0.1356\n",
            "Epoch 83/250\n",
            "6/6 [==============================] - 0s 11ms/step - loss: 0.0160 - mae: 0.1383\n",
            "Epoch 84/250\n",
            "6/6 [==============================] - 0s 13ms/step - loss: 0.0162 - mae: 0.1343\n",
            "Epoch 85/250\n",
            "6/6 [==============================] - 0s 12ms/step - loss: 0.0158 - mae: 0.1382\n",
            "Epoch 86/250\n",
            "6/6 [==============================] - 0s 11ms/step - loss: 0.0175 - mae: 0.1428\n",
            "Epoch 87/250\n",
            "6/6 [==============================] - 0s 12ms/step - loss: 0.0204 - mae: 0.1602\n",
            "Epoch 88/250\n",
            "6/6 [==============================] - 0s 12ms/step - loss: 0.0184 - mae: 0.1412\n",
            "Epoch 89/250\n",
            "6/6 [==============================] - 0s 13ms/step - loss: 0.0169 - mae: 0.1363\n",
            "Epoch 90/250\n",
            "6/6 [==============================] - 0s 12ms/step - loss: 0.0171 - mae: 0.1445\n",
            "Epoch 91/250\n",
            "6/6 [==============================] - 0s 12ms/step - loss: 0.0168 - mae: 0.1442\n",
            "Epoch 92/250\n",
            "6/6 [==============================] - 0s 11ms/step - loss: 0.0185 - mae: 0.1559\n",
            "Epoch 93/250\n",
            "6/6 [==============================] - 0s 12ms/step - loss: 0.0230 - mae: 0.1670\n",
            "Epoch 94/250\n",
            "6/6 [==============================] - 0s 12ms/step - loss: 0.0207 - mae: 0.1585\n",
            "Epoch 95/250\n",
            "6/6 [==============================] - 0s 13ms/step - loss: 0.0160 - mae: 0.1334\n",
            "Epoch 96/250\n",
            "6/6 [==============================] - 0s 12ms/step - loss: 0.0189 - mae: 0.1523\n",
            "Epoch 97/250\n",
            "6/6 [==============================] - 0s 12ms/step - loss: 0.0168 - mae: 0.1350\n",
            "Epoch 98/250\n",
            "6/6 [==============================] - 0s 12ms/step - loss: 0.0168 - mae: 0.1329\n",
            "Epoch 99/250\n",
            "6/6 [==============================] - 0s 13ms/step - loss: 0.0160 - mae: 0.1386\n",
            "Epoch 100/250\n",
            "6/6 [==============================] - 0s 12ms/step - loss: 0.0195 - mae: 0.1569\n",
            "Epoch 101/250\n",
            "6/6 [==============================] - 0s 12ms/step - loss: 0.0163 - mae: 0.1360\n",
            "Epoch 102/250\n",
            "6/6 [==============================] - 0s 12ms/step - loss: 0.0173 - mae: 0.1418\n",
            "Epoch 103/250\n",
            "6/6 [==============================] - 0s 15ms/step - loss: 0.0168 - mae: 0.1484\n",
            "Epoch 104/250\n",
            "6/6 [==============================] - 0s 12ms/step - loss: 0.0176 - mae: 0.1504\n",
            "Epoch 105/250\n",
            "6/6 [==============================] - 0s 12ms/step - loss: 0.0179 - mae: 0.1378\n",
            "Epoch 106/250\n",
            "6/6 [==============================] - 0s 13ms/step - loss: 0.0176 - mae: 0.1397\n",
            "Epoch 107/250\n",
            "6/6 [==============================] - 0s 11ms/step - loss: 0.0213 - mae: 0.1523\n",
            "Epoch 108/250\n",
            "6/6 [==============================] - 0s 12ms/step - loss: 0.0223 - mae: 0.1736\n",
            "Epoch 109/250\n",
            "6/6 [==============================] - 0s 12ms/step - loss: 0.0241 - mae: 0.1714\n",
            "Epoch 110/250\n",
            "6/6 [==============================] - 0s 12ms/step - loss: 0.0239 - mae: 0.1658\n",
            "Epoch 111/250\n",
            "6/6 [==============================] - 0s 12ms/step - loss: 0.0205 - mae: 0.1634\n",
            "Epoch 112/250\n",
            "6/6 [==============================] - 0s 12ms/step - loss: 0.0225 - mae: 0.1710\n",
            "Epoch 113/250\n",
            "6/6 [==============================] - 0s 12ms/step - loss: 0.0232 - mae: 0.1684\n",
            "Epoch 114/250\n",
            "6/6 [==============================] - 0s 12ms/step - loss: 0.0157 - mae: 0.1401\n",
            "Epoch 115/250\n",
            "6/6 [==============================] - 0s 12ms/step - loss: 0.0195 - mae: 0.1545\n",
            "Epoch 116/250\n",
            "6/6 [==============================] - 0s 12ms/step - loss: 0.0167 - mae: 0.1440\n",
            "Epoch 117/250\n",
            "6/6 [==============================] - 0s 13ms/step - loss: 0.0160 - mae: 0.1375\n",
            "Epoch 118/250\n",
            "6/6 [==============================] - 0s 12ms/step - loss: 0.0162 - mae: 0.1356\n",
            "Epoch 119/250\n",
            "6/6 [==============================] - 0s 12ms/step - loss: 0.0167 - mae: 0.1456\n",
            "Epoch 120/250\n",
            "6/6 [==============================] - 0s 12ms/step - loss: 0.0229 - mae: 0.1794\n",
            "Epoch 121/250\n",
            "6/6 [==============================] - 0s 12ms/step - loss: 0.0247 - mae: 0.1682\n",
            "Epoch 122/250\n",
            "6/6 [==============================] - 0s 12ms/step - loss: 0.0210 - mae: 0.1653\n",
            "Epoch 123/250\n",
            "6/6 [==============================] - 0s 12ms/step - loss: 0.0198 - mae: 0.1513\n",
            "Epoch 124/250\n",
            "6/6 [==============================] - 0s 12ms/step - loss: 0.0173 - mae: 0.1427\n",
            "Epoch 125/250\n",
            "6/6 [==============================] - 0s 11ms/step - loss: 0.0167 - mae: 0.1439\n",
            "Epoch 126/250\n",
            "6/6 [==============================] - 0s 12ms/step - loss: 0.0199 - mae: 0.1579\n",
            "Epoch 127/250\n",
            "6/6 [==============================] - 0s 12ms/step - loss: 0.0187 - mae: 0.1444\n",
            "Epoch 128/250\n",
            "6/6 [==============================] - 0s 12ms/step - loss: 0.0176 - mae: 0.1500\n",
            "Epoch 129/250\n",
            "6/6 [==============================] - 0s 12ms/step - loss: 0.0184 - mae: 0.1553\n",
            "Epoch 130/250\n",
            "6/6 [==============================] - 0s 12ms/step - loss: 0.0210 - mae: 0.1546\n",
            "Epoch 131/250\n",
            "6/6 [==============================] - 0s 14ms/step - loss: 0.0172 - mae: 0.1416\n",
            "Epoch 132/250\n",
            "6/6 [==============================] - 0s 11ms/step - loss: 0.0185 - mae: 0.1473\n",
            "Epoch 133/250\n",
            "6/6 [==============================] - 0s 12ms/step - loss: 0.0151 - mae: 0.1392\n",
            "Epoch 134/250\n",
            "6/6 [==============================] - 0s 12ms/step - loss: 0.0159 - mae: 0.1413\n",
            "Epoch 135/250\n",
            "6/6 [==============================] - 0s 12ms/step - loss: 0.0172 - mae: 0.1422\n",
            "Epoch 136/250\n",
            "6/6 [==============================] - 0s 12ms/step - loss: 0.0167 - mae: 0.1405\n",
            "Epoch 137/250\n",
            "6/6 [==============================] - 0s 12ms/step - loss: 0.0202 - mae: 0.1639\n",
            "Epoch 138/250\n",
            "6/6 [==============================] - 0s 12ms/step - loss: 0.0206 - mae: 0.1570\n",
            "Epoch 139/250\n",
            "6/6 [==============================] - 0s 12ms/step - loss: 0.0168 - mae: 0.1448\n",
            "Epoch 140/250\n",
            "6/6 [==============================] - 0s 11ms/step - loss: 0.0185 - mae: 0.1491\n",
            "Epoch 141/250\n",
            "6/6 [==============================] - 0s 11ms/step - loss: 0.0195 - mae: 0.1533\n",
            "Epoch 142/250\n",
            "6/6 [==============================] - 0s 12ms/step - loss: 0.0178 - mae: 0.1393\n",
            "Epoch 143/250\n",
            "6/6 [==============================] - 0s 13ms/step - loss: 0.0188 - mae: 0.1569\n",
            "Epoch 144/250\n",
            "6/6 [==============================] - 0s 14ms/step - loss: 0.0230 - mae: 0.1707\n",
            "Epoch 145/250\n",
            "6/6 [==============================] - 0s 12ms/step - loss: 0.0180 - mae: 0.1427\n",
            "Epoch 146/250\n",
            "6/6 [==============================] - 0s 11ms/step - loss: 0.0174 - mae: 0.1487\n",
            "Epoch 147/250\n",
            "6/6 [==============================] - 0s 13ms/step - loss: 0.0228 - mae: 0.1792\n",
            "Epoch 148/250\n",
            "6/6 [==============================] - 0s 12ms/step - loss: 0.0209 - mae: 0.1554\n",
            "Epoch 149/250\n",
            "6/6 [==============================] - 0s 12ms/step - loss: 0.0170 - mae: 0.1335\n",
            "Epoch 150/250\n",
            "6/6 [==============================] - 0s 11ms/step - loss: 0.0164 - mae: 0.1441\n",
            "Epoch 151/250\n",
            "6/6 [==============================] - 0s 11ms/step - loss: 0.0165 - mae: 0.1456\n",
            "Epoch 152/250\n",
            "6/6 [==============================] - 0s 12ms/step - loss: 0.0195 - mae: 0.1561\n",
            "Epoch 153/250\n",
            "6/6 [==============================] - 0s 11ms/step - loss: 0.0181 - mae: 0.1562\n",
            "Epoch 154/250\n",
            "6/6 [==============================] - 0s 12ms/step - loss: 0.0193 - mae: 0.1581\n",
            "Epoch 155/250\n",
            "6/6 [==============================] - 0s 11ms/step - loss: 0.0259 - mae: 0.1752\n",
            "Epoch 156/250\n",
            "6/6 [==============================] - 0s 12ms/step - loss: 0.0192 - mae: 0.1522\n",
            "Epoch 157/250\n",
            "6/6 [==============================] - 0s 12ms/step - loss: 0.0168 - mae: 0.1480\n",
            "Epoch 158/250\n",
            "6/6 [==============================] - 0s 12ms/step - loss: 0.0162 - mae: 0.1375\n",
            "Epoch 159/250\n",
            "6/6 [==============================] - 0s 13ms/step - loss: 0.0158 - mae: 0.1444\n",
            "Epoch 160/250\n",
            "6/6 [==============================] - 0s 12ms/step - loss: 0.0181 - mae: 0.1513\n",
            "Epoch 161/250\n",
            "6/6 [==============================] - 0s 12ms/step - loss: 0.0158 - mae: 0.1363\n",
            "Epoch 162/250\n",
            "6/6 [==============================] - 0s 13ms/step - loss: 0.0161 - mae: 0.1379\n",
            "Epoch 163/250\n",
            "6/6 [==============================] - 0s 12ms/step - loss: 0.0155 - mae: 0.1376\n",
            "Epoch 164/250\n",
            "6/6 [==============================] - 0s 12ms/step - loss: 0.0170 - mae: 0.1418\n",
            "Epoch 165/250\n",
            "6/6 [==============================] - 0s 12ms/step - loss: 0.0225 - mae: 0.1710\n",
            "Epoch 166/250\n",
            "6/6 [==============================] - 0s 12ms/step - loss: 0.0169 - mae: 0.1504\n",
            "Epoch 167/250\n",
            "6/6 [==============================] - 0s 11ms/step - loss: 0.0204 - mae: 0.1551\n",
            "Epoch 168/250\n",
            "6/6 [==============================] - 0s 12ms/step - loss: 0.0182 - mae: 0.1483\n",
            "Epoch 169/250\n",
            "6/6 [==============================] - 0s 12ms/step - loss: 0.0191 - mae: 0.1563\n",
            "Epoch 170/250\n",
            "6/6 [==============================] - 0s 12ms/step - loss: 0.0229 - mae: 0.1751\n",
            "Epoch 171/250\n",
            "6/6 [==============================] - 0s 12ms/step - loss: 0.0186 - mae: 0.1417\n",
            "Epoch 172/250\n",
            "6/6 [==============================] - 0s 15ms/step - loss: 0.0157 - mae: 0.1377\n",
            "Epoch 173/250\n",
            "6/6 [==============================] - 0s 12ms/step - loss: 0.0162 - mae: 0.1365\n",
            "Epoch 174/250\n",
            "6/6 [==============================] - 0s 12ms/step - loss: 0.0164 - mae: 0.1440\n",
            "Epoch 175/250\n",
            "6/6 [==============================] - 0s 12ms/step - loss: 0.0185 - mae: 0.1521\n",
            "Epoch 176/250\n",
            "6/6 [==============================] - 0s 12ms/step - loss: 0.0170 - mae: 0.1427\n",
            "Epoch 177/250\n",
            "6/6 [==============================] - 0s 12ms/step - loss: 0.0199 - mae: 0.1626\n",
            "Epoch 178/250\n",
            "6/6 [==============================] - 0s 12ms/step - loss: 0.0165 - mae: 0.1383\n",
            "Epoch 179/250\n",
            "6/6 [==============================] - 0s 12ms/step - loss: 0.0175 - mae: 0.1375\n",
            "Epoch 180/250\n",
            "6/6 [==============================] - 0s 12ms/step - loss: 0.0193 - mae: 0.1581\n",
            "Epoch 181/250\n",
            "6/6 [==============================] - 0s 12ms/step - loss: 0.0251 - mae: 0.1794\n",
            "Epoch 182/250\n",
            "6/6 [==============================] - 0s 12ms/step - loss: 0.0208 - mae: 0.1626\n",
            "Epoch 183/250\n",
            "6/6 [==============================] - 0s 13ms/step - loss: 0.0197 - mae: 0.1482\n",
            "Epoch 184/250\n",
            "6/6 [==============================] - 0s 13ms/step - loss: 0.0193 - mae: 0.1632\n",
            "Epoch 185/250\n",
            "6/6 [==============================] - 0s 12ms/step - loss: 0.0190 - mae: 0.1576\n",
            "Epoch 186/250\n",
            "6/6 [==============================] - 0s 15ms/step - loss: 0.0194 - mae: 0.1479\n",
            "Epoch 187/250\n",
            "6/6 [==============================] - 0s 12ms/step - loss: 0.0178 - mae: 0.1575\n",
            "Epoch 188/250\n",
            "6/6 [==============================] - 0s 12ms/step - loss: 0.0249 - mae: 0.1756\n",
            "Epoch 189/250\n",
            "6/6 [==============================] - 0s 12ms/step - loss: 0.0186 - mae: 0.1538\n",
            "Epoch 190/250\n",
            "6/6 [==============================] - 0s 12ms/step - loss: 0.0152 - mae: 0.1357\n",
            "Epoch 191/250\n",
            "6/6 [==============================] - 0s 12ms/step - loss: 0.0173 - mae: 0.1415\n",
            "Epoch 192/250\n",
            "6/6 [==============================] - 0s 12ms/step - loss: 0.0167 - mae: 0.1431\n",
            "Epoch 193/250\n",
            "6/6 [==============================] - 0s 12ms/step - loss: 0.0164 - mae: 0.1458\n",
            "Epoch 194/250\n",
            "6/6 [==============================] - 0s 12ms/step - loss: 0.0187 - mae: 0.1589\n",
            "Epoch 195/250\n",
            "6/6 [==============================] - 0s 12ms/step - loss: 0.0175 - mae: 0.1424\n",
            "Epoch 196/250\n",
            "6/6 [==============================] - 0s 12ms/step - loss: 0.0181 - mae: 0.1489\n",
            "Epoch 197/250\n",
            "6/6 [==============================] - 0s 12ms/step - loss: 0.0221 - mae: 0.1753\n",
            "Epoch 198/250\n",
            "6/6 [==============================] - 0s 11ms/step - loss: 0.0252 - mae: 0.1802\n",
            "Epoch 199/250\n",
            "6/6 [==============================] - 0s 12ms/step - loss: 0.0250 - mae: 0.1755\n",
            "Epoch 200/250\n",
            "6/6 [==============================] - 0s 13ms/step - loss: 0.0234 - mae: 0.1771\n",
            "Epoch 201/250\n",
            "6/6 [==============================] - 0s 12ms/step - loss: 0.0272 - mae: 0.1863\n",
            "Epoch 202/250\n",
            "6/6 [==============================] - 0s 12ms/step - loss: 0.0226 - mae: 0.1674\n",
            "Epoch 203/250\n",
            "6/6 [==============================] - 0s 12ms/step - loss: 0.0160 - mae: 0.1388\n",
            "Epoch 204/250\n",
            "6/6 [==============================] - 0s 12ms/step - loss: 0.0176 - mae: 0.1512\n",
            "Epoch 205/250\n",
            "6/6 [==============================] - 0s 12ms/step - loss: 0.0186 - mae: 0.1593\n",
            "Epoch 206/250\n",
            "6/6 [==============================] - 0s 12ms/step - loss: 0.0237 - mae: 0.1718\n",
            "Epoch 207/250\n",
            "6/6 [==============================] - 0s 11ms/step - loss: 0.0194 - mae: 0.1464\n",
            "Epoch 208/250\n",
            "6/6 [==============================] - 0s 12ms/step - loss: 0.0193 - mae: 0.1495\n",
            "Epoch 209/250\n",
            "6/6 [==============================] - 0s 12ms/step - loss: 0.0146 - mae: 0.1323\n",
            "Epoch 210/250\n",
            "6/6 [==============================] - 0s 11ms/step - loss: 0.0189 - mae: 0.1536\n",
            "Epoch 211/250\n",
            "6/6 [==============================] - 0s 11ms/step - loss: 0.0157 - mae: 0.1364\n",
            "Epoch 212/250\n",
            "6/6 [==============================] - 0s 11ms/step - loss: 0.0155 - mae: 0.1372\n",
            "Epoch 213/250\n",
            "6/6 [==============================] - 0s 12ms/step - loss: 0.0153 - mae: 0.1351\n",
            "Epoch 214/250\n",
            "6/6 [==============================] - 0s 13ms/step - loss: 0.0192 - mae: 0.1577\n",
            "Epoch 215/250\n",
            "6/6 [==============================] - 0s 12ms/step - loss: 0.0168 - mae: 0.1421\n",
            "Epoch 216/250\n",
            "6/6 [==============================] - 0s 12ms/step - loss: 0.0165 - mae: 0.1374\n",
            "Epoch 217/250\n",
            "6/6 [==============================] - 0s 12ms/step - loss: 0.0160 - mae: 0.1459\n",
            "Epoch 218/250\n",
            "6/6 [==============================] - 0s 12ms/step - loss: 0.0175 - mae: 0.1496\n",
            "Epoch 219/250\n",
            "6/6 [==============================] - 0s 12ms/step - loss: 0.0177 - mae: 0.1482\n",
            "Epoch 220/250\n",
            "6/6 [==============================] - 0s 12ms/step - loss: 0.0202 - mae: 0.1661\n",
            "Epoch 221/250\n",
            "6/6 [==============================] - 0s 12ms/step - loss: 0.0184 - mae: 0.1559\n",
            "Epoch 222/250\n",
            "6/6 [==============================] - 0s 12ms/step - loss: 0.0199 - mae: 0.1526\n",
            "Epoch 223/250\n",
            "6/6 [==============================] - 0s 12ms/step - loss: 0.0180 - mae: 0.1427\n",
            "Epoch 224/250\n",
            "6/6 [==============================] - 0s 12ms/step - loss: 0.0165 - mae: 0.1420\n",
            "Epoch 225/250\n",
            "6/6 [==============================] - 0s 12ms/step - loss: 0.0149 - mae: 0.1342\n",
            "Epoch 226/250\n",
            "6/6 [==============================] - 0s 12ms/step - loss: 0.0166 - mae: 0.1384\n",
            "Epoch 227/250\n",
            "6/6 [==============================] - 0s 12ms/step - loss: 0.0196 - mae: 0.1580\n",
            "Epoch 228/250\n",
            "6/6 [==============================] - 0s 12ms/step - loss: 0.0178 - mae: 0.1435\n",
            "Epoch 229/250\n",
            "6/6 [==============================] - 0s 12ms/step - loss: 0.0184 - mae: 0.1530\n",
            "Epoch 230/250\n",
            "6/6 [==============================] - 0s 12ms/step - loss: 0.0155 - mae: 0.1336\n",
            "Epoch 231/250\n",
            "6/6 [==============================] - 0s 12ms/step - loss: 0.0162 - mae: 0.1438\n",
            "Epoch 232/250\n",
            "6/6 [==============================] - 0s 12ms/step - loss: 0.0151 - mae: 0.1345\n",
            "Epoch 233/250\n",
            "6/6 [==============================] - 0s 12ms/step - loss: 0.0152 - mae: 0.1382\n",
            "Epoch 234/250\n",
            "6/6 [==============================] - 0s 12ms/step - loss: 0.0163 - mae: 0.1413\n",
            "Epoch 235/250\n",
            "6/6 [==============================] - 0s 11ms/step - loss: 0.0175 - mae: 0.1484\n",
            "Epoch 236/250\n",
            "6/6 [==============================] - 0s 11ms/step - loss: 0.0164 - mae: 0.1365\n",
            "Epoch 237/250\n",
            "6/6 [==============================] - 0s 12ms/step - loss: 0.0162 - mae: 0.1383\n",
            "Epoch 238/250\n",
            "6/6 [==============================] - 0s 12ms/step - loss: 0.0181 - mae: 0.1396\n",
            "Epoch 239/250\n",
            "6/6 [==============================] - 0s 12ms/step - loss: 0.0169 - mae: 0.1502\n",
            "Epoch 240/250\n",
            "6/6 [==============================] - 0s 12ms/step - loss: 0.0158 - mae: 0.1445\n",
            "Epoch 241/250\n",
            "6/6 [==============================] - 0s 13ms/step - loss: 0.0151 - mae: 0.1286\n",
            "Epoch 242/250\n",
            "6/6 [==============================] - 0s 14ms/step - loss: 0.0149 - mae: 0.1362\n",
            "Epoch 243/250\n",
            "6/6 [==============================] - 0s 12ms/step - loss: 0.0174 - mae: 0.1457\n",
            "Epoch 244/250\n",
            "6/6 [==============================] - 0s 11ms/step - loss: 0.0161 - mae: 0.1321\n",
            "Epoch 245/250\n",
            "6/6 [==============================] - 0s 12ms/step - loss: 0.0152 - mae: 0.1369\n",
            "Epoch 246/250\n",
            "6/6 [==============================] - 0s 12ms/step - loss: 0.0174 - mae: 0.1457\n",
            "Epoch 247/250\n",
            "6/6 [==============================] - 0s 11ms/step - loss: 0.0160 - mae: 0.1337\n",
            "Epoch 248/250\n",
            "6/6 [==============================] - 0s 12ms/step - loss: 0.0158 - mae: 0.1329\n",
            "Epoch 249/250\n",
            "6/6 [==============================] - 0s 12ms/step - loss: 0.0161 - mae: 0.1336\n",
            "Epoch 250/250\n",
            "6/6 [==============================] - 0s 12ms/step - loss: 0.0174 - mae: 0.1427\n"
          ],
          "name": "stdout"
        }
      ]
    },
    {
      "cell_type": "code",
      "metadata": {
        "id": "SWGu-wJDJDER",
        "colab_type": "code",
        "outputId": "8e833730-13dd-4c3e-f07f-cd660e4fbde8",
        "colab": {
          "base_uri": "https://localhost:8080/",
          "height": 85
        }
      },
      "source": [
        "\n",
        "norm_series_data, norm_series_mean, norm_series_std = norm(series)\n",
        "norm_series_data"
      ],
      "execution_count": 0,
      "outputs": [
        {
          "output_type": "execute_result",
          "data": {
            "text/plain": [
              "array([-0.79051654, -0.27861025, -0.6491918 , -0.5329477 , -0.48195181,\n",
              "       -0.31584603, -0.10274612, -0.16876472, -0.23673071, -0.67752522,\n",
              "       -1.1409822 , -1.39688184, -0.81534038, -0.18648381, -0.01866604,\n",
              "        0.53978496,  1.78953735,  2.10323804,  1.98729355,  1.37333129])"
            ]
          },
          "metadata": {
            "tags": []
          },
          "execution_count": 425
        }
      ]
    },
    {
      "cell_type": "code",
      "metadata": {
        "id": "GaC6NNMRp0lb",
        "colab_type": "code",
        "outputId": "235ea873-fe32-46bf-af8d-d7cd74612e31",
        "colab": {
          "base_uri": "https://localhost:8080/",
          "height": 119
        }
      },
      "source": [
        "rnn_forecast = model_forecast(model, norm_series_data[..., np.newaxis], window_size)\n",
        "print(rnn_forecast.shape)\n",
        "rnn_forecast = rnn_forecast[ 0:-1, -1]\n",
        "#rnn_forecast = rnn_forecast[:-1, -1]\n",
        "print(rnn_forecast.shape)\n",
        "\n",
        "rnn_forecast"
      ],
      "execution_count": 0,
      "outputs": [
        {
          "output_type": "stream",
          "text": [
            "(18, 1)\n",
            "(17,)\n"
          ],
          "name": "stdout"
        },
        {
          "output_type": "execute_result",
          "data": {
            "text/plain": [
              "array([-0.34576944, -0.13533337, -0.34888396, -0.23490712, -0.06594379,\n",
              "        0.08689603,  0.17561512,  0.03477102, -0.1372652 , -0.5647608 ,\n",
              "       -0.85048944, -0.6205211 , -0.20610951,  0.39758804,  1.1636962 ,\n",
              "        1.3805166 ,  1.5730176 ], dtype=float32)"
            ]
          },
          "metadata": {
            "tags": []
          },
          "execution_count": 426
        }
      ]
    },
    {
      "cell_type": "code",
      "metadata": {
        "id": "PrktQX3hKYex",
        "colab_type": "code",
        "outputId": "7db0256e-5987-46f8-d53f-6d02ec9e9b67",
        "colab": {
          "base_uri": "https://localhost:8080/",
          "height": 388
        }
      },
      "source": [
        "plt.figure(figsize=(10, 6))\n",
        "plot_series(time_train, normed_train_data)\n",
        "plot_series(time_train[3:], rnn_forecast)"
      ],
      "execution_count": 0,
      "outputs": [
        {
          "output_type": "display_data",
          "data": {
            "image/png": "[encoded data removed]",
            "text/plain": [
              "<Figure size 720x432 with 1 Axes>"
            ]
          },
          "metadata": {
            "tags": []
          }
        }
      ]
    },
    {
      "cell_type": "code",
      "metadata": {
        "id": "13XrorC5wQoE",
        "colab_type": "code",
        "outputId": "c048b3a7-cc51-461b-aa69-b577e051a858",
        "colab": {
          "base_uri": "https://localhost:8080/",
          "height": 34
        }
      },
      "source": [
        "tf.keras.metrics.mean_absolute_error(normed_train_data[3:], rnn_forecast).numpy()"
      ],
      "execution_count": 0,
      "outputs": [
        {
          "output_type": "execute_result",
          "data": {
            "text/plain": [
              "0.57730836"
            ]
          },
          "metadata": {
            "tags": []
          },
          "execution_count": 428
        }
      ]
    },
    {
      "cell_type": "code",
      "metadata": {
        "id": "AOVzQXxCwkzP",
        "colab_type": "code",
        "outputId": "7302e6eb-a1c9-4082-ade0-a09b00dca916",
        "colab": {
          "base_uri": "https://localhost:8080/",
          "height": 68
        }
      },
      "source": [
        "print(rnn_forecast)"
      ],
      "execution_count": 0,
      "outputs": [
        {
          "output_type": "stream",
          "text": [
            "[-0.34576944 -0.13533337 -0.34888396 -0.23490712 -0.06594379  0.08689603\n",
            "  0.17561512  0.03477102 -0.1372652  -0.5647608  -0.85048944 -0.6205211\n",
            " -0.20610951  0.39758804  1.1636962   1.3805166   1.5730176 ]\n"
          ],
          "name": "stdout"
        }
      ]
    },
    {
      "cell_type": "code",
      "metadata": {
        "id": "AbmHxOn-Zvx6",
        "colab_type": "code",
        "outputId": "6c412930-ac62-4007-b211-69e09bf0af7d",
        "colab": {
          "base_uri": "https://localhost:8080/",
          "height": 136
        }
      },
      "source": [
        "# x = y* Sigma + mean\n",
        "print(norm_series_mean)\n",
        "print(normed_train_mean)\n",
        "\n",
        "original_series = rnn_forecast * normed_train_std+ normed_train_mean\n",
        "print(\"Forecasted Series\",original_series)\n",
        "print(\"Series\",x_train[3:])"
      ],
      "execution_count": 0,
      "outputs": [
        {
          "output_type": "stream",
          "text": [
            "126733.25\n",
            "126733.25\n",
            "Forecasted Series [110575.7   120409.22  110430.164 115756.22  123651.74  130793.836\n",
            " 134939.61  128358.07  120318.945 100342.4    86990.516  97736.76\n",
            " 117101.91  145312.25  181111.9   191243.77  200239.19 ]\n",
            "Series [101829 104212 111974 121932 118847 115671  95073  73416  61458  88633\n",
            " 118019 125861 151957 210357 225016 219598 190908]\n"
          ],
          "name": "stdout"
        }
      ]
    },
    {
      "cell_type": "code",
      "metadata": {
        "id": "FFqlfF-Oa2Y1",
        "colab_type": "code",
        "outputId": "2bb094c7-7f76-424b-f162-70ecb800f28c",
        "colab": {
          "base_uri": "https://localhost:8080/",
          "height": 388
        }
      },
      "source": [
        "plt.figure(figsize=(10, 6))\n",
        "plot_series(time_train[3:], original_series)\n",
        "plot_series(time_train, series)"
      ],
      "execution_count": 0,
      "outputs": [
        {
          "output_type": "display_data",
          "data": {
            "image/png": "[encoded data removed]",
            "text/plain": [
              "<Figure size 720x432 with 1 Axes>"
            ]
          },
          "metadata": {
            "tags": []
          }
        }
      ]
    },
    {
      "cell_type": "code",
      "metadata": {
        "id": "6d2bwdnxkrOl",
        "colab_type": "code",
        "outputId": "04810d3d-8066-43fb-90d2-005129c1194e",
        "colab": {
          "base_uri": "https://localhost:8080/",
          "height": 68
        }
      },
      "source": [
        "print(normed_train_data[3:])"
      ],
      "execution_count": 0,
      "outputs": [
        {
          "output_type": "stream",
          "text": [
            "[-1.17205254 -1.14030264 -1.16703035 -1.16376248 -0.87340399 -0.43010936\n",
            "  0.04727427  0.22137126  0.35222923  0.72720826  1.16765354  1.38732866\n",
            "  1.40103077  1.27577977  0.96861756  0.87304681  0.8360626 ]\n"
          ],
          "name": "stdout"
        }
      ]
    },
    {
      "cell_type": "code",
      "metadata": {
        "id": "i38mv8SPgHDf",
        "colab_type": "code",
        "colab": {}
      },
      "source": [
        ""
      ],
      "execution_count": 0,
      "outputs": []
    },
    {
      "cell_type": "code",
      "metadata": {
        "id": "T8kFHJjDgHPZ",
        "colab_type": "code",
        "colab": {}
      },
      "source": [
        "model.save(\"LSTM_Bidirectional_model.h5\")"
      ],
      "execution_count": 0,
      "outputs": []
    },
    {
      "cell_type": "code",
      "metadata": {
        "id": "ysqJHrqbgHg_",
        "colab_type": "code",
        "colab": {}
      },
      "source": [
        "model = tf.keras.models.load_model(\"LSTM_Bidirectional_model.h5\")"
      ],
      "execution_count": 0,
      "outputs": []
    },
    {
      "cell_type": "code",
      "metadata": {
        "id": "k55wL6gWiP44",
        "colab_type": "code",
        "colab": {}
      },
      "source": [
        ""
      ],
      "execution_count": 0,
      "outputs": []
    },
    {
      "cell_type": "code",
      "metadata": {
        "id": "OVnkZfVKiiLc",
        "colab_type": "code",
        "colab": {}
      },
      "source": [
        ""
      ],
      "execution_count": 0,
      "outputs": []
    },
    {
      "cell_type": "code",
      "metadata": {
        "id": "R2frMth8iiR0",
        "colab_type": "code",
        "outputId": "d39a7233-2142-4430-feaa-7893753fe130",
        "colab": {
          "base_uri": "https://localhost:8080/",
          "height": 51
        }
      },
      "source": [
        "time = np.array(range(len(df.columns)))\n",
        "print(time[:10],time.shape)\n",
        "series = np.array(df.iloc[0,:])\n",
        "print(series[:10],series.shape)"
      ],
      "execution_count": 0,
      "outputs": [
        {
          "output_type": "stream",
          "text": [
            "[0 1 2 3 4 5 6 7 8 9] (20,)\n",
            "[ 18018  43257   4364   9948  15486  10824  11394  62040 139362 222630] (20,)\n"
          ],
          "name": "stdout"
        }
      ]
    },
    {
      "cell_type": "code",
      "metadata": {
        "id": "SfvXI2vgiiV5",
        "colab_type": "code",
        "outputId": "21f4a452-3de9-4c9e-90c6-0bb189112ac4",
        "colab": {
          "base_uri": "https://localhost:8080/",
          "height": 388
        }
      },
      "source": [
        "\n",
        "plt.figure(figsize=(10, 6))\n",
        "plot_series(time, series)"
      ],
      "execution_count": 0,
      "outputs": [
        {
          "output_type": "display_data",
          "data": {
            "image/png": "[encoded data removed]",
            "text/plain": [
              "<Figure size 720x432 with 1 Axes>"
            ]
          },
          "metadata": {
            "tags": []
          }
        }
      ]
    },
    {
      "cell_type": "code",
      "metadata": {
        "id": "qvjxoO_miiPU",
        "colab_type": "code",
        "colab": {}
      },
      "source": [
        "split_time = 20\n",
        "time_train = time[:split_time]\n",
        "x_train = series[:split_time]\n",
        "time_valid = time[split_time:]\n",
        "x_valid = series[split_time:]"
      ],
      "execution_count": 0,
      "outputs": []
    },
    {
      "cell_type": "code",
      "metadata": {
        "id": "Y1T3QvvOiQDx",
        "colab_type": "code",
        "outputId": "e4e4a8fd-fe66-43e4-fe52-2b593df18cea",
        "colab": {
          "base_uri": "https://localhost:8080/",
          "height": 85
        }
      },
      "source": [
        "norm_series_data, norm_series_mean, norm_series_std = norm(series)\n",
        "norm_series_data"
      ],
      "execution_count": 0,
      "outputs": [
        {
          "output_type": "execute_result",
          "data": {
            "text/plain": [
              "array([-1.12578644, -0.98108877, -1.20406616, -1.17205254, -1.14030264,\n",
              "       -1.16703035, -1.16376248, -0.87340399, -0.43010936,  0.04727427,\n",
              "        0.22137126,  0.35222923,  0.72720826,  1.16765354,  1.38732866,\n",
              "        1.40103077,  1.27577977,  0.96861756,  0.87304681,  0.8360626 ])"
            ]
          },
          "metadata": {
            "tags": []
          },
          "execution_count": 465
        }
      ]
    },
    {
      "cell_type": "code",
      "metadata": {
        "id": "j20z8fp2iQKJ",
        "colab_type": "code",
        "outputId": "037d04b7-f207-4206-9d84-108485d47368",
        "colab": {
          "base_uri": "https://localhost:8080/",
          "height": 207
        }
      },
      "source": [
        "normed_train_data, normed_train_mean, normed_train_std = norm(x_train)\n",
        "normed_valid_data, normed_valid_mean, normed_valid_std = norm(x_valid)"
      ],
      "execution_count": 0,
      "outputs": [
        {
          "output_type": "stream",
          "text": [
            "/usr/local/lib/python3.6/dist-packages/ipykernel_launcher.py:2: RuntimeWarning: Mean of empty slice.\n",
            "  \n",
            "/usr/local/lib/python3.6/dist-packages/numpy/core/_methods.py:161: RuntimeWarning: invalid value encountered in double_scalars\n",
            "  ret = ret.dtype.type(ret / rcount)\n",
            "/usr/local/lib/python3.6/dist-packages/numpy/core/_methods.py:217: RuntimeWarning: Degrees of freedom <= 0 for slice\n",
            "  keepdims=keepdims)\n",
            "/usr/local/lib/python3.6/dist-packages/numpy/core/_methods.py:186: RuntimeWarning: invalid value encountered in true_divide\n",
            "  arrmean, rcount, out=arrmean, casting='unsafe', subok=False)\n",
            "/usr/local/lib/python3.6/dist-packages/numpy/core/_methods.py:209: RuntimeWarning: invalid value encountered in double_scalars\n",
            "  ret = ret.dtype.type(ret / rcount)\n"
          ],
          "name": "stderr"
        }
      ]
    },
    {
      "cell_type": "code",
      "metadata": {
        "id": "vR_KbnytiQHk",
        "colab_type": "code",
        "colab": {}
      },
      "source": [
        ""
      ],
      "execution_count": 0,
      "outputs": []
    },
    {
      "cell_type": "code",
      "metadata": {
        "id": "2trxOWm2iQAb",
        "colab_type": "code",
        "colab": {}
      },
      "source": [
        ""
      ],
      "execution_count": 0,
      "outputs": []
    },
    {
      "cell_type": "code",
      "metadata": {
        "id": "XgwSLV8LgHqD",
        "colab_type": "code",
        "outputId": "df7c1a70-d7d3-4a7a-f343-c0030d7f274b",
        "colab": {
          "base_uri": "https://localhost:8080/",
          "height": 51
        }
      },
      "source": [
        "rnn_forecast = model_forecast(model, norm_series_data[..., np.newaxis], window_size)\n",
        "print(rnn_forecast.shape)\n",
        "rnn_forecast = rnn_forecast[ 0:-1, -1]\n",
        "#rnn_forecast = rnn_forecast[:-1, -1]\n",
        "print(rnn_forecast.shape)"
      ],
      "execution_count": 0,
      "outputs": [
        {
          "output_type": "stream",
          "text": [
            "(18, 1)\n",
            "(17,)\n"
          ],
          "name": "stdout"
        }
      ]
    },
    {
      "cell_type": "code",
      "metadata": {
        "id": "RRmspuG2hDz8",
        "colab_type": "code",
        "outputId": "65a9d1ef-15a2-4785-b67d-db323f0f51f3",
        "colab": {
          "base_uri": "https://localhost:8080/",
          "height": 136
        }
      },
      "source": [
        "# x = y* Sigma + mean\n",
        "print(norm_series_mean)\n",
        "print(normed_train_mean)\n",
        "\n",
        "original_series = rnn_forecast * normed_train_std+ normed_train_mean\n",
        "print(\"Forecasted Series\",original_series)\n",
        "print(\"Series\",x_train[3:])"
      ],
      "execution_count": 0,
      "outputs": [
        {
          "output_type": "stream",
          "text": [
            "214384.15\n",
            "214384.15\n",
            "Forecasted Series [ 71481.19   70145.14   45248.64   50162.016  51761.906  76071.31\n",
            " 105260.62  157681.6   246982.1   330314.53  398709.78  421685.3\n",
            " 442342.06  459701.78  465130.44  459560.9   448686.88 ]\n",
            "Series [  9948  15486  10824  11394  62040 139362 222630 252997 275822 341228\n",
            " 418053 456370 458760 436913 383336 366666 360215]\n"
          ],
          "name": "stdout"
        }
      ]
    },
    {
      "cell_type": "code",
      "metadata": {
        "id": "uIBDQ5Idgk_4",
        "colab_type": "code",
        "outputId": "f6722771-5d78-4b0b-f172-ff0b663bf4c2",
        "colab": {
          "base_uri": "https://localhost:8080/",
          "height": 388
        }
      },
      "source": [
        "plt.figure(figsize=(10, 6))\n",
        "plot_series(time_train[3:], original_series)\n",
        "plot_series(time_train, series)"
      ],
      "execution_count": 0,
      "outputs": [
        {
          "output_type": "display_data",
          "data": {
            "image/png": "[encoded data removed]",
            "text/plain": [
              "<Figure size 720x432 with 1 Axes>"
            ]
          },
          "metadata": {
            "tags": []
          }
        }
      ]
    },
    {
      "cell_type": "code",
      "metadata": {
        "id": "9zH_DLywglHG",
        "colab_type": "code",
        "colab": {}
      },
      "source": [
        ""
      ],
      "execution_count": 0,
      "outputs": []
    },
    {
      "cell_type": "code",
      "metadata": {
        "id": "sa5jNQ2WglNW",
        "colab_type": "code",
        "colab": {}
      },
      "source": [
        ""
      ],
      "execution_count": 0,
      "outputs": []
    },
    {
      "cell_type": "code",
      "metadata": {
        "id": "3K8rVRGGgHnb",
        "colab_type": "code",
        "colab": {}
      },
      "source": [
        ""
      ],
      "execution_count": 0,
      "outputs": []
    },
    {
      "cell_type": "code",
      "metadata": {
        "id": "v7XdJruVgHkG",
        "colab_type": "code",
        "colab": {}
      },
      "source": [
        ""
      ],
      "execution_count": 0,
      "outputs": []
    },
    {
      "cell_type": "code",
      "metadata": {
        "id": "2ug54hddgHfA",
        "colab_type": "code",
        "colab": {}
      },
      "source": [
        ""
      ],
      "execution_count": 0,
      "outputs": []
    },
    {
      "cell_type": "code",
      "metadata": {
        "id": "QmDISkjMgHb-",
        "colab_type": "code",
        "colab": {}
      },
      "source": [
        ""
      ],
      "execution_count": 0,
      "outputs": []
    },
    {
      "cell_type": "code",
      "metadata": {
        "id": "Bfd-33f7gHYQ",
        "colab_type": "code",
        "colab": {}
      },
      "source": [
        ""
      ],
      "execution_count": 0,
      "outputs": []
    },
    {
      "cell_type": "markdown",
      "metadata": {
        "id": "S3D10KWpk3IT",
        "colab_type": "text"
      },
      "source": [
        "### Future predictions"
      ]
    },
    {
      "cell_type": "code",
      "metadata": {
        "id": "IT2gNG6rk5uW",
        "colab_type": "code",
        "outputId": "e71bd5a4-10b6-4dba-ec8c-e23aa861168e",
        "colab": {
          "base_uri": "https://localhost:8080/",
          "height": 51
        }
      },
      "source": [
        "print(\"Length of time steps\",len(time))\n",
        "print(\"Length of temperature\",len(series))"
      ],
      "execution_count": 0,
      "outputs": [
        {
          "output_type": "stream",
          "text": [
            "Length of time steps 20\n",
            "Length of temperature 20\n"
          ],
          "name": "stdout"
        }
      ]
    },
    {
      "cell_type": "code",
      "metadata": {
        "id": "zUXHHqc7l5NP",
        "colab_type": "code",
        "outputId": "0b2f3acc-ec01-43fe-86f9-23ee935730cd",
        "colab": {
          "base_uri": "https://localhost:8080/",
          "height": 102
        }
      },
      "source": [
        "time_copy = time[:]\n",
        "series_copy = series[:]\n",
        "print(\"Length of time steps\",len(time_copy))\n",
        "print(\"Length of temperature\",len(series_copy))\n",
        "series"
      ],
      "execution_count": 0,
      "outputs": [
        {
          "output_type": "stream",
          "text": [
            "Length of time steps 20\n",
            "Length of temperature 20\n"
          ],
          "name": "stdout"
        },
        {
          "output_type": "execute_result",
          "data": {
            "text/plain": [
              "array([ 18018,  43257,   4364,   9948,  15486,  10824,  11394,  62040,\n",
              "       139362, 222630, 252997, 275822, 341228, 418053, 456370, 458760,\n",
              "       436913, 383336, 366666, 360215])"
            ]
          },
          "metadata": {
            "tags": []
          },
          "execution_count": 269
        }
      ]
    },
    {
      "cell_type": "code",
      "metadata": {
        "id": "OcLbATj6mN7d",
        "colab_type": "code",
        "outputId": "c1b64417-0e88-4458-902f-f6d258366a9f",
        "colab": {
          "base_uri": "https://localhost:8080/",
          "height": 34
        }
      },
      "source": [
        "#f = model_forecast(model, series_copy[3650-64:4652][..., np.newaxis], window_size)\n",
        "f = model_forecast(model, series[0:3][...,np.newaxis], window_size)\n",
        "print(f.shape)\n"
      ],
      "execution_count": 0,
      "outputs": [
        {
          "output_type": "stream",
          "text": [
            "(1, 1)\n"
          ],
          "name": "stdout"
        }
      ]
    },
    {
      "cell_type": "code",
      "metadata": {
        "id": "amOF2W0mpLe5",
        "colab_type": "code",
        "outputId": "cd2c237d-0365-46b7-faf6-96c78e195039",
        "colab": {
          "base_uri": "https://localhost:8080/",
          "height": 34
        }
      },
      "source": [
        "f[0][-1]"
      ],
      "execution_count": 0,
      "outputs": [
        {
          "output_type": "execute_result",
          "data": {
            "text/plain": [
              "2.7380264"
            ]
          },
          "metadata": {
            "tags": []
          },
          "execution_count": 383
        }
      ]
    },
    {
      "cell_type": "code",
      "metadata": {
        "id": "pKhfKz5rFcva",
        "colab_type": "code",
        "outputId": "433a183e-0a14-40bc-923b-fe0c6c3626c2",
        "colab": {
          "base_uri": "https://localhost:8080/",
          "height": 34
        }
      },
      "source": [
        "norm_series_data[3]"
      ],
      "execution_count": 0,
      "outputs": [
        {
          "output_type": "execute_result",
          "data": {
            "text/plain": [
              "-1.1720525415800396"
            ]
          },
          "metadata": {
            "tags": []
          },
          "execution_count": 384
        }
      ]
    },
    {
      "cell_type": "code",
      "metadata": {
        "id": "j0x3G7fi3t4Z",
        "colab_type": "code",
        "colab": {}
      },
      "source": [
        "series_copy = np.append(series_copy,f[0][-1][0])"
      ],
      "execution_count": 0,
      "outputs": []
    },
    {
      "cell_type": "code",
      "metadata": {
        "id": "L7KL7uTF3uIl",
        "colab_type": "code",
        "outputId": "1d91319e-93a2-40c1-d50e-627f22bf4ecd",
        "colab": {
          "base_uri": "https://localhost:8080/",
          "height": 34
        }
      },
      "source": [
        "f = model_forecast(model, series_copy[3651-64:3651][...,np.newaxis], window_size)\n",
        "print(f.shape)"
      ],
      "execution_count": 0,
      "outputs": [
        {
          "output_type": "stream",
          "text": [
            "(1, 64, 1)\n"
          ],
          "name": "stdout"
        }
      ]
    },
    {
      "cell_type": "code",
      "metadata": {
        "id": "rr8REFur4FdI",
        "colab_type": "code",
        "outputId": "b01786f7-df50-497a-e626-a1fee04719d2",
        "colab": {
          "base_uri": "https://localhost:8080/",
          "height": 34
        }
      },
      "source": [
        "f[0][-1][0]"
      ],
      "execution_count": 0,
      "outputs": [
        {
          "output_type": "execute_result",
          "data": {
            "text/plain": [
              "13.834497"
            ]
          },
          "metadata": {
            "tags": []
          },
          "execution_count": 173
        }
      ]
    },
    {
      "cell_type": "code",
      "metadata": {
        "id": "0Miro2o6zchP",
        "colab_type": "code",
        "colab": {}
      },
      "source": [
        "#print(f[0][-1],f[1][-1],f[2][-1])\n"
      ],
      "execution_count": 0,
      "outputs": []
    },
    {
      "cell_type": "code",
      "metadata": {
        "id": "0Gc5Sd_C4Du-",
        "colab_type": "code",
        "colab": {}
      },
      "source": [
        ""
      ],
      "execution_count": 0,
      "outputs": []
    },
    {
      "cell_type": "code",
      "metadata": {
        "id": "H3TTVA-HzAfn",
        "colab_type": "code",
        "outputId": "3de72c2f-28d9-48c0-ef1d-691eef3df9ef",
        "colab": {
          "base_uri": "https://localhost:8080/",
          "height": 34
        }
      },
      "source": [
        "print(series[3649])#,series[65],series[66])"
      ],
      "execution_count": 0,
      "outputs": [
        {
          "output_type": "stream",
          "text": [
            "13.0\n"
          ],
          "name": "stdout"
        }
      ]
    },
    {
      "cell_type": "code",
      "metadata": {
        "id": "tut14nhVxjLf",
        "colab_type": "code",
        "outputId": "e9b59c2c-5676-4ead-b6aa-5a923324fcf6",
        "colab": {
          "base_uri": "https://localhost:8080/",
          "height": 102
        }
      },
      "source": [
        "\n",
        "print(\"Series \",series.shape)\n",
        "forecast = model_forecast(model, series[..., np.newaxis], window_size)\n",
        "print(\"Total Forecast \",forecast.shape)\n",
        "forecast = forecast[:-1, -1, 0][:-1]\n",
        "#rnn_forecast = rnn_forecast[:-1, -1, 0]\n",
        "print(\"Forecast \",forecast.shape)\n",
        "print(\"Time \",time.shape)\n",
        "time_forcasted = time[window_size:-1]\n",
        "print(\"Time Forecasted\",time_forcasted.shape)\n"
      ],
      "execution_count": 0,
      "outputs": [
        {
          "output_type": "stream",
          "text": [
            "Series  (3650,)\n",
            "Total Forecast  (3587, 64, 1)\n",
            "Forecast  (3585,)\n",
            "Time  (3650,)\n",
            "Time Forecasted (3585,)\n"
          ],
          "name": "stdout"
        }
      ]
    },
    {
      "cell_type": "code",
      "metadata": {
        "id": "rfoVnQwF1jYm",
        "colab_type": "code",
        "outputId": "0188e967-d121-47fb-d9d8-01c60713a08d",
        "colab": {
          "base_uri": "https://localhost:8080/",
          "height": 34
        }
      },
      "source": [
        "time[:window_size+1][-1]\n",
        "time_forcasted[0]"
      ],
      "execution_count": 0,
      "outputs": [
        {
          "output_type": "execute_result",
          "data": {
            "text/plain": [
              "64"
            ]
          },
          "metadata": {
            "tags": []
          },
          "execution_count": 64
        }
      ]
    },
    {
      "cell_type": "code",
      "metadata": {
        "id": "HwNcgXuixjVV",
        "colab_type": "code",
        "outputId": "aeffcd57-9dbe-479b-9522-c63a1f6689e9",
        "colab": {
          "base_uri": "https://localhost:8080/",
          "height": 388
        }
      },
      "source": [
        "plt.figure(figsize=(10, 6))\n",
        "plot_series(time[:window_size], series[:window_size],format='+')\n",
        "plot_series(time_forcasted, forecast,format='-')"
      ],
      "execution_count": 0,
      "outputs": [
        {
          "output_type": "display_data",
          "data": {
            "image/png": "[encoded data removed]",
            "text/plain": [
              "<Figure size 720x432 with 1 Axes>"
            ]
          },
          "metadata": {
            "tags": []
          }
        }
      ]
    },
    {
      "cell_type": "code",
      "metadata": {
        "id": "LRGLlIbkxjd7",
        "colab_type": "code",
        "colab": {}
      },
      "source": [
        ""
      ],
      "execution_count": 0,
      "outputs": []
    },
    {
      "cell_type": "code",
      "metadata": {
        "id": "19HKB_JGmlbc",
        "colab_type": "code",
        "outputId": "863d795f-a077-4b2f-e040-561aa3482217",
        "colab": {
          "base_uri": "https://localhost:8080/",
          "height": 34
        }
      },
      "source": [
        "print(\"Length of temperature\",len(series_copy))\n"
      ],
      "execution_count": 0,
      "outputs": [
        {
          "output_type": "stream",
          "text": [
            "Length of temperature 3650\n"
          ],
          "name": "stdout"
        }
      ]
    },
    {
      "cell_type": "code",
      "metadata": {
        "id": "kDS5wF0bm28d",
        "colab_type": "code",
        "outputId": "5442984f-4a43-40f4-883f-46c29f8abc4d",
        "colab": {
          "base_uri": "https://localhost:8080/",
          "height": 34
        }
      },
      "source": [
        "6400+3586"
      ],
      "execution_count": 0,
      "outputs": [
        {
          "output_type": "execute_result",
          "data": {
            "text/plain": [
              "9986"
            ]
          },
          "metadata": {
            "tags": []
          },
          "execution_count": 111
        }
      ]
    },
    {
      "cell_type": "code",
      "metadata": {
        "id": "QPws6GcAxL2F",
        "colab_type": "code",
        "outputId": "0ceaf68f-98ed-4c5b-9539-f42249ace648",
        "colab": {
          "base_uri": "https://localhost:8080/",
          "height": 34
        }
      },
      "source": [
        "(3649-(0)) % window_size"
      ],
      "execution_count": 0,
      "outputs": [
        {
          "output_type": "execute_result",
          "data": {
            "text/plain": [
              "1"
            ]
          },
          "metadata": {
            "tags": []
          },
          "execution_count": 36
        }
      ]
    },
    {
      "cell_type": "code",
      "metadata": {
        "id": "XCsNaPWo1rSH",
        "colab_type": "code",
        "outputId": "54836a9b-087c-4aea-ef19-217ec302d7ba",
        "colab": {
          "base_uri": "https://localhost:8080/",
          "height": 34
        }
      },
      "source": [
        "(3649-(0)) / window_size"
      ],
      "execution_count": 0,
      "outputs": [
        {
          "output_type": "execute_result",
          "data": {
            "text/plain": [
              "57.015625"
            ]
          },
          "metadata": {
            "tags": []
          },
          "execution_count": 37
        }
      ]
    },
    {
      "cell_type": "code",
      "metadata": {
        "id": "qHew4YFO2dE-",
        "colab_type": "code",
        "colab": {}
      },
      "source": [
        ""
      ],
      "execution_count": 0,
      "outputs": []
    }
  ]
}