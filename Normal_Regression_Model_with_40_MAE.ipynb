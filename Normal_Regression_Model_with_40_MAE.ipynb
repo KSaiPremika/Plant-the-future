{
  "nbformat": 4,
  "nbformat_minor": 0,
  "metadata": {
    "colab": {
      "name": "Normal Regression Model with 40 MAE.ipynb",
      "provenance": [],
      "collapsed_sections": [],
      "toc_visible": true,
      "include_colab_link": true
    },
    "kernelspec": {
      "name": "python3",
      "display_name": "Python 3"
    },
    "accelerator": "GPU"
  },
  "cells": [
    {
      "cell_type": "markdown",
      "metadata": {
        "id": "view-in-github",
        "colab_type": "text"
      },
      "source": [
        "<a href=\"https://colab.research.google.com/github/nasirbashak/Plant-the-future/blob/master/Normal_Regression_Model_with_40_MAE.ipynb\" target=\"_parent\"><img src=\"https://colab.research.google.com/assets/colab-badge.svg\" alt=\"Open In Colab\"/></a>"
      ]
    },
    {
      "cell_type": "code",
      "metadata": {
        "id": "GNkzTFfynsmV",
        "colab_type": "code",
        "colab": {}
      },
      "source": [
        "#!pip install tensorflow==2.0.0b1\n",
        "!pip install tensorflow==2.1.0"
      ],
      "execution_count": 0,
      "outputs": []
    },
    {
      "cell_type": "code",
      "metadata": {
        "id": "7hR0QGOI-Ft-",
        "colab_type": "code",
        "outputId": "bff9c60b-becb-4d50-b917-fde8e6a7f3b1",
        "colab": {
          "base_uri": "https://localhost:8080/",
          "height": 125
        }
      },
      "source": [
        "from google.colab import drive\n",
        "drive.mount('/content/drive')"
      ],
      "execution_count": 0,
      "outputs": [
        {
          "output_type": "stream",
          "text": [
            "Go to this URL in a browser: https://accounts.google.com/o/oauth2/auth?client_id=947318989803-6bn6qk8qdgf4n4g3pfee6491hc0brc4i.apps.googleusercontent.com&redirect_uri=urn%3aietf%3awg%3aoauth%3a2.0%3aoob&response_type=code&scope=email%20https%3a%2f%2fwww.googleapis.com%2fauth%2fdocs.test%20https%3a%2f%2fwww.googleapis.com%2fauth%2fdrive%20https%3a%2f%2fwww.googleapis.com%2fauth%2fdrive.photos.readonly%20https%3a%2f%2fwww.googleapis.com%2fauth%2fpeopleapi.readonly\n",
            "\n",
            "Enter your authorization code:\n",
            "··········\n",
            "Mounted at /content/drive\n"
          ],
          "name": "stdout"
        }
      ]
    },
    {
      "cell_type": "code",
      "metadata": {
        "id": "yHwyX_WZ-Cin",
        "colab_type": "code",
        "colab": {}
      },
      "source": [
        ""
      ],
      "execution_count": 0,
      "outputs": []
    },
    {
      "cell_type": "code",
      "metadata": {
        "id": "56XEQOGknrAk",
        "colab_type": "code",
        "outputId": "647eaac2-75d5-4c09-e04f-b3698a63d3c5",
        "colab": {
          "base_uri": "https://localhost:8080/",
          "height": 34
        }
      },
      "source": [
        "import tensorflow as tf\n",
        "import pandas as pd\n",
        "print(tf.__version__)"
      ],
      "execution_count": 0,
      "outputs": [
        {
          "output_type": "stream",
          "text": [
            "2.1.0\n"
          ],
          "name": "stdout"
        }
      ]
    },
    {
      "cell_type": "code",
      "metadata": {
        "id": "sLl52leVp5wU",
        "colab_type": "code",
        "colab": {}
      },
      "source": [
        "import numpy as np\n",
        "import matplotlib.pyplot as plt\n",
        "def plot_series(time, series, format=\"-\", start=0, end=None):\n",
        "    plt.plot(time[start:end], series[start:end], format)\n",
        "    plt.xlabel(\"Time\")\n",
        "    plt.ylabel(\"Value\")\n",
        "    plt.grid(True)"
      ],
      "execution_count": 0,
      "outputs": []
    },
    {
      "cell_type": "code",
      "metadata": {
        "id": "AZTGa3wEzj13",
        "colab_type": "code",
        "outputId": "ee057b5a-a1b7-4f23-ac88-5db0b7fd935a",
        "colab": {
          "base_uri": "https://localhost:8080/",
          "height": 246
        }
      },
      "source": [
        "df = pd.read_csv(\"/content/drive/My Drive/Plant the future/datasets/Traffic_density_day_by_day_2000_to_2019.csv\")\n",
        "df.head()"
      ],
      "execution_count": 0,
      "outputs": [
        {
          "output_type": "execute_result",
          "data": {
            "text/html": [
              "<div>\n",
              "<style scoped>\n",
              "    .dataframe tbody tr th:only-of-type {\n",
              "        vertical-align: middle;\n",
              "    }\n",
              "\n",
              "    .dataframe tbody tr th {\n",
              "        vertical-align: top;\n",
              "    }\n",
              "\n",
              "    .dataframe thead th {\n",
              "        text-align: right;\n",
              "    }\n",
              "</style>\n",
              "<table border=\"1\" class=\"dataframe\">\n",
              "  <thead>\n",
              "    <tr style=\"text-align: right;\">\n",
              "      <th></th>\n",
              "      <th>day_stamp</th>\n",
              "      <th>0</th>\n",
              "      <th>1</th>\n",
              "      <th>2</th>\n",
              "      <th>3</th>\n",
              "      <th>4</th>\n",
              "      <th>5</th>\n",
              "      <th>6</th>\n",
              "      <th>7</th>\n",
              "      <th>8</th>\n",
              "      <th>9</th>\n",
              "      <th>10</th>\n",
              "      <th>11</th>\n",
              "      <th>12</th>\n",
              "      <th>13</th>\n",
              "      <th>14</th>\n",
              "      <th>15</th>\n",
              "      <th>16</th>\n",
              "      <th>17</th>\n",
              "      <th>18</th>\n",
              "      <th>19</th>\n",
              "      <th>20</th>\n",
              "      <th>21</th>\n",
              "      <th>22</th>\n",
              "      <th>23</th>\n",
              "      <th>24</th>\n",
              "      <th>25</th>\n",
              "      <th>26</th>\n",
              "      <th>27</th>\n",
              "      <th>28</th>\n",
              "      <th>29</th>\n",
              "      <th>30</th>\n",
              "      <th>31</th>\n",
              "      <th>32</th>\n",
              "      <th>33</th>\n",
              "      <th>34</th>\n",
              "      <th>35</th>\n",
              "      <th>36</th>\n",
              "      <th>37</th>\n",
              "      <th>38</th>\n",
              "      <th>...</th>\n",
              "      <th>60</th>\n",
              "      <th>61</th>\n",
              "      <th>62</th>\n",
              "      <th>63</th>\n",
              "      <th>64</th>\n",
              "      <th>65</th>\n",
              "      <th>66</th>\n",
              "      <th>67</th>\n",
              "      <th>68</th>\n",
              "      <th>69</th>\n",
              "      <th>70</th>\n",
              "      <th>71</th>\n",
              "      <th>72</th>\n",
              "      <th>73</th>\n",
              "      <th>74</th>\n",
              "      <th>75</th>\n",
              "      <th>76</th>\n",
              "      <th>77</th>\n",
              "      <th>78</th>\n",
              "      <th>79</th>\n",
              "      <th>80</th>\n",
              "      <th>81</th>\n",
              "      <th>82</th>\n",
              "      <th>83</th>\n",
              "      <th>84</th>\n",
              "      <th>85</th>\n",
              "      <th>86</th>\n",
              "      <th>87</th>\n",
              "      <th>88</th>\n",
              "      <th>89</th>\n",
              "      <th>90</th>\n",
              "      <th>91</th>\n",
              "      <th>92</th>\n",
              "      <th>93</th>\n",
              "      <th>94</th>\n",
              "      <th>95</th>\n",
              "      <th>96</th>\n",
              "      <th>97</th>\n",
              "      <th>98</th>\n",
              "      <th>99</th>\n",
              "    </tr>\n",
              "  </thead>\n",
              "  <tbody>\n",
              "    <tr>\n",
              "      <th>0</th>\n",
              "      <td>2000-1</td>\n",
              "      <td>3986</td>\n",
              "      <td>1617</td>\n",
              "      <td>8890</td>\n",
              "      <td>1201</td>\n",
              "      <td>1522</td>\n",
              "      <td>6422</td>\n",
              "      <td>1547</td>\n",
              "      <td>910</td>\n",
              "      <td>2094</td>\n",
              "      <td>670</td>\n",
              "      <td>6298</td>\n",
              "      <td>1738</td>\n",
              "      <td>402</td>\n",
              "      <td>766</td>\n",
              "      <td>1226</td>\n",
              "      <td>503</td>\n",
              "      <td>2298</td>\n",
              "      <td>804</td>\n",
              "      <td>1171</td>\n",
              "      <td>3123</td>\n",
              "      <td>1719</td>\n",
              "      <td>1889</td>\n",
              "      <td>928</td>\n",
              "      <td>1409</td>\n",
              "      <td>1823</td>\n",
              "      <td>677</td>\n",
              "      <td>4832</td>\n",
              "      <td>496</td>\n",
              "      <td>971</td>\n",
              "      <td>6445</td>\n",
              "      <td>2037</td>\n",
              "      <td>324</td>\n",
              "      <td>1138</td>\n",
              "      <td>511</td>\n",
              "      <td>1362</td>\n",
              "      <td>3759</td>\n",
              "      <td>683</td>\n",
              "      <td>326</td>\n",
              "      <td>474</td>\n",
              "      <td>...</td>\n",
              "      <td>1743</td>\n",
              "      <td>1562</td>\n",
              "      <td>723</td>\n",
              "      <td>1596</td>\n",
              "      <td>1724</td>\n",
              "      <td>1622</td>\n",
              "      <td>1870</td>\n",
              "      <td>9942</td>\n",
              "      <td>9950</td>\n",
              "      <td>1605</td>\n",
              "      <td>1140</td>\n",
              "      <td>9915</td>\n",
              "      <td>8679</td>\n",
              "      <td>745</td>\n",
              "      <td>545</td>\n",
              "      <td>31</td>\n",
              "      <td>1773</td>\n",
              "      <td>1634</td>\n",
              "      <td>1681</td>\n",
              "      <td>796</td>\n",
              "      <td>2285</td>\n",
              "      <td>1622</td>\n",
              "      <td>1856</td>\n",
              "      <td>1629</td>\n",
              "      <td>616</td>\n",
              "      <td>1951</td>\n",
              "      <td>5999</td>\n",
              "      <td>166</td>\n",
              "      <td>4939</td>\n",
              "      <td>235</td>\n",
              "      <td>1046</td>\n",
              "      <td>6217</td>\n",
              "      <td>564</td>\n",
              "      <td>1585</td>\n",
              "      <td>1559</td>\n",
              "      <td>1363</td>\n",
              "      <td>1879</td>\n",
              "      <td>323</td>\n",
              "      <td>484</td>\n",
              "      <td>696</td>\n",
              "    </tr>\n",
              "    <tr>\n",
              "      <th>1</th>\n",
              "      <td>2000-2</td>\n",
              "      <td>3912</td>\n",
              "      <td>1616</td>\n",
              "      <td>8888</td>\n",
              "      <td>1209</td>\n",
              "      <td>1431</td>\n",
              "      <td>6427</td>\n",
              "      <td>1651</td>\n",
              "      <td>929</td>\n",
              "      <td>2083</td>\n",
              "      <td>624</td>\n",
              "      <td>6301</td>\n",
              "      <td>1723</td>\n",
              "      <td>370</td>\n",
              "      <td>779</td>\n",
              "      <td>1275</td>\n",
              "      <td>518</td>\n",
              "      <td>2327</td>\n",
              "      <td>780</td>\n",
              "      <td>1141</td>\n",
              "      <td>3135</td>\n",
              "      <td>1720</td>\n",
              "      <td>1959</td>\n",
              "      <td>932</td>\n",
              "      <td>1503</td>\n",
              "      <td>1810</td>\n",
              "      <td>627</td>\n",
              "      <td>4832</td>\n",
              "      <td>429</td>\n",
              "      <td>1042</td>\n",
              "      <td>6449</td>\n",
              "      <td>2047</td>\n",
              "      <td>288</td>\n",
              "      <td>1087</td>\n",
              "      <td>493</td>\n",
              "      <td>1298</td>\n",
              "      <td>3755</td>\n",
              "      <td>716</td>\n",
              "      <td>316</td>\n",
              "      <td>453</td>\n",
              "      <td>...</td>\n",
              "      <td>1759</td>\n",
              "      <td>1620</td>\n",
              "      <td>719</td>\n",
              "      <td>1540</td>\n",
              "      <td>1619</td>\n",
              "      <td>1614</td>\n",
              "      <td>1857</td>\n",
              "      <td>9946</td>\n",
              "      <td>9954</td>\n",
              "      <td>1584</td>\n",
              "      <td>1152</td>\n",
              "      <td>9919</td>\n",
              "      <td>8687</td>\n",
              "      <td>757</td>\n",
              "      <td>568</td>\n",
              "      <td>35</td>\n",
              "      <td>1813</td>\n",
              "      <td>1574</td>\n",
              "      <td>1684</td>\n",
              "      <td>767</td>\n",
              "      <td>2279</td>\n",
              "      <td>1637</td>\n",
              "      <td>1806</td>\n",
              "      <td>1537</td>\n",
              "      <td>614</td>\n",
              "      <td>1967</td>\n",
              "      <td>5998</td>\n",
              "      <td>215</td>\n",
              "      <td>4938</td>\n",
              "      <td>210</td>\n",
              "      <td>1065</td>\n",
              "      <td>6204</td>\n",
              "      <td>549</td>\n",
              "      <td>1539</td>\n",
              "      <td>1630</td>\n",
              "      <td>1255</td>\n",
              "      <td>1906</td>\n",
              "      <td>308</td>\n",
              "      <td>474</td>\n",
              "      <td>642</td>\n",
              "    </tr>\n",
              "    <tr>\n",
              "      <th>2</th>\n",
              "      <td>2000-3</td>\n",
              "      <td>3846</td>\n",
              "      <td>1639</td>\n",
              "      <td>8886</td>\n",
              "      <td>1278</td>\n",
              "      <td>1383</td>\n",
              "      <td>6429</td>\n",
              "      <td>1727</td>\n",
              "      <td>971</td>\n",
              "      <td>2042</td>\n",
              "      <td>603</td>\n",
              "      <td>6302</td>\n",
              "      <td>1710</td>\n",
              "      <td>336</td>\n",
              "      <td>761</td>\n",
              "      <td>1314</td>\n",
              "      <td>504</td>\n",
              "      <td>2302</td>\n",
              "      <td>727</td>\n",
              "      <td>1128</td>\n",
              "      <td>3131</td>\n",
              "      <td>1732</td>\n",
              "      <td>2024</td>\n",
              "      <td>922</td>\n",
              "      <td>1598</td>\n",
              "      <td>1782</td>\n",
              "      <td>601</td>\n",
              "      <td>4831</td>\n",
              "      <td>380</td>\n",
              "      <td>1036</td>\n",
              "      <td>6457</td>\n",
              "      <td>2176</td>\n",
              "      <td>289</td>\n",
              "      <td>1042</td>\n",
              "      <td>524</td>\n",
              "      <td>1278</td>\n",
              "      <td>3761</td>\n",
              "      <td>772</td>\n",
              "      <td>326</td>\n",
              "      <td>438</td>\n",
              "      <td>...</td>\n",
              "      <td>1775</td>\n",
              "      <td>1653</td>\n",
              "      <td>681</td>\n",
              "      <td>1594</td>\n",
              "      <td>1564</td>\n",
              "      <td>1577</td>\n",
              "      <td>1845</td>\n",
              "      <td>9949</td>\n",
              "      <td>9963</td>\n",
              "      <td>1533</td>\n",
              "      <td>1140</td>\n",
              "      <td>9918</td>\n",
              "      <td>8696</td>\n",
              "      <td>766</td>\n",
              "      <td>595</td>\n",
              "      <td>58</td>\n",
              "      <td>1797</td>\n",
              "      <td>1498</td>\n",
              "      <td>1686</td>\n",
              "      <td>718</td>\n",
              "      <td>2275</td>\n",
              "      <td>1639</td>\n",
              "      <td>1732</td>\n",
              "      <td>1465</td>\n",
              "      <td>580</td>\n",
              "      <td>1970</td>\n",
              "      <td>5993</td>\n",
              "      <td>221</td>\n",
              "      <td>4943</td>\n",
              "      <td>190</td>\n",
              "      <td>1179</td>\n",
              "      <td>6193</td>\n",
              "      <td>550</td>\n",
              "      <td>1454</td>\n",
              "      <td>1645</td>\n",
              "      <td>1182</td>\n",
              "      <td>1920</td>\n",
              "      <td>299</td>\n",
              "      <td>503</td>\n",
              "      <td>618</td>\n",
              "    </tr>\n",
              "    <tr>\n",
              "      <th>3</th>\n",
              "      <td>2000-4</td>\n",
              "      <td>3780</td>\n",
              "      <td>1620</td>\n",
              "      <td>8880</td>\n",
              "      <td>1399</td>\n",
              "      <td>1350</td>\n",
              "      <td>6432</td>\n",
              "      <td>1717</td>\n",
              "      <td>1005</td>\n",
              "      <td>1983</td>\n",
              "      <td>555</td>\n",
              "      <td>6295</td>\n",
              "      <td>1716</td>\n",
              "      <td>333</td>\n",
              "      <td>784</td>\n",
              "      <td>1384</td>\n",
              "      <td>514</td>\n",
              "      <td>2275</td>\n",
              "      <td>684</td>\n",
              "      <td>1102</td>\n",
              "      <td>3123</td>\n",
              "      <td>1755</td>\n",
              "      <td>2067</td>\n",
              "      <td>906</td>\n",
              "      <td>1630</td>\n",
              "      <td>1785</td>\n",
              "      <td>693</td>\n",
              "      <td>4836</td>\n",
              "      <td>337</td>\n",
              "      <td>1067</td>\n",
              "      <td>6471</td>\n",
              "      <td>2220</td>\n",
              "      <td>302</td>\n",
              "      <td>998</td>\n",
              "      <td>520</td>\n",
              "      <td>1336</td>\n",
              "      <td>3773</td>\n",
              "      <td>838</td>\n",
              "      <td>331</td>\n",
              "      <td>402</td>\n",
              "      <td>...</td>\n",
              "      <td>1833</td>\n",
              "      <td>1729</td>\n",
              "      <td>654</td>\n",
              "      <td>1538</td>\n",
              "      <td>1463</td>\n",
              "      <td>1562</td>\n",
              "      <td>1801</td>\n",
              "      <td>9952</td>\n",
              "      <td>9976</td>\n",
              "      <td>1440</td>\n",
              "      <td>1110</td>\n",
              "      <td>9923</td>\n",
              "      <td>8699</td>\n",
              "      <td>765</td>\n",
              "      <td>627</td>\n",
              "      <td>90</td>\n",
              "      <td>1784</td>\n",
              "      <td>1412</td>\n",
              "      <td>1689</td>\n",
              "      <td>695</td>\n",
              "      <td>2263</td>\n",
              "      <td>1636</td>\n",
              "      <td>1656</td>\n",
              "      <td>1403</td>\n",
              "      <td>544</td>\n",
              "      <td>1971</td>\n",
              "      <td>5985</td>\n",
              "      <td>229</td>\n",
              "      <td>4959</td>\n",
              "      <td>169</td>\n",
              "      <td>1202</td>\n",
              "      <td>6184</td>\n",
              "      <td>566</td>\n",
              "      <td>1408</td>\n",
              "      <td>1649</td>\n",
              "      <td>1121</td>\n",
              "      <td>1966</td>\n",
              "      <td>311</td>\n",
              "      <td>549</td>\n",
              "      <td>557</td>\n",
              "    </tr>\n",
              "    <tr>\n",
              "      <th>4</th>\n",
              "      <td>2000-5</td>\n",
              "      <td>3719</td>\n",
              "      <td>1591</td>\n",
              "      <td>8877</td>\n",
              "      <td>1524</td>\n",
              "      <td>1290</td>\n",
              "      <td>6449</td>\n",
              "      <td>1736</td>\n",
              "      <td>999</td>\n",
              "      <td>1952</td>\n",
              "      <td>536</td>\n",
              "      <td>6292</td>\n",
              "      <td>1724</td>\n",
              "      <td>333</td>\n",
              "      <td>786</td>\n",
              "      <td>1406</td>\n",
              "      <td>530</td>\n",
              "      <td>2234</td>\n",
              "      <td>714</td>\n",
              "      <td>1104</td>\n",
              "      <td>3116</td>\n",
              "      <td>1858</td>\n",
              "      <td>2052</td>\n",
              "      <td>890</td>\n",
              "      <td>1636</td>\n",
              "      <td>1791</td>\n",
              "      <td>796</td>\n",
              "      <td>4841</td>\n",
              "      <td>302</td>\n",
              "      <td>1052</td>\n",
              "      <td>6472</td>\n",
              "      <td>2263</td>\n",
              "      <td>291</td>\n",
              "      <td>960</td>\n",
              "      <td>508</td>\n",
              "      <td>1285</td>\n",
              "      <td>3775</td>\n",
              "      <td>885</td>\n",
              "      <td>330</td>\n",
              "      <td>387</td>\n",
              "      <td>...</td>\n",
              "      <td>1913</td>\n",
              "      <td>1790</td>\n",
              "      <td>669</td>\n",
              "      <td>1451</td>\n",
              "      <td>1406</td>\n",
              "      <td>1541</td>\n",
              "      <td>1791</td>\n",
              "      <td>9957</td>\n",
              "      <td>9986</td>\n",
              "      <td>1395</td>\n",
              "      <td>1063</td>\n",
              "      <td>9923</td>\n",
              "      <td>8703</td>\n",
              "      <td>708</td>\n",
              "      <td>611</td>\n",
              "      <td>113</td>\n",
              "      <td>1777</td>\n",
              "      <td>1361</td>\n",
              "      <td>1692</td>\n",
              "      <td>693</td>\n",
              "      <td>2261</td>\n",
              "      <td>1646</td>\n",
              "      <td>1575</td>\n",
              "      <td>1306</td>\n",
              "      <td>543</td>\n",
              "      <td>1985</td>\n",
              "      <td>5974</td>\n",
              "      <td>260</td>\n",
              "      <td>4969</td>\n",
              "      <td>144</td>\n",
              "      <td>1191</td>\n",
              "      <td>6174</td>\n",
              "      <td>574</td>\n",
              "      <td>1366</td>\n",
              "      <td>1662</td>\n",
              "      <td>1173</td>\n",
              "      <td>1952</td>\n",
              "      <td>311</td>\n",
              "      <td>609</td>\n",
              "      <td>513</td>\n",
              "    </tr>\n",
              "  </tbody>\n",
              "</table>\n",
              "<p>5 rows × 101 columns</p>\n",
              "</div>"
            ],
            "text/plain": [
              "  day_stamp     0     1     2     3     4  ...    94    95    96   97   98   99\n",
              "0    2000-1  3986  1617  8890  1201  1522  ...  1559  1363  1879  323  484  696\n",
              "1    2000-2  3912  1616  8888  1209  1431  ...  1630  1255  1906  308  474  642\n",
              "2    2000-3  3846  1639  8886  1278  1383  ...  1645  1182  1920  299  503  618\n",
              "3    2000-4  3780  1620  8880  1399  1350  ...  1649  1121  1966  311  549  557\n",
              "4    2000-5  3719  1591  8877  1524  1290  ...  1662  1173  1952  311  609  513\n",
              "\n",
              "[5 rows x 101 columns]"
            ]
          },
          "metadata": {
            "tags": []
          },
          "execution_count": 4
        }
      ]
    },
    {
      "cell_type": "code",
      "metadata": {
        "id": "NgjHPNI-0KIM",
        "colab_type": "code",
        "colab": {}
      },
      "source": [
        "#df.rename(columns={\"Unnamed: 0\":\"day_stamp\"},inplace=True)"
      ],
      "execution_count": 0,
      "outputs": []
    },
    {
      "cell_type": "code",
      "metadata": {
        "id": "Vc2Ke-vl0vXF",
        "colab_type": "code",
        "outputId": "7ffdf07b-6a6d-4fe7-9340-621f0a7ca82d",
        "colab": {
          "base_uri": "https://localhost:8080/",
          "height": 246
        }
      },
      "source": [
        "df.head()"
      ],
      "execution_count": 0,
      "outputs": [
        {
          "output_type": "execute_result",
          "data": {
            "text/html": [
              "<div>\n",
              "<style scoped>\n",
              "    .dataframe tbody tr th:only-of-type {\n",
              "        vertical-align: middle;\n",
              "    }\n",
              "\n",
              "    .dataframe tbody tr th {\n",
              "        vertical-align: top;\n",
              "    }\n",
              "\n",
              "    .dataframe thead th {\n",
              "        text-align: right;\n",
              "    }\n",
              "</style>\n",
              "<table border=\"1\" class=\"dataframe\">\n",
              "  <thead>\n",
              "    <tr style=\"text-align: right;\">\n",
              "      <th></th>\n",
              "      <th>day_stamp</th>\n",
              "      <th>0</th>\n",
              "      <th>1</th>\n",
              "      <th>2</th>\n",
              "      <th>3</th>\n",
              "      <th>4</th>\n",
              "      <th>5</th>\n",
              "      <th>6</th>\n",
              "      <th>7</th>\n",
              "      <th>8</th>\n",
              "      <th>9</th>\n",
              "      <th>10</th>\n",
              "      <th>11</th>\n",
              "      <th>12</th>\n",
              "      <th>13</th>\n",
              "      <th>14</th>\n",
              "      <th>15</th>\n",
              "      <th>16</th>\n",
              "      <th>17</th>\n",
              "      <th>18</th>\n",
              "      <th>19</th>\n",
              "      <th>20</th>\n",
              "      <th>21</th>\n",
              "      <th>22</th>\n",
              "      <th>23</th>\n",
              "      <th>24</th>\n",
              "      <th>25</th>\n",
              "      <th>26</th>\n",
              "      <th>27</th>\n",
              "      <th>28</th>\n",
              "      <th>29</th>\n",
              "      <th>30</th>\n",
              "      <th>31</th>\n",
              "      <th>32</th>\n",
              "      <th>33</th>\n",
              "      <th>34</th>\n",
              "      <th>35</th>\n",
              "      <th>36</th>\n",
              "      <th>37</th>\n",
              "      <th>38</th>\n",
              "      <th>...</th>\n",
              "      <th>60</th>\n",
              "      <th>61</th>\n",
              "      <th>62</th>\n",
              "      <th>63</th>\n",
              "      <th>64</th>\n",
              "      <th>65</th>\n",
              "      <th>66</th>\n",
              "      <th>67</th>\n",
              "      <th>68</th>\n",
              "      <th>69</th>\n",
              "      <th>70</th>\n",
              "      <th>71</th>\n",
              "      <th>72</th>\n",
              "      <th>73</th>\n",
              "      <th>74</th>\n",
              "      <th>75</th>\n",
              "      <th>76</th>\n",
              "      <th>77</th>\n",
              "      <th>78</th>\n",
              "      <th>79</th>\n",
              "      <th>80</th>\n",
              "      <th>81</th>\n",
              "      <th>82</th>\n",
              "      <th>83</th>\n",
              "      <th>84</th>\n",
              "      <th>85</th>\n",
              "      <th>86</th>\n",
              "      <th>87</th>\n",
              "      <th>88</th>\n",
              "      <th>89</th>\n",
              "      <th>90</th>\n",
              "      <th>91</th>\n",
              "      <th>92</th>\n",
              "      <th>93</th>\n",
              "      <th>94</th>\n",
              "      <th>95</th>\n",
              "      <th>96</th>\n",
              "      <th>97</th>\n",
              "      <th>98</th>\n",
              "      <th>99</th>\n",
              "    </tr>\n",
              "  </thead>\n",
              "  <tbody>\n",
              "    <tr>\n",
              "      <th>0</th>\n",
              "      <td>2000-1</td>\n",
              "      <td>3986</td>\n",
              "      <td>1617</td>\n",
              "      <td>8890</td>\n",
              "      <td>1201</td>\n",
              "      <td>1522</td>\n",
              "      <td>6422</td>\n",
              "      <td>1547</td>\n",
              "      <td>910</td>\n",
              "      <td>2094</td>\n",
              "      <td>670</td>\n",
              "      <td>6298</td>\n",
              "      <td>1738</td>\n",
              "      <td>402</td>\n",
              "      <td>766</td>\n",
              "      <td>1226</td>\n",
              "      <td>503</td>\n",
              "      <td>2298</td>\n",
              "      <td>804</td>\n",
              "      <td>1171</td>\n",
              "      <td>3123</td>\n",
              "      <td>1719</td>\n",
              "      <td>1889</td>\n",
              "      <td>928</td>\n",
              "      <td>1409</td>\n",
              "      <td>1823</td>\n",
              "      <td>677</td>\n",
              "      <td>4832</td>\n",
              "      <td>496</td>\n",
              "      <td>971</td>\n",
              "      <td>6445</td>\n",
              "      <td>2037</td>\n",
              "      <td>324</td>\n",
              "      <td>1138</td>\n",
              "      <td>511</td>\n",
              "      <td>1362</td>\n",
              "      <td>3759</td>\n",
              "      <td>683</td>\n",
              "      <td>326</td>\n",
              "      <td>474</td>\n",
              "      <td>...</td>\n",
              "      <td>1743</td>\n",
              "      <td>1562</td>\n",
              "      <td>723</td>\n",
              "      <td>1596</td>\n",
              "      <td>1724</td>\n",
              "      <td>1622</td>\n",
              "      <td>1870</td>\n",
              "      <td>9942</td>\n",
              "      <td>9950</td>\n",
              "      <td>1605</td>\n",
              "      <td>1140</td>\n",
              "      <td>9915</td>\n",
              "      <td>8679</td>\n",
              "      <td>745</td>\n",
              "      <td>545</td>\n",
              "      <td>31</td>\n",
              "      <td>1773</td>\n",
              "      <td>1634</td>\n",
              "      <td>1681</td>\n",
              "      <td>796</td>\n",
              "      <td>2285</td>\n",
              "      <td>1622</td>\n",
              "      <td>1856</td>\n",
              "      <td>1629</td>\n",
              "      <td>616</td>\n",
              "      <td>1951</td>\n",
              "      <td>5999</td>\n",
              "      <td>166</td>\n",
              "      <td>4939</td>\n",
              "      <td>235</td>\n",
              "      <td>1046</td>\n",
              "      <td>6217</td>\n",
              "      <td>564</td>\n",
              "      <td>1585</td>\n",
              "      <td>1559</td>\n",
              "      <td>1363</td>\n",
              "      <td>1879</td>\n",
              "      <td>323</td>\n",
              "      <td>484</td>\n",
              "      <td>696</td>\n",
              "    </tr>\n",
              "    <tr>\n",
              "      <th>1</th>\n",
              "      <td>2000-2</td>\n",
              "      <td>3912</td>\n",
              "      <td>1616</td>\n",
              "      <td>8888</td>\n",
              "      <td>1209</td>\n",
              "      <td>1431</td>\n",
              "      <td>6427</td>\n",
              "      <td>1651</td>\n",
              "      <td>929</td>\n",
              "      <td>2083</td>\n",
              "      <td>624</td>\n",
              "      <td>6301</td>\n",
              "      <td>1723</td>\n",
              "      <td>370</td>\n",
              "      <td>779</td>\n",
              "      <td>1275</td>\n",
              "      <td>518</td>\n",
              "      <td>2327</td>\n",
              "      <td>780</td>\n",
              "      <td>1141</td>\n",
              "      <td>3135</td>\n",
              "      <td>1720</td>\n",
              "      <td>1959</td>\n",
              "      <td>932</td>\n",
              "      <td>1503</td>\n",
              "      <td>1810</td>\n",
              "      <td>627</td>\n",
              "      <td>4832</td>\n",
              "      <td>429</td>\n",
              "      <td>1042</td>\n",
              "      <td>6449</td>\n",
              "      <td>2047</td>\n",
              "      <td>288</td>\n",
              "      <td>1087</td>\n",
              "      <td>493</td>\n",
              "      <td>1298</td>\n",
              "      <td>3755</td>\n",
              "      <td>716</td>\n",
              "      <td>316</td>\n",
              "      <td>453</td>\n",
              "      <td>...</td>\n",
              "      <td>1759</td>\n",
              "      <td>1620</td>\n",
              "      <td>719</td>\n",
              "      <td>1540</td>\n",
              "      <td>1619</td>\n",
              "      <td>1614</td>\n",
              "      <td>1857</td>\n",
              "      <td>9946</td>\n",
              "      <td>9954</td>\n",
              "      <td>1584</td>\n",
              "      <td>1152</td>\n",
              "      <td>9919</td>\n",
              "      <td>8687</td>\n",
              "      <td>757</td>\n",
              "      <td>568</td>\n",
              "      <td>35</td>\n",
              "      <td>1813</td>\n",
              "      <td>1574</td>\n",
              "      <td>1684</td>\n",
              "      <td>767</td>\n",
              "      <td>2279</td>\n",
              "      <td>1637</td>\n",
              "      <td>1806</td>\n",
              "      <td>1537</td>\n",
              "      <td>614</td>\n",
              "      <td>1967</td>\n",
              "      <td>5998</td>\n",
              "      <td>215</td>\n",
              "      <td>4938</td>\n",
              "      <td>210</td>\n",
              "      <td>1065</td>\n",
              "      <td>6204</td>\n",
              "      <td>549</td>\n",
              "      <td>1539</td>\n",
              "      <td>1630</td>\n",
              "      <td>1255</td>\n",
              "      <td>1906</td>\n",
              "      <td>308</td>\n",
              "      <td>474</td>\n",
              "      <td>642</td>\n",
              "    </tr>\n",
              "    <tr>\n",
              "      <th>2</th>\n",
              "      <td>2000-3</td>\n",
              "      <td>3846</td>\n",
              "      <td>1639</td>\n",
              "      <td>8886</td>\n",
              "      <td>1278</td>\n",
              "      <td>1383</td>\n",
              "      <td>6429</td>\n",
              "      <td>1727</td>\n",
              "      <td>971</td>\n",
              "      <td>2042</td>\n",
              "      <td>603</td>\n",
              "      <td>6302</td>\n",
              "      <td>1710</td>\n",
              "      <td>336</td>\n",
              "      <td>761</td>\n",
              "      <td>1314</td>\n",
              "      <td>504</td>\n",
              "      <td>2302</td>\n",
              "      <td>727</td>\n",
              "      <td>1128</td>\n",
              "      <td>3131</td>\n",
              "      <td>1732</td>\n",
              "      <td>2024</td>\n",
              "      <td>922</td>\n",
              "      <td>1598</td>\n",
              "      <td>1782</td>\n",
              "      <td>601</td>\n",
              "      <td>4831</td>\n",
              "      <td>380</td>\n",
              "      <td>1036</td>\n",
              "      <td>6457</td>\n",
              "      <td>2176</td>\n",
              "      <td>289</td>\n",
              "      <td>1042</td>\n",
              "      <td>524</td>\n",
              "      <td>1278</td>\n",
              "      <td>3761</td>\n",
              "      <td>772</td>\n",
              "      <td>326</td>\n",
              "      <td>438</td>\n",
              "      <td>...</td>\n",
              "      <td>1775</td>\n",
              "      <td>1653</td>\n",
              "      <td>681</td>\n",
              "      <td>1594</td>\n",
              "      <td>1564</td>\n",
              "      <td>1577</td>\n",
              "      <td>1845</td>\n",
              "      <td>9949</td>\n",
              "      <td>9963</td>\n",
              "      <td>1533</td>\n",
              "      <td>1140</td>\n",
              "      <td>9918</td>\n",
              "      <td>8696</td>\n",
              "      <td>766</td>\n",
              "      <td>595</td>\n",
              "      <td>58</td>\n",
              "      <td>1797</td>\n",
              "      <td>1498</td>\n",
              "      <td>1686</td>\n",
              "      <td>718</td>\n",
              "      <td>2275</td>\n",
              "      <td>1639</td>\n",
              "      <td>1732</td>\n",
              "      <td>1465</td>\n",
              "      <td>580</td>\n",
              "      <td>1970</td>\n",
              "      <td>5993</td>\n",
              "      <td>221</td>\n",
              "      <td>4943</td>\n",
              "      <td>190</td>\n",
              "      <td>1179</td>\n",
              "      <td>6193</td>\n",
              "      <td>550</td>\n",
              "      <td>1454</td>\n",
              "      <td>1645</td>\n",
              "      <td>1182</td>\n",
              "      <td>1920</td>\n",
              "      <td>299</td>\n",
              "      <td>503</td>\n",
              "      <td>618</td>\n",
              "    </tr>\n",
              "    <tr>\n",
              "      <th>3</th>\n",
              "      <td>2000-4</td>\n",
              "      <td>3780</td>\n",
              "      <td>1620</td>\n",
              "      <td>8880</td>\n",
              "      <td>1399</td>\n",
              "      <td>1350</td>\n",
              "      <td>6432</td>\n",
              "      <td>1717</td>\n",
              "      <td>1005</td>\n",
              "      <td>1983</td>\n",
              "      <td>555</td>\n",
              "      <td>6295</td>\n",
              "      <td>1716</td>\n",
              "      <td>333</td>\n",
              "      <td>784</td>\n",
              "      <td>1384</td>\n",
              "      <td>514</td>\n",
              "      <td>2275</td>\n",
              "      <td>684</td>\n",
              "      <td>1102</td>\n",
              "      <td>3123</td>\n",
              "      <td>1755</td>\n",
              "      <td>2067</td>\n",
              "      <td>906</td>\n",
              "      <td>1630</td>\n",
              "      <td>1785</td>\n",
              "      <td>693</td>\n",
              "      <td>4836</td>\n",
              "      <td>337</td>\n",
              "      <td>1067</td>\n",
              "      <td>6471</td>\n",
              "      <td>2220</td>\n",
              "      <td>302</td>\n",
              "      <td>998</td>\n",
              "      <td>520</td>\n",
              "      <td>1336</td>\n",
              "      <td>3773</td>\n",
              "      <td>838</td>\n",
              "      <td>331</td>\n",
              "      <td>402</td>\n",
              "      <td>...</td>\n",
              "      <td>1833</td>\n",
              "      <td>1729</td>\n",
              "      <td>654</td>\n",
              "      <td>1538</td>\n",
              "      <td>1463</td>\n",
              "      <td>1562</td>\n",
              "      <td>1801</td>\n",
              "      <td>9952</td>\n",
              "      <td>9976</td>\n",
              "      <td>1440</td>\n",
              "      <td>1110</td>\n",
              "      <td>9923</td>\n",
              "      <td>8699</td>\n",
              "      <td>765</td>\n",
              "      <td>627</td>\n",
              "      <td>90</td>\n",
              "      <td>1784</td>\n",
              "      <td>1412</td>\n",
              "      <td>1689</td>\n",
              "      <td>695</td>\n",
              "      <td>2263</td>\n",
              "      <td>1636</td>\n",
              "      <td>1656</td>\n",
              "      <td>1403</td>\n",
              "      <td>544</td>\n",
              "      <td>1971</td>\n",
              "      <td>5985</td>\n",
              "      <td>229</td>\n",
              "      <td>4959</td>\n",
              "      <td>169</td>\n",
              "      <td>1202</td>\n",
              "      <td>6184</td>\n",
              "      <td>566</td>\n",
              "      <td>1408</td>\n",
              "      <td>1649</td>\n",
              "      <td>1121</td>\n",
              "      <td>1966</td>\n",
              "      <td>311</td>\n",
              "      <td>549</td>\n",
              "      <td>557</td>\n",
              "    </tr>\n",
              "    <tr>\n",
              "      <th>4</th>\n",
              "      <td>2000-5</td>\n",
              "      <td>3719</td>\n",
              "      <td>1591</td>\n",
              "      <td>8877</td>\n",
              "      <td>1524</td>\n",
              "      <td>1290</td>\n",
              "      <td>6449</td>\n",
              "      <td>1736</td>\n",
              "      <td>999</td>\n",
              "      <td>1952</td>\n",
              "      <td>536</td>\n",
              "      <td>6292</td>\n",
              "      <td>1724</td>\n",
              "      <td>333</td>\n",
              "      <td>786</td>\n",
              "      <td>1406</td>\n",
              "      <td>530</td>\n",
              "      <td>2234</td>\n",
              "      <td>714</td>\n",
              "      <td>1104</td>\n",
              "      <td>3116</td>\n",
              "      <td>1858</td>\n",
              "      <td>2052</td>\n",
              "      <td>890</td>\n",
              "      <td>1636</td>\n",
              "      <td>1791</td>\n",
              "      <td>796</td>\n",
              "      <td>4841</td>\n",
              "      <td>302</td>\n",
              "      <td>1052</td>\n",
              "      <td>6472</td>\n",
              "      <td>2263</td>\n",
              "      <td>291</td>\n",
              "      <td>960</td>\n",
              "      <td>508</td>\n",
              "      <td>1285</td>\n",
              "      <td>3775</td>\n",
              "      <td>885</td>\n",
              "      <td>330</td>\n",
              "      <td>387</td>\n",
              "      <td>...</td>\n",
              "      <td>1913</td>\n",
              "      <td>1790</td>\n",
              "      <td>669</td>\n",
              "      <td>1451</td>\n",
              "      <td>1406</td>\n",
              "      <td>1541</td>\n",
              "      <td>1791</td>\n",
              "      <td>9957</td>\n",
              "      <td>9986</td>\n",
              "      <td>1395</td>\n",
              "      <td>1063</td>\n",
              "      <td>9923</td>\n",
              "      <td>8703</td>\n",
              "      <td>708</td>\n",
              "      <td>611</td>\n",
              "      <td>113</td>\n",
              "      <td>1777</td>\n",
              "      <td>1361</td>\n",
              "      <td>1692</td>\n",
              "      <td>693</td>\n",
              "      <td>2261</td>\n",
              "      <td>1646</td>\n",
              "      <td>1575</td>\n",
              "      <td>1306</td>\n",
              "      <td>543</td>\n",
              "      <td>1985</td>\n",
              "      <td>5974</td>\n",
              "      <td>260</td>\n",
              "      <td>4969</td>\n",
              "      <td>144</td>\n",
              "      <td>1191</td>\n",
              "      <td>6174</td>\n",
              "      <td>574</td>\n",
              "      <td>1366</td>\n",
              "      <td>1662</td>\n",
              "      <td>1173</td>\n",
              "      <td>1952</td>\n",
              "      <td>311</td>\n",
              "      <td>609</td>\n",
              "      <td>513</td>\n",
              "    </tr>\n",
              "  </tbody>\n",
              "</table>\n",
              "<p>5 rows × 101 columns</p>\n",
              "</div>"
            ],
            "text/plain": [
              "  day_stamp     0     1     2     3     4  ...    94    95    96   97   98   99\n",
              "0    2000-1  3986  1617  8890  1201  1522  ...  1559  1363  1879  323  484  696\n",
              "1    2000-2  3912  1616  8888  1209  1431  ...  1630  1255  1906  308  474  642\n",
              "2    2000-3  3846  1639  8886  1278  1383  ...  1645  1182  1920  299  503  618\n",
              "3    2000-4  3780  1620  8880  1399  1350  ...  1649  1121  1966  311  549  557\n",
              "4    2000-5  3719  1591  8877  1524  1290  ...  1662  1173  1952  311  609  513\n",
              "\n",
              "[5 rows x 101 columns]"
            ]
          },
          "metadata": {
            "tags": []
          },
          "execution_count": 6
        }
      ]
    },
    {
      "cell_type": "code",
      "metadata": {
        "id": "HLSPZoQE042d",
        "colab_type": "code",
        "outputId": "d61057d9-e1dc-4cbd-9622-21a2e53db3d9",
        "colab": {
          "base_uri": "https://localhost:8080/",
          "height": 300
        }
      },
      "source": [
        "df.iloc[:,4].plot()\n",
        "series = df.iloc[:,4]\n",
        "time = np.array(range(len(series)))\n",
        "print(\"Series shape\",series.shape)\n",
        "print(\"Time shape\",time.shape)"
      ],
      "execution_count": 0,
      "outputs": [
        {
          "output_type": "stream",
          "text": [
            "Series shape (7305,)\n",
            "Time shape (7305,)\n"
          ],
          "name": "stdout"
        },
        {
          "output_type": "display_data",
          "data": {
            "image/png": "[encoded data removed]",
            "text/plain": [
              "<Figure size 432x288 with 1 Axes>"
            ]
          },
          "metadata": {
            "tags": [],
            "needs_background": "light"
          }
        }
      ]
    },
    {
      "cell_type": "code",
      "metadata": {
        "id": "Mh4fRsTo4wqE",
        "colab_type": "code",
        "colab": {}
      },
      "source": [
        "series = np.array(series)"
      ],
      "execution_count": 0,
      "outputs": []
    },
    {
      "cell_type": "code",
      "metadata": {
        "id": "L92YRw_IpCFG",
        "colab_type": "code",
        "colab": {}
      },
      "source": [
        "split_time = 5600\n",
        "time_train = time[:split_time]\n",
        "x_train = series[:split_time]\n",
        "time_valid = time[split_time:]\n",
        "x_valid = series[split_time:]\n",
        "\n",
        "window_size = 30\n",
        "batch_size = 32\n",
        "shuffle_buffer_size = 1000\n",
        "\n"
      ],
      "execution_count": 0,
      "outputs": []
    },
    {
      "cell_type": "code",
      "metadata": {
        "id": "lJwUUZscnG38",
        "colab_type": "code",
        "colab": {}
      },
      "source": [
        "def windowed_dataset(series, window_size, batch_size, shuffle_buffer):\n",
        "    series = tf.expand_dims(series, axis=-1)\n",
        "    ds = tf.data.Dataset.from_tensor_slices(series)\n",
        "    ds = ds.window(window_size + 1, shift=1, drop_remainder=True)\n",
        "    ds = ds.flat_map(lambda w: w.batch(window_size + 1))\n",
        "    ds = ds.shuffle(shuffle_buffer)\n",
        "    ds = ds.map(lambda w: (w[:-1], w[1:]))\n",
        "    return ds.batch(batch_size).prefetch(1)"
      ],
      "execution_count": 0,
      "outputs": []
    },
    {
      "cell_type": "code",
      "metadata": {
        "id": "4XwGrf-A_wF0",
        "colab_type": "code",
        "colab": {}
      },
      "source": [
        "def model_forecast(model, series, window_size):\n",
        "    ds = tf.data.Dataset.from_tensor_slices(series)\n",
        "    ds = ds.window(window_size, shift=1, drop_remainder=True)\n",
        "    ds = ds.flat_map(lambda w: w.batch(window_size))\n",
        "    ds = ds.batch(32).prefetch(1)\n",
        "    forecast = model.predict(ds)\n",
        "    return forecast"
      ],
      "execution_count": 0,
      "outputs": []
    },
    {
      "cell_type": "code",
      "metadata": {
        "id": "AclfYY3Mn6Ph",
        "colab_type": "code",
        "outputId": "9ab9c15a-f654-4593-9d8e-8fb7499d77e7",
        "colab": {
          "base_uri": "https://localhost:8080/",
          "height": 238
        }
      },
      "source": [
        "tf.keras.backend.clear_session()\n",
        "tf.random.set_seed(51)\n",
        "np.random.seed(51)\n",
        "window_size = 64\n",
        "batch_size = 256\n",
        "train_set = windowed_dataset(x_train, window_size, batch_size, shuffle_buffer_size)\n",
        "print(train_set)\n",
        "print(x_train.shape)\n",
        "\n",
        "model = tf.keras.models.Sequential([\n",
        "\n",
        "  tf.keras.layers.Dense(30, activation=\"relu\",input_shape=[None, 1]),\n",
        "  tf.keras.layers.Dense(10, activation=\"relu\"),\n",
        "  tf.keras.layers.Dense(1),\n",
        "])\n",
        "\n",
        "lr_schedule = tf.keras.callbacks.LearningRateScheduler(\n",
        "    lambda epoch: 1e-8 * 10**(epoch / 20))\n",
        "optimizer = tf.keras.optimizers.SGD(lr=1e-8, momentum=0.9)\n",
        "model.compile(loss=tf.keras.losses.Huber(),\n",
        "              optimizer=optimizer,\n",
        "              metrics=[\"mae\"])\n",
        "history = model.fit(train_set, epochs=100, callbacks=[lr_schedule])\n",
        "\n",
        "\n"
      ],
      "execution_count": 0,
      "outputs": [
        {
          "output_type": "error",
          "ename": "NameError",
          "evalue": "ignored",
          "traceback": [
            "\u001b[0;31m---------------------------------------------------------------------------\u001b[0m",
            "\u001b[0;31mNameError\u001b[0m                                 Traceback (most recent call last)",
            "\u001b[0;32m<ipython-input-1-3da604e25b13>\u001b[0m in \u001b[0;36m<module>\u001b[0;34m()\u001b[0m\n\u001b[0;32m----> 1\u001b[0;31m \u001b[0mtf\u001b[0m\u001b[0;34m.\u001b[0m\u001b[0mkeras\u001b[0m\u001b[0;34m.\u001b[0m\u001b[0mbackend\u001b[0m\u001b[0;34m.\u001b[0m\u001b[0mclear_session\u001b[0m\u001b[0;34m(\u001b[0m\u001b[0;34m)\u001b[0m\u001b[0;34m\u001b[0m\u001b[0;34m\u001b[0m\u001b[0m\n\u001b[0m\u001b[1;32m      2\u001b[0m \u001b[0mtf\u001b[0m\u001b[0;34m.\u001b[0m\u001b[0mrandom\u001b[0m\u001b[0;34m.\u001b[0m\u001b[0mset_seed\u001b[0m\u001b[0;34m(\u001b[0m\u001b[0;36m51\u001b[0m\u001b[0;34m)\u001b[0m\u001b[0;34m\u001b[0m\u001b[0;34m\u001b[0m\u001b[0m\n\u001b[1;32m      3\u001b[0m \u001b[0mnp\u001b[0m\u001b[0;34m.\u001b[0m\u001b[0mrandom\u001b[0m\u001b[0;34m.\u001b[0m\u001b[0mseed\u001b[0m\u001b[0;34m(\u001b[0m\u001b[0;36m51\u001b[0m\u001b[0;34m)\u001b[0m\u001b[0;34m\u001b[0m\u001b[0;34m\u001b[0m\u001b[0m\n\u001b[1;32m      4\u001b[0m \u001b[0mwindow_size\u001b[0m \u001b[0;34m=\u001b[0m \u001b[0;36m64\u001b[0m\u001b[0;34m\u001b[0m\u001b[0;34m\u001b[0m\u001b[0m\n\u001b[1;32m      5\u001b[0m \u001b[0mbatch_size\u001b[0m \u001b[0;34m=\u001b[0m \u001b[0;36m256\u001b[0m\u001b[0;34m\u001b[0m\u001b[0;34m\u001b[0m\u001b[0m\n",
            "\u001b[0;31mNameError\u001b[0m: name 'tf' is not defined"
          ]
        }
      ]
    },
    {
      "cell_type": "code",
      "metadata": {
        "id": "vVcKmg7Q_7rD",
        "colab_type": "code",
        "outputId": "8d271182-0f42-458b-ccd8-1eaf3ea06569",
        "colab": {
          "base_uri": "https://localhost:8080/",
          "height": 286
        }
      },
      "source": [
        "plt.semilogx(history.history[\"lr\"], history.history[\"loss\"])\n",
        "#plt.axis([1e-8, 1e-4, 0, 60])"
      ],
      "execution_count": 0,
      "outputs": [
        {
          "output_type": "execute_result",
          "data": {
            "text/plain": [
              "[<matplotlib.lines.Line2D at 0x7f79ef00d048>]"
            ]
          },
          "metadata": {
            "tags": []
          },
          "execution_count": 13
        },
        {
          "output_type": "display_data",
          "data": {
            "image/png": "[encoded data removed]",
            "text/plain": [
              "<Figure size 432x288 with 1 Axes>"
            ]
          },
          "metadata": {
            "tags": [],
            "needs_background": "light"
          }
        }
      ]
    },
    {
      "cell_type": "code",
      "metadata": {
        "id": "exEauYEv3E-k",
        "colab_type": "code",
        "outputId": "8a402286-e1d8-425e-bc6d-39abec243580",
        "colab": {
          "base_uri": "https://localhost:8080/",
          "height": 34
        }
      },
      "source": [
        "bestLr = history.history['lr'][np.argmin(history.history['loss'])]\n",
        "bestLr"
      ],
      "execution_count": 0,
      "outputs": [
        {
          "output_type": "execute_result",
          "data": {
            "text/plain": [
              "1.9952623e-07"
            ]
          },
          "metadata": {
            "tags": []
          },
          "execution_count": 14
        }
      ]
    },
    {
      "cell_type": "code",
      "metadata": {
        "id": "QsksvkcXAAgq",
        "colab_type": "code",
        "outputId": "9902da7e-6643-448d-e64e-fe9ef83e3c00",
        "colab": {
          "base_uri": "https://localhost:8080/",
          "height": 1000
        }
      },
      "source": [
        "tf.keras.backend.clear_session()\n",
        "tf.random.set_seed(51)\n",
        "np.random.seed(51)\n",
        "train_set = windowed_dataset(x_train, window_size=64, batch_size=256, shuffle_buffer=shuffle_buffer_size)\n",
        "model = tf.keras.models.Sequential([\n",
        "\n",
        "\n",
        "  tf.keras.layers.Dense(30, activation=\"relu\", input_shape=[None,1]),\n",
        "  tf.keras.layers.Dense(10, activation=\"relu\"),\n",
        "  tf.keras.layers.Dense(1),\n",
        "])\n",
        "\n",
        "\n",
        "optimizer = tf.keras.optimizers.SGD(lr=bestLr, momentum=0.9)\n",
        "model.compile(loss=tf.keras.losses.Huber(),\n",
        "              optimizer=optimizer,\n",
        "              metrics=[\"mae\"])\n",
        "history = model.fit(train_set,epochs=500)"
      ],
      "execution_count": 0,
      "outputs": [
        {
          "output_type": "stream",
          "text": [
            "Epoch 1/250\n",
            "22/22 [==============================] - 2s 86ms/step - loss: 3754.0765 - mae: 3749.7800\n",
            "Epoch 2/250\n",
            "22/22 [==============================] - 1s 65ms/step - loss: 554.3814 - mae: 556.3528\n",
            "Epoch 3/250\n",
            "22/22 [==============================] - 1s 63ms/step - loss: 77.1575 - mae: 77.7898\n",
            "Epoch 4/250\n",
            "22/22 [==============================] - 1s 67ms/step - loss: 73.4115 - mae: 74.4398\n",
            "Epoch 5/250\n",
            "22/22 [==============================] - 1s 67ms/step - loss: 41.9259 - mae: 42.5267\n",
            "Epoch 6/250\n",
            "22/22 [==============================] - 1s 67ms/step - loss: 42.9704 - mae: 43.6438\n",
            "Epoch 7/250\n",
            "22/22 [==============================] - 1s 65ms/step - loss: 38.2243 - mae: 38.8219\n",
            "Epoch 8/250\n",
            "22/22 [==============================] - 1s 68ms/step - loss: 37.0259 - mae: 37.5885\n",
            "Epoch 9/250\n",
            "22/22 [==============================] - 1s 66ms/step - loss: 35.9157 - mae: 36.4180\n",
            "Epoch 10/250\n",
            "22/22 [==============================] - 1s 68ms/step - loss: 33.6966 - mae: 34.2068\n",
            "Epoch 11/250\n",
            "22/22 [==============================] - 2s 69ms/step - loss: 33.7171 - mae: 34.2166\n",
            "Epoch 12/250\n",
            "22/22 [==============================] - 1s 64ms/step - loss: 33.7726 - mae: 34.2908\n",
            "Epoch 13/250\n",
            "22/22 [==============================] - 1s 63ms/step - loss: 33.7858 - mae: 34.3040\n",
            "Epoch 14/250\n",
            "22/22 [==============================] - 1s 67ms/step - loss: 35.1175 - mae: 35.6010\n",
            "Epoch 15/250\n",
            "22/22 [==============================] - 1s 62ms/step - loss: 37.2015 - mae: 37.7426\n",
            "Epoch 16/250\n",
            "22/22 [==============================] - 1s 66ms/step - loss: 37.4119 - mae: 37.9893\n",
            "Epoch 17/250\n",
            "22/22 [==============================] - 1s 64ms/step - loss: 38.8299 - mae: 39.4391\n",
            "Epoch 18/250\n",
            "22/22 [==============================] - 1s 66ms/step - loss: 39.8128 - mae: 40.4063\n",
            "Epoch 19/250\n",
            "22/22 [==============================] - 1s 68ms/step - loss: 43.0877 - mae: 43.7084\n",
            "Epoch 20/250\n",
            "22/22 [==============================] - 1s 65ms/step - loss: 40.1284 - mae: 40.6422\n",
            "Epoch 21/250\n",
            "22/22 [==============================] - 2s 69ms/step - loss: 52.6361 - mae: 53.4602\n",
            "Epoch 22/250\n",
            "22/22 [==============================] - 1s 68ms/step - loss: 38.1923 - mae: 38.7263\n",
            "Epoch 23/250\n",
            "22/22 [==============================] - 2s 69ms/step - loss: 33.8581 - mae: 34.3879\n",
            "Epoch 24/250\n",
            "22/22 [==============================] - 1s 67ms/step - loss: 33.9858 - mae: 34.5002\n",
            "Epoch 25/250\n",
            "22/22 [==============================] - 1s 64ms/step - loss: 33.9879 - mae: 34.4879\n",
            "Epoch 26/250\n",
            "22/22 [==============================] - 2s 69ms/step - loss: 33.7409 - mae: 34.2669\n",
            "Epoch 27/250\n",
            "22/22 [==============================] - 2s 70ms/step - loss: 33.9313 - mae: 34.4486\n",
            "Epoch 28/250\n",
            "22/22 [==============================] - 1s 65ms/step - loss: 33.8284 - mae: 34.3002\n",
            "Epoch 29/250\n",
            "22/22 [==============================] - 1s 66ms/step - loss: 34.0034 - mae: 34.5141\n",
            "Epoch 30/250\n",
            "22/22 [==============================] - 1s 66ms/step - loss: 33.9568 - mae: 34.4671\n",
            "Epoch 31/250\n",
            "22/22 [==============================] - 2s 71ms/step - loss: 33.6782 - mae: 34.1974\n",
            "Epoch 32/250\n",
            "22/22 [==============================] - 1s 67ms/step - loss: 33.7925 - mae: 34.3224\n",
            "Epoch 33/250\n",
            "22/22 [==============================] - 2s 69ms/step - loss: 34.3760 - mae: 34.8924\n",
            "Epoch 34/250\n",
            "22/22 [==============================] - 1s 68ms/step - loss: 33.8271 - mae: 34.3092\n",
            "Epoch 35/250\n",
            "22/22 [==============================] - 1s 67ms/step - loss: 33.8028 - mae: 34.3109\n",
            "Epoch 36/250\n",
            "22/22 [==============================] - 1s 65ms/step - loss: 34.0824 - mae: 34.5520\n",
            "Epoch 37/250\n",
            "22/22 [==============================] - 1s 67ms/step - loss: 34.7364 - mae: 35.2536\n",
            "Epoch 38/250\n",
            "22/22 [==============================] - 1s 66ms/step - loss: 33.6829 - mae: 34.1899\n",
            "Epoch 39/250\n",
            "22/22 [==============================] - 1s 65ms/step - loss: 33.6825 - mae: 34.1951\n",
            "Epoch 40/250\n",
            "22/22 [==============================] - 1s 67ms/step - loss: 33.7472 - mae: 34.2528\n",
            "Epoch 41/250\n",
            "22/22 [==============================] - 1s 64ms/step - loss: 33.9057 - mae: 34.4179\n",
            "Epoch 42/250\n",
            "22/22 [==============================] - 1s 66ms/step - loss: 34.0312 - mae: 34.5367\n",
            "Epoch 43/250\n",
            "22/22 [==============================] - 1s 65ms/step - loss: 33.7021 - mae: 34.2142\n",
            "Epoch 44/250\n",
            "22/22 [==============================] - 1s 67ms/step - loss: 34.4287 - mae: 34.9638\n",
            "Epoch 45/250\n",
            "22/22 [==============================] - 1s 64ms/step - loss: 34.1725 - mae: 34.6743\n",
            "Epoch 46/250\n",
            "22/22 [==============================] - 1s 68ms/step - loss: 34.3626 - mae: 34.8767\n",
            "Epoch 47/250\n",
            "22/22 [==============================] - 1s 66ms/step - loss: 33.7623 - mae: 34.2868\n",
            "Epoch 48/250\n",
            "22/22 [==============================] - 1s 66ms/step - loss: 33.6764 - mae: 34.1816\n",
            "Epoch 49/250\n",
            "22/22 [==============================] - 1s 67ms/step - loss: 33.7941 - mae: 34.3113\n",
            "Epoch 50/250\n",
            "22/22 [==============================] - 1s 65ms/step - loss: 33.9769 - mae: 34.4945\n",
            "Epoch 51/250\n",
            "22/22 [==============================] - 1s 67ms/step - loss: 33.7361 - mae: 34.2503\n",
            "Epoch 52/250\n",
            "22/22 [==============================] - 1s 68ms/step - loss: 33.8547 - mae: 34.3526\n",
            "Epoch 53/250\n",
            "22/22 [==============================] - 1s 65ms/step - loss: 33.7104 - mae: 34.1908\n",
            "Epoch 54/250\n",
            "22/22 [==============================] - 1s 67ms/step - loss: 34.2464 - mae: 34.7120\n",
            "Epoch 55/250\n",
            "22/22 [==============================] - 1s 67ms/step - loss: 36.6414 - mae: 37.1840\n",
            "Epoch 56/250\n",
            "22/22 [==============================] - 1s 66ms/step - loss: 33.8341 - mae: 34.3238\n",
            "Epoch 57/250\n",
            "22/22 [==============================] - 1s 63ms/step - loss: 33.7483 - mae: 34.2588\n",
            "Epoch 58/250\n",
            "22/22 [==============================] - 1s 66ms/step - loss: 34.0916 - mae: 34.6172\n",
            "Epoch 59/250\n",
            "22/22 [==============================] - 2s 70ms/step - loss: 33.8380 - mae: 34.3437\n",
            "Epoch 60/250\n",
            "22/22 [==============================] - 1s 68ms/step - loss: 33.9719 - mae: 34.4460\n",
            "Epoch 61/250\n",
            "22/22 [==============================] - 1s 66ms/step - loss: 34.0517 - mae: 34.5586\n",
            "Epoch 62/250\n",
            "22/22 [==============================] - 2s 68ms/step - loss: 33.9118 - mae: 34.4140\n",
            "Epoch 63/250\n",
            "22/22 [==============================] - 1s 66ms/step - loss: 33.6923 - mae: 34.2151\n",
            "Epoch 64/250\n",
            "22/22 [==============================] - 1s 65ms/step - loss: 34.0562 - mae: 34.5741\n",
            "Epoch 65/250\n",
            "22/22 [==============================] - 1s 67ms/step - loss: 33.7078 - mae: 34.2173\n",
            "Epoch 66/250\n",
            "22/22 [==============================] - 1s 65ms/step - loss: 33.7435 - mae: 34.2467\n",
            "Epoch 67/250\n",
            "22/22 [==============================] - 1s 67ms/step - loss: 33.8418 - mae: 34.3514\n",
            "Epoch 68/250\n",
            "22/22 [==============================] - 1s 67ms/step - loss: 33.7534 - mae: 34.2718\n",
            "Epoch 69/250\n",
            "22/22 [==============================] - 1s 67ms/step - loss: 33.9022 - mae: 34.4264\n",
            "Epoch 70/250\n",
            "22/22 [==============================] - 1s 68ms/step - loss: 33.8115 - mae: 34.3103\n",
            "Epoch 71/250\n",
            "22/22 [==============================] - 1s 66ms/step - loss: 34.3603 - mae: 34.8535\n",
            "Epoch 72/250\n",
            "22/22 [==============================] - 2s 69ms/step - loss: 34.3950 - mae: 34.9004\n",
            "Epoch 73/250\n",
            "22/22 [==============================] - 1s 66ms/step - loss: 33.7714 - mae: 34.2788\n",
            "Epoch 74/250\n",
            "22/22 [==============================] - 2s 72ms/step - loss: 34.2333 - mae: 34.7306\n",
            "Epoch 75/250\n",
            "22/22 [==============================] - 2s 74ms/step - loss: 35.5558 - mae: 36.0822\n",
            "Epoch 76/250\n",
            "22/22 [==============================] - 2s 75ms/step - loss: 33.6729 - mae: 34.2029\n",
            "Epoch 77/250\n",
            "22/22 [==============================] - 2s 71ms/step - loss: 34.1925 - mae: 34.7159\n",
            "Epoch 78/250\n",
            "22/22 [==============================] - 2s 73ms/step - loss: 35.3088 - mae: 35.8106\n",
            "Epoch 79/250\n",
            "22/22 [==============================] - 2s 74ms/step - loss: 34.6224 - mae: 35.0788\n",
            "Epoch 80/250\n",
            "22/22 [==============================] - 2s 73ms/step - loss: 34.7461 - mae: 35.2398\n",
            "Epoch 81/250\n",
            "22/22 [==============================] - 1s 67ms/step - loss: 33.9922 - mae: 34.5184\n",
            "Epoch 82/250\n",
            "22/22 [==============================] - 2s 70ms/step - loss: 33.9636 - mae: 34.4731\n",
            "Epoch 83/250\n",
            "22/22 [==============================] - 1s 68ms/step - loss: 33.8680 - mae: 34.3945\n",
            "Epoch 84/250\n",
            "22/22 [==============================] - 1s 65ms/step - loss: 34.2972 - mae: 34.8133\n",
            "Epoch 85/250\n",
            "22/22 [==============================] - 1s 68ms/step - loss: 34.2244 - mae: 34.7253\n",
            "Epoch 86/250\n",
            "22/22 [==============================] - 1s 68ms/step - loss: 34.4074 - mae: 34.9360\n",
            "Epoch 87/250\n",
            "22/22 [==============================] - 2s 70ms/step - loss: 34.0483 - mae: 34.5737\n",
            "Epoch 88/250\n",
            "22/22 [==============================] - 1s 66ms/step - loss: 33.9385 - mae: 34.4696\n",
            "Epoch 89/250\n",
            "22/22 [==============================] - 1s 68ms/step - loss: 34.6591 - mae: 35.1592\n",
            "Epoch 90/250\n",
            "22/22 [==============================] - 1s 65ms/step - loss: 33.9307 - mae: 34.4397\n",
            "Epoch 91/250\n",
            "22/22 [==============================] - 2s 71ms/step - loss: 33.9597 - mae: 34.4694\n",
            "Epoch 92/250\n",
            "22/22 [==============================] - 1s 67ms/step - loss: 33.7771 - mae: 34.2799\n",
            "Epoch 93/250\n",
            "22/22 [==============================] - 1s 66ms/step - loss: 34.2840 - mae: 34.7384\n",
            "Epoch 94/250\n",
            "22/22 [==============================] - 1s 65ms/step - loss: 35.3521 - mae: 35.9049\n",
            "Epoch 95/250\n",
            "22/22 [==============================] - 1s 68ms/step - loss: 34.5938 - mae: 35.1098\n",
            "Epoch 96/250\n",
            "22/22 [==============================] - 2s 68ms/step - loss: 34.6788 - mae: 35.2118\n",
            "Epoch 97/250\n",
            "22/22 [==============================] - 1s 64ms/step - loss: 34.0102 - mae: 34.5247\n",
            "Epoch 98/250\n",
            "22/22 [==============================] - 1s 67ms/step - loss: 33.9902 - mae: 34.4950\n",
            "Epoch 99/250\n",
            "22/22 [==============================] - 1s 68ms/step - loss: 33.7148 - mae: 34.2201\n",
            "Epoch 100/250\n",
            "22/22 [==============================] - 2s 70ms/step - loss: 33.7292 - mae: 34.2423\n",
            "Epoch 101/250\n",
            "22/22 [==============================] - 2s 69ms/step - loss: 33.8054 - mae: 34.2978\n",
            "Epoch 102/250\n",
            "22/22 [==============================] - 1s 67ms/step - loss: 34.2850 - mae: 34.7768\n",
            "Epoch 103/250\n",
            "22/22 [==============================] - 1s 67ms/step - loss: 35.5944 - mae: 36.0783\n",
            "Epoch 104/250\n",
            "22/22 [==============================] - 2s 70ms/step - loss: 33.6951 - mae: 34.2077\n",
            "Epoch 105/250\n",
            "22/22 [==============================] - 1s 67ms/step - loss: 33.7467 - mae: 34.2562\n",
            "Epoch 106/250\n",
            "22/22 [==============================] - 1s 67ms/step - loss: 33.8464 - mae: 34.3358\n",
            "Epoch 107/250\n",
            "22/22 [==============================] - 2s 68ms/step - loss: 35.1496 - mae: 35.6810\n",
            "Epoch 108/250\n",
            "22/22 [==============================] - 1s 68ms/step - loss: 36.1819 - mae: 36.7040\n",
            "Epoch 109/250\n",
            "22/22 [==============================] - 2s 69ms/step - loss: 34.8182 - mae: 35.3239\n",
            "Epoch 110/250\n",
            "22/22 [==============================] - 1s 67ms/step - loss: 34.1580 - mae: 34.6830\n",
            "Epoch 111/250\n",
            "22/22 [==============================] - 2s 73ms/step - loss: 33.8834 - mae: 34.3799\n",
            "Epoch 112/250\n",
            "22/22 [==============================] - 2s 72ms/step - loss: 35.4750 - mae: 35.9259\n",
            "Epoch 113/250\n",
            "22/22 [==============================] - 2s 69ms/step - loss: 35.5815 - mae: 36.1173\n",
            "Epoch 114/250\n",
            "22/22 [==============================] - 1s 66ms/step - loss: 33.7220 - mae: 34.2622\n",
            "Epoch 115/250\n",
            "22/22 [==============================] - 1s 66ms/step - loss: 33.6492 - mae: 34.1563\n",
            "Epoch 116/250\n",
            "22/22 [==============================] - 2s 69ms/step - loss: 33.6935 - mae: 34.2067\n",
            "Epoch 117/250\n",
            "22/22 [==============================] - 1s 65ms/step - loss: 33.7474 - mae: 34.2419\n",
            "Epoch 118/250\n",
            "22/22 [==============================] - 2s 72ms/step - loss: 34.7633 - mae: 35.2472\n",
            "Epoch 119/250\n",
            "22/22 [==============================] - 1s 67ms/step - loss: 34.9435 - mae: 35.4441\n",
            "Epoch 120/250\n",
            "22/22 [==============================] - 1s 67ms/step - loss: 34.3934 - mae: 34.8699\n",
            "Epoch 121/250\n",
            "22/22 [==============================] - 1s 66ms/step - loss: 33.9468 - mae: 34.4570\n",
            "Epoch 122/250\n",
            "22/22 [==============================] - 1s 67ms/step - loss: 34.6918 - mae: 35.1554\n",
            "Epoch 123/250\n",
            "22/22 [==============================] - 1s 66ms/step - loss: 33.8526 - mae: 34.3495\n",
            "Epoch 124/250\n",
            "22/22 [==============================] - 1s 67ms/step - loss: 33.8366 - mae: 34.3740\n",
            "Epoch 125/250\n",
            "22/22 [==============================] - 2s 68ms/step - loss: 33.6739 - mae: 34.1960\n",
            "Epoch 126/250\n",
            "22/22 [==============================] - 1s 66ms/step - loss: 34.1653 - mae: 34.6831\n",
            "Epoch 127/250\n",
            "22/22 [==============================] - 1s 67ms/step - loss: 34.2337 - mae: 34.7040\n",
            "Epoch 128/250\n",
            "22/22 [==============================] - 2s 71ms/step - loss: 35.0824 - mae: 35.6118\n",
            "Epoch 129/250\n",
            "22/22 [==============================] - 2s 68ms/step - loss: 34.3456 - mae: 34.8460\n",
            "Epoch 130/250\n",
            "22/22 [==============================] - 2s 68ms/step - loss: 34.5436 - mae: 35.0276\n",
            "Epoch 131/250\n",
            "22/22 [==============================] - 1s 68ms/step - loss: 34.5140 - mae: 35.0388\n",
            "Epoch 132/250\n",
            "22/22 [==============================] - 2s 69ms/step - loss: 33.6807 - mae: 34.1830\n",
            "Epoch 133/250\n",
            "22/22 [==============================] - 2s 68ms/step - loss: 34.0185 - mae: 34.4631\n",
            "Epoch 134/250\n",
            "22/22 [==============================] - 2s 69ms/step - loss: 35.1228 - mae: 35.6117\n",
            "Epoch 135/250\n",
            "22/22 [==============================] - 2s 69ms/step - loss: 34.1212 - mae: 34.5954\n",
            "Epoch 136/250\n",
            "22/22 [==============================] - 2s 69ms/step - loss: 34.4234 - mae: 34.9212\n",
            "Epoch 137/250\n",
            "22/22 [==============================] - 2s 70ms/step - loss: 33.7424 - mae: 34.2536\n",
            "Epoch 138/250\n",
            "22/22 [==============================] - 2s 71ms/step - loss: 34.2844 - mae: 34.8035\n",
            "Epoch 139/250\n",
            "22/22 [==============================] - 2s 72ms/step - loss: 34.0344 - mae: 34.5352\n",
            "Epoch 140/250\n",
            "22/22 [==============================] - 1s 67ms/step - loss: 35.1618 - mae: 35.6583\n",
            "Epoch 141/250\n",
            "22/22 [==============================] - 1s 68ms/step - loss: 36.6652 - mae: 37.1864\n",
            "Epoch 142/250\n",
            "22/22 [==============================] - 1s 67ms/step - loss: 34.6370 - mae: 35.1363\n",
            "Epoch 143/250\n",
            "22/22 [==============================] - 1s 68ms/step - loss: 35.6432 - mae: 36.1715\n",
            "Epoch 144/250\n",
            "22/22 [==============================] - 2s 72ms/step - loss: 35.4809 - mae: 35.9721\n",
            "Epoch 145/250\n",
            "22/22 [==============================] - 2s 71ms/step - loss: 35.4699 - mae: 35.9533\n",
            "Epoch 146/250\n",
            "22/22 [==============================] - 2s 72ms/step - loss: 35.6633 - mae: 36.1165\n",
            "Epoch 147/250\n",
            "22/22 [==============================] - 2s 71ms/step - loss: 35.3346 - mae: 35.8758\n",
            "Epoch 148/250\n",
            "22/22 [==============================] - 1s 67ms/step - loss: 33.8056 - mae: 34.2896\n",
            "Epoch 149/250\n",
            "22/22 [==============================] - 1s 68ms/step - loss: 34.5747 - mae: 35.0772\n",
            "Epoch 150/250\n",
            "22/22 [==============================] - 2s 68ms/step - loss: 34.2874 - mae: 34.7495\n",
            "Epoch 151/250\n",
            "22/22 [==============================] - 2s 69ms/step - loss: 34.9937 - mae: 35.5135\n",
            "Epoch 152/250\n",
            "22/22 [==============================] - 2s 69ms/step - loss: 34.8605 - mae: 35.3639\n",
            "Epoch 153/250\n",
            "22/22 [==============================] - 2s 70ms/step - loss: 33.7820 - mae: 34.3037\n",
            "Epoch 154/250\n",
            "22/22 [==============================] - 1s 67ms/step - loss: 33.6955 - mae: 34.2079\n",
            "Epoch 155/250\n",
            "22/22 [==============================] - 2s 69ms/step - loss: 34.2384 - mae: 34.7288\n",
            "Epoch 156/250\n",
            "22/22 [==============================] - 2s 69ms/step - loss: 35.5291 - mae: 36.0806\n",
            "Epoch 157/250\n",
            "22/22 [==============================] - 2s 69ms/step - loss: 34.7560 - mae: 35.2606\n",
            "Epoch 158/250\n",
            "22/22 [==============================] - 1s 67ms/step - loss: 35.1937 - mae: 35.6982\n",
            "Epoch 159/250\n",
            "22/22 [==============================] - 1s 68ms/step - loss: 34.4525 - mae: 34.9670\n",
            "Epoch 160/250\n",
            "22/22 [==============================] - 1s 68ms/step - loss: 34.0004 - mae: 34.5082\n",
            "Epoch 161/250\n",
            "22/22 [==============================] - 2s 69ms/step - loss: 33.9220 - mae: 34.4228\n",
            "Epoch 162/250\n",
            "22/22 [==============================] - 2s 69ms/step - loss: 35.4084 - mae: 35.9241\n",
            "Epoch 163/250\n",
            "22/22 [==============================] - 1s 66ms/step - loss: 34.0836 - mae: 34.6023\n",
            "Epoch 164/250\n",
            "22/22 [==============================] - 1s 67ms/step - loss: 34.1119 - mae: 34.6375\n",
            "Epoch 165/250\n",
            "22/22 [==============================] - 1s 66ms/step - loss: 33.8502 - mae: 34.3491\n",
            "Epoch 166/250\n",
            "22/22 [==============================] - 2s 69ms/step - loss: 34.2063 - mae: 34.7048\n",
            "Epoch 167/250\n",
            "22/22 [==============================] - 2s 71ms/step - loss: 33.8965 - mae: 34.3937\n",
            "Epoch 168/250\n",
            "22/22 [==============================] - 2s 71ms/step - loss: 33.8938 - mae: 34.3883\n",
            "Epoch 169/250\n",
            "22/22 [==============================] - 2s 69ms/step - loss: 35.8585 - mae: 36.3691\n",
            "Epoch 170/250\n",
            "22/22 [==============================] - 2s 71ms/step - loss: 35.5838 - mae: 36.0723\n",
            "Epoch 171/250\n",
            "22/22 [==============================] - 1s 65ms/step - loss: 35.8329 - mae: 36.3445\n",
            "Epoch 172/250\n",
            "22/22 [==============================] - 1s 67ms/step - loss: 33.8869 - mae: 34.3987\n",
            "Epoch 173/250\n",
            "22/22 [==============================] - 1s 66ms/step - loss: 34.1594 - mae: 34.6830\n",
            "Epoch 174/250\n",
            "22/22 [==============================] - 1s 67ms/step - loss: 33.7874 - mae: 34.2889\n",
            "Epoch 175/250\n",
            "22/22 [==============================] - 2s 69ms/step - loss: 33.7659 - mae: 34.2723\n",
            "Epoch 176/250\n",
            "22/22 [==============================] - 2s 68ms/step - loss: 33.7803 - mae: 34.2671\n",
            "Epoch 177/250\n",
            "22/22 [==============================] - 2s 70ms/step - loss: 34.9141 - mae: 35.4099\n",
            "Epoch 178/250\n",
            "22/22 [==============================] - 1s 66ms/step - loss: 33.9850 - mae: 34.5223\n",
            "Epoch 179/250\n",
            "22/22 [==============================] - 2s 71ms/step - loss: 33.7545 - mae: 34.2636\n",
            "Epoch 180/250\n",
            "22/22 [==============================] - 1s 67ms/step - loss: 33.7807 - mae: 34.2946\n",
            "Epoch 181/250\n",
            "22/22 [==============================] - 2s 70ms/step - loss: 34.0195 - mae: 34.5284\n",
            "Epoch 182/250\n",
            "22/22 [==============================] - 1s 65ms/step - loss: 33.7945 - mae: 34.3057\n",
            "Epoch 183/250\n",
            "22/22 [==============================] - 2s 71ms/step - loss: 33.9781 - mae: 34.4802\n",
            "Epoch 184/250\n",
            "22/22 [==============================] - 2s 68ms/step - loss: 33.7126 - mae: 34.2234\n",
            "Epoch 185/250\n",
            "22/22 [==============================] - 2s 70ms/step - loss: 33.7518 - mae: 34.2648\n",
            "Epoch 186/250\n",
            "22/22 [==============================] - 2s 69ms/step - loss: 33.9446 - mae: 34.4182\n",
            "Epoch 187/250\n",
            "22/22 [==============================] - 2s 72ms/step - loss: 34.5308 - mae: 35.0610\n",
            "Epoch 188/250\n",
            "22/22 [==============================] - 2s 72ms/step - loss: 34.4052 - mae: 34.8486\n",
            "Epoch 189/250\n",
            "22/22 [==============================] - 2s 71ms/step - loss: 35.3630 - mae: 35.8301\n",
            "Epoch 190/250\n",
            "22/22 [==============================] - 1s 68ms/step - loss: 35.2945 - mae: 35.7912\n",
            "Epoch 191/250\n",
            "22/22 [==============================] - 1s 68ms/step - loss: 34.2964 - mae: 34.8130\n",
            "Epoch 192/250\n",
            "22/22 [==============================] - 2s 71ms/step - loss: 35.5250 - mae: 36.0573\n",
            "Epoch 193/250\n",
            "22/22 [==============================] - 1s 67ms/step - loss: 33.8089 - mae: 34.3187\n",
            "Epoch 194/250\n",
            "22/22 [==============================] - 1s 68ms/step - loss: 34.1551 - mae: 34.6614\n",
            "Epoch 195/250\n",
            "22/22 [==============================] - 2s 71ms/step - loss: 33.8502 - mae: 34.3631\n",
            "Epoch 196/250\n",
            "22/22 [==============================] - 2s 70ms/step - loss: 34.0486 - mae: 34.5404\n",
            "Epoch 197/250\n",
            "22/22 [==============================] - 2s 71ms/step - loss: 34.2218 - mae: 34.7322\n",
            "Epoch 198/250\n",
            "22/22 [==============================] - 2s 70ms/step - loss: 33.7526 - mae: 34.2612\n",
            "Epoch 199/250\n",
            "22/22 [==============================] - 2s 69ms/step - loss: 33.8369 - mae: 34.3505\n",
            "Epoch 200/250\n",
            "22/22 [==============================] - 2s 71ms/step - loss: 34.0445 - mae: 34.5410\n",
            "Epoch 201/250\n",
            "22/22 [==============================] - 2s 68ms/step - loss: 34.2398 - mae: 34.7463\n",
            "Epoch 202/250\n",
            "22/22 [==============================] - 1s 67ms/step - loss: 33.8117 - mae: 34.3109\n",
            "Epoch 203/250\n",
            "22/22 [==============================] - 2s 73ms/step - loss: 34.5773 - mae: 35.1048\n",
            "Epoch 204/250\n",
            "22/22 [==============================] - 2s 68ms/step - loss: 33.8593 - mae: 34.3630\n",
            "Epoch 205/250\n",
            "22/22 [==============================] - 2s 69ms/step - loss: 34.1824 - mae: 34.6692\n",
            "Epoch 206/250\n",
            "22/22 [==============================] - 2s 69ms/step - loss: 34.1367 - mae: 34.6543\n",
            "Epoch 207/250\n",
            "22/22 [==============================] - 1s 66ms/step - loss: 34.1889 - mae: 34.6608\n",
            "Epoch 208/250\n",
            "22/22 [==============================] - 2s 69ms/step - loss: 34.0454 - mae: 34.5764\n",
            "Epoch 209/250\n",
            "22/22 [==============================] - 2s 70ms/step - loss: 34.0155 - mae: 34.5388\n",
            "Epoch 210/250\n",
            "22/22 [==============================] - 2s 69ms/step - loss: 34.0843 - mae: 34.5765\n",
            "Epoch 211/250\n",
            "22/22 [==============================] - 2s 69ms/step - loss: 34.1332 - mae: 34.6721\n",
            "Epoch 212/250\n",
            "22/22 [==============================] - 1s 66ms/step - loss: 34.2202 - mae: 34.7432\n",
            "Epoch 213/250\n",
            "22/22 [==============================] - 1s 67ms/step - loss: 33.7082 - mae: 34.2228\n",
            "Epoch 214/250\n",
            "22/22 [==============================] - 2s 69ms/step - loss: 34.0778 - mae: 34.5674\n",
            "Epoch 215/250\n",
            "22/22 [==============================] - 1s 68ms/step - loss: 35.3292 - mae: 35.8402\n",
            "Epoch 216/250\n",
            "22/22 [==============================] - 2s 69ms/step - loss: 33.8099 - mae: 34.3137\n",
            "Epoch 217/250\n",
            "22/22 [==============================] - 2s 70ms/step - loss: 34.3576 - mae: 34.8428\n",
            "Epoch 218/250\n",
            "22/22 [==============================] - 2s 70ms/step - loss: 34.7712 - mae: 35.2775\n",
            "Epoch 219/250\n",
            "22/22 [==============================] - 1s 67ms/step - loss: 33.8689 - mae: 34.3627\n",
            "Epoch 220/250\n",
            "22/22 [==============================] - 2s 69ms/step - loss: 33.9172 - mae: 34.4195\n",
            "Epoch 221/250\n",
            "22/22 [==============================] - 2s 71ms/step - loss: 33.8882 - mae: 34.3859\n",
            "Epoch 222/250\n",
            "22/22 [==============================] - 2s 73ms/step - loss: 34.8956 - mae: 35.3894\n",
            "Epoch 223/250\n",
            "22/22 [==============================] - 1s 67ms/step - loss: 36.9306 - mae: 37.5000\n",
            "Epoch 224/250\n",
            "22/22 [==============================] - 2s 71ms/step - loss: 35.0184 - mae: 35.5378\n",
            "Epoch 225/250\n",
            "22/22 [==============================] - 2s 69ms/step - loss: 33.8228 - mae: 34.3100\n",
            "Epoch 226/250\n",
            "22/22 [==============================] - 1s 67ms/step - loss: 33.9461 - mae: 34.4516\n",
            "Epoch 227/250\n",
            "22/22 [==============================] - 2s 69ms/step - loss: 34.0453 - mae: 34.5679\n",
            "Epoch 228/250\n",
            "22/22 [==============================] - 1s 68ms/step - loss: 33.9867 - mae: 34.4826\n",
            "Epoch 229/250\n",
            "22/22 [==============================] - 1s 68ms/step - loss: 33.8891 - mae: 34.3940\n",
            "Epoch 230/250\n",
            "22/22 [==============================] - 2s 70ms/step - loss: 33.7718 - mae: 34.2954\n",
            "Epoch 231/250\n",
            "22/22 [==============================] - 2s 69ms/step - loss: 33.9720 - mae: 34.4887\n",
            "Epoch 232/250\n",
            "22/22 [==============================] - 1s 66ms/step - loss: 33.7465 - mae: 34.2516\n",
            "Epoch 233/250\n",
            "22/22 [==============================] - 2s 70ms/step - loss: 34.1968 - mae: 34.7078\n",
            "Epoch 234/250\n",
            "22/22 [==============================] - 2s 68ms/step - loss: 34.5136 - mae: 34.9560\n",
            "Epoch 235/250\n",
            "22/22 [==============================] - 1s 68ms/step - loss: 35.3559 - mae: 35.8638\n",
            "Epoch 236/250\n",
            "22/22 [==============================] - 1s 66ms/step - loss: 33.6725 - mae: 34.1836\n",
            "Epoch 237/250\n",
            "22/22 [==============================] - 1s 64ms/step - loss: 34.1139 - mae: 34.5789\n",
            "Epoch 238/250\n",
            "22/22 [==============================] - 1s 67ms/step - loss: 33.9775 - mae: 34.4881\n",
            "Epoch 239/250\n",
            "22/22 [==============================] - 2s 68ms/step - loss: 33.8500 - mae: 34.3778\n",
            "Epoch 240/250\n",
            "22/22 [==============================] - 2s 70ms/step - loss: 35.1088 - mae: 35.5958\n",
            "Epoch 241/250\n",
            "22/22 [==============================] - 2s 70ms/step - loss: 34.0303 - mae: 34.4923\n",
            "Epoch 242/250\n",
            "22/22 [==============================] - 1s 66ms/step - loss: 35.9956 - mae: 36.5379\n",
            "Epoch 243/250\n",
            "22/22 [==============================] - 1s 67ms/step - loss: 34.4144 - mae: 34.9311\n",
            "Epoch 244/250\n",
            "22/22 [==============================] - 1s 67ms/step - loss: 34.0784 - mae: 34.6157\n",
            "Epoch 245/250\n",
            "22/22 [==============================] - 2s 71ms/step - loss: 35.2527 - mae: 35.7383\n",
            "Epoch 246/250\n",
            "22/22 [==============================] - 2s 70ms/step - loss: 34.6095 - mae: 35.1306\n",
            "Epoch 247/250\n",
            "22/22 [==============================] - 1s 66ms/step - loss: 33.8387 - mae: 34.3356\n",
            "Epoch 248/250\n",
            "22/22 [==============================] - 1s 67ms/step - loss: 33.8868 - mae: 34.3952\n",
            "Epoch 249/250\n",
            "22/22 [==============================] - 2s 70ms/step - loss: 33.6954 - mae: 34.2071\n",
            "Epoch 250/250\n",
            "22/22 [==============================] - 2s 69ms/step - loss: 33.7690 - mae: 34.2552\n"
          ],
          "name": "stdout"
        }
      ]
    },
    {
      "cell_type": "code",
      "metadata": {
        "id": "QiNaEI9Q6nKY",
        "colab_type": "code",
        "outputId": "c9a40fb5-e31c-44cf-87d9-e0efce5c8dc6",
        "colab": {
          "base_uri": "https://localhost:8080/",
          "height": 607
        }
      },
      "source": [
        "import matplotlib.image  as mpimg\n",
        "import matplotlib.pyplot as plt\n",
        "\n",
        "#-----------------------------------------------------------\n",
        "# Retrieve a list of list results on training and test data\n",
        "# sets for each training epoch\n",
        "#-----------------------------------------------------------\n",
        "mae=history.history['mae']\n",
        "loss=history.history['loss']\n",
        "\n",
        "epochs=range(len(loss)) # Get number of epochs\n",
        "\n",
        "#------------------------------------------------\n",
        "# Plot MAE and Loss\n",
        "#------------------------------------------------\n",
        "plt.plot(epochs, mae, 'r')\n",
        "plt.plot(epochs, loss, 'b')\n",
        "plt.title('MAE and Loss')\n",
        "plt.xlabel(\"Epochs\")\n",
        "plt.ylabel(\"Accuracy\")\n",
        "plt.legend([\"MAE\", \"Loss\"])\n",
        "\n",
        "plt.figure()\n",
        "\n",
        "epochs_zoom = epochs[80:]\n",
        "mae_zoom = mae[80:]\n",
        "loss_zoom = loss[80:]\n",
        "\n",
        "#------------------------------------------------\n",
        "# Plot Zoomed MAE and Loss\n",
        "#------------------------------------------------\n",
        "plt.plot(epochs_zoom, mae_zoom, 'r')\n",
        "plt.plot(epochs_zoom, loss_zoom, 'b')\n",
        "plt.title('MAE and Loss')\n",
        "plt.xlabel(\"Epochs\")\n",
        "plt.ylabel(\"Accuracy\")\n",
        "plt.legend([\"MAE\", \"Loss\"])\n",
        "\n",
        "plt.figure()"
      ],
      "execution_count": 0,
      "outputs": [
        {
          "output_type": "execute_result",
          "data": {
            "text/plain": [
              "<Figure size 432x288 with 0 Axes>"
            ]
          },
          "metadata": {
            "tags": []
          },
          "execution_count": 16
        },
        {
          "output_type": "display_data",
          "data": {
            "image/png": "[encoded data removed]",
            "text/plain": [
              "<Figure size 432x288 with 1 Axes>"
            ]
          },
          "metadata": {
            "tags": []
          }
        },
        {
          "output_type": "display_data",
          "data": {
            "image/png": "[encoded data removed]",
            "text/plain": [
              "<Figure size 432x288 with 1 Axes>"
            ]
          },
          "metadata": {
            "tags": []
          }
        },
        {
          "output_type": "display_data",
          "data": {
            "text/plain": [
              "<Figure size 432x288 with 0 Axes>"
            ]
          },
          "metadata": {
            "tags": []
          }
        }
      ]
    },
    {
      "cell_type": "code",
      "metadata": {
        "id": "GaC6NNMRp0lb",
        "colab_type": "code",
        "colab": {}
      },
      "source": [
        "rnn_forecast = model_forecast(model, series[..., np.newaxis], window_size)\n",
        "rnn_forecast = rnn_forecast[split_time - window_size:-1, -1,0]"
      ],
      "execution_count": 0,
      "outputs": []
    },
    {
      "cell_type": "code",
      "metadata": {
        "id": "yenE9_C4D-u-",
        "colab_type": "code",
        "colab": {}
      },
      "source": [
        "rnn_forecast2 = model_forecast(model, series[..., np.newaxis], window_size)\n",
        "rnn_forecast2 = rnn_forecast2[ window_size:split_time, -1, 0]"
      ],
      "execution_count": 0,
      "outputs": []
    },
    {
      "cell_type": "code",
      "metadata": {
        "id": "PrktQX3hKYex",
        "colab_type": "code",
        "outputId": "1521e6d6-8f43-4f83-f39e-78798a1a4901",
        "colab": {
          "base_uri": "https://localhost:8080/",
          "height": 408
        }
      },
      "source": [
        "plt.figure(figsize=(18, 6))\n",
        "plot_series(time_valid, x_valid)\n",
        "plot_series(time_valid, rnn_forecast)"
      ],
      "execution_count": 0,
      "outputs": [
        {
          "output_type": "display_data",
          "data": {
            "image/png": "[encoded data removed]",
            "text/plain": [
              "<Figure size 1296x432 with 1 Axes>"
            ]
          },
          "metadata": {
            "tags": []
          }
        }
      ]
    },
    {
      "cell_type": "code",
      "metadata": {
        "id": "HqvzGKYaejIj",
        "colab_type": "code",
        "outputId": "920ca239-8a2a-4e36-ff1d-b1f3199cabe2",
        "colab": {
          "base_uri": "https://localhost:8080/",
          "height": 388
        }
      },
      "source": [
        "plt.figure(figsize=(10, 6))\n",
        "plot_series(time_valid[-10:], x_valid[-10:])\n",
        "plot_series(time_valid[-10:], rnn_forecast[-10:])"
      ],
      "execution_count": 0,
      "outputs": [
        {
          "output_type": "display_data",
          "data": {
            "image/png": "[encoded data removed]",
            "text/plain": [
              "<Figure size 720x432 with 1 Axes>"
            ]
          },
          "metadata": {
            "tags": []
          }
        }
      ]
    },
    {
      "cell_type": "code",
      "metadata": {
        "id": "-WAGV41vgOGz",
        "colab_type": "code",
        "colab": {}
      },
      "source": [
        ""
      ],
      "execution_count": 0,
      "outputs": []
    },
    {
      "cell_type": "code",
      "metadata": {
        "id": "13XrorC5wQoE",
        "colab_type": "code",
        "outputId": "3e3408a8-a3b3-49f2-eb32-6c0584770a17",
        "colab": {
          "base_uri": "https://localhost:8080/",
          "height": 34
        }
      },
      "source": [
        "tf.keras.metrics.mean_absolute_error(x_valid, rnn_forecast).numpy()"
      ],
      "execution_count": 0,
      "outputs": [
        {
          "output_type": "execute_result",
          "data": {
            "text/plain": [
              "39.151142"
            ]
          },
          "metadata": {
            "tags": []
          },
          "execution_count": 20
        }
      ]
    },
    {
      "cell_type": "code",
      "metadata": {
        "id": "AOVzQXxCwkzP",
        "colab_type": "code",
        "outputId": "e671b0e1-c2d5-431e-8426-e4bcc108d620",
        "colab": {
          "base_uri": "https://localhost:8080/",
          "height": 34
        }
      },
      "source": [
        "print(rnn_forecast)"
      ],
      "execution_count": 0,
      "outputs": [
        {
          "output_type": "stream",
          "text": [
            "[ 3863.8577  3800.909   3775.9292 ... 15113.709  15030.775  14981.815 ]\n"
          ],
          "name": "stdout"
        }
      ]
    },
    {
      "cell_type": "code",
      "metadata": {
        "id": "GtqLt0xI5HoL",
        "colab_type": "code",
        "colab": {}
      },
      "source": [
        "model.save(\"/content/drive/My Drive/Plant the future/datasets/Regression_model_two_dense_layered.h5\")"
      ],
      "execution_count": 0,
      "outputs": []
    },
    {
      "cell_type": "markdown",
      "metadata": {
        "id": "1blaoOwxBW-W",
        "colab_type": "text"
      },
      "source": [
        "# After this open second file and test the predictions\n"
      ]
    },
    {
      "cell_type": "code",
      "metadata": {
        "id": "g8WCE0VJK6Yp",
        "colab_type": "code",
        "colab": {}
      },
      "source": [
        "loaded_model = tf.keras.models.load_model(\"/content/Regression_model_two_dense_layered.h5\")"
      ],
      "execution_count": 0,
      "outputs": []
    },
    {
      "cell_type": "code",
      "metadata": {
        "id": "RYGEa-TSLpyk",
        "colab_type": "code",
        "colab": {}
      },
      "source": [
        "rnn_forecast = model_forecast(loaded_model, series[..., np.newaxis], window_size)\n",
        "rnn_forecast = rnn_forecast[split_time - window_size:-1, -1, 0]"
      ],
      "execution_count": 0,
      "outputs": []
    },
    {
      "cell_type": "code",
      "metadata": {
        "id": "_EmnKtfULvzu",
        "colab_type": "code",
        "outputId": "46c3187a-73f3-4c0e-fdbe-3f3a1227588e",
        "colab": {
          "base_uri": "https://localhost:8080/",
          "height": 388
        }
      },
      "source": [
        "plt.figure(figsize=(10, 6))\n",
        "plot_series(time_valid, x_valid)\n",
        "plot_series(time_valid, rnn_forecast,format='-')"
      ],
      "execution_count": 0,
      "outputs": [
        {
          "output_type": "display_data",
          "data": {
            "image/png": "[encoded data removed]",
            "text/plain": [
              "<Figure size 720x432 with 1 Axes>"
            ]
          },
          "metadata": {
            "tags": []
          }
        }
      ]
    },
    {
      "cell_type": "code",
      "metadata": {
        "id": "Rcq6_U2ZZL0z",
        "colab_type": "code",
        "outputId": "88881cdc-08dc-4a32-ba6e-870570291b4a",
        "colab": {
          "base_uri": "https://localhost:8080/",
          "height": 279
        }
      },
      "source": [
        " plot_series(time[-10:-1], series[-10:-1])\n",
        "plot_series(time[-10:-1], rnn_forecast[-10:-1],format='-')"
      ],
      "execution_count": 0,
      "outputs": [
        {
          "output_type": "display_data",
          "data": {
            "image/png": "[encoded data removed]",
            "text/plain": [
              "<Figure size 432x288 with 1 Axes>"
            ]
          },
          "metadata": {
            "tags": []
          }
        }
      ]
    },
    {
      "cell_type": "code",
      "metadata": {
        "id": "9ciB68KXc9t0",
        "colab_type": "code",
        "outputId": "9873f289-0cc9-45dd-e615-d6664acbc245",
        "colab": {
          "base_uri": "https://localhost:8080/",
          "height": 34
        }
      },
      "source": [
        "tf.keras.metrics.mean_absolute_error(series[split_time :], rnn_forecast).numpy()"
      ],
      "execution_count": 0,
      "outputs": [
        {
          "output_type": "execute_result",
          "data": {
            "text/plain": [
              "40.814663"
            ]
          },
          "metadata": {
            "tags": []
          },
          "execution_count": 18
        }
      ]
    },
    {
      "cell_type": "code",
      "metadata": {
        "id": "SM7RsW33Lz_0",
        "colab_type": "code",
        "outputId": "8244bcfa-d11d-4aca-b4f3-c63151fa1310",
        "colab": {
          "base_uri": "https://localhost:8080/",
          "height": 301
        }
      },
      "source": [
        "column = 100\n",
        "\n",
        "df.iloc[:,column].plot()\n",
        "series = df.iloc[:,column]\n",
        "time = np.array(range(len(series)))\n",
        "print(\"Series shape\",series.shape)\n",
        "print(\"Time shape\",time.shape)"
      ],
      "execution_count": 0,
      "outputs": [
        {
          "output_type": "stream",
          "text": [
            "Series shape (7305,)\n",
            "Time shape (7305,)\n"
          ],
          "name": "stdout"
        },
        {
          "output_type": "display_data",
          "data": {
            "image/png": "[encoded data removed]",
            "text/plain": [
              "<Figure size 432x288 with 1 Axes>"
            ]
          },
          "metadata": {
            "tags": []
          }
        }
      ]
    },
    {
      "cell_type": "code",
      "metadata": {
        "id": "902sgzZztmUf",
        "colab_type": "code",
        "outputId": "65cec85a-1724-40e6-cd9f-00e797960449",
        "colab": {
          "base_uri": "https://localhost:8080/",
          "height": 170
        }
      },
      "source": [
        "df.iloc[:,column].describe()"
      ],
      "execution_count": 0,
      "outputs": [
        {
          "output_type": "execute_result",
          "data": {
            "text/plain": [
              "count     7305.000000\n",
              "mean      7296.409446\n",
              "std       4374.566871\n",
              "min         49.000000\n",
              "25%       3465.000000\n",
              "50%       6751.000000\n",
              "75%      10674.000000\n",
              "max      19311.000000\n",
              "Name: 99, dtype: float64"
            ]
          },
          "metadata": {
            "tags": []
          },
          "execution_count": 30
        }
      ]
    },
    {
      "cell_type": "code",
      "metadata": {
        "id": "7WACk30eMDG_",
        "colab_type": "code",
        "colab": {}
      },
      "source": [
        "series = np.array(series)\n",
        "time = np.array(time)\n",
        "window_size = 64"
      ],
      "execution_count": 0,
      "outputs": []
    },
    {
      "cell_type": "code",
      "metadata": {
        "id": "A_DAhAOtbCfD",
        "colab_type": "code",
        "outputId": "5834cbce-1033-4514-faf0-a687c8a8d15b",
        "colab": {
          "base_uri": "https://localhost:8080/",
          "height": 34
        }
      },
      "source": [
        "series.shape"
      ],
      "execution_count": 0,
      "outputs": [
        {
          "output_type": "execute_result",
          "data": {
            "text/plain": [
              "(7305,)"
            ]
          },
          "metadata": {
            "tags": []
          },
          "execution_count": 32
        }
      ]
    },
    {
      "cell_type": "code",
      "metadata": {
        "id": "as-MyUwKML71",
        "colab_type": "code",
        "outputId": "fd3d10d9-4b05-4ec8-c579-819d75b999ed",
        "colab": {
          "base_uri": "https://localhost:8080/",
          "height": 34
        }
      },
      "source": [
        "rnn_forecast = model_forecast(loaded_model, series[..., np.newaxis], window_size)\n",
        "rnn_forecast = rnn_forecast[:-1, -1, 0]\n",
        "print(\"Shape of forecast\",rnn_forecast.shape)"
      ],
      "execution_count": 0,
      "outputs": [
        {
          "output_type": "stream",
          "text": [
            "Shape of forecast (7241,)\n"
          ],
          "name": "stdout"
        }
      ]
    },
    {
      "cell_type": "code",
      "metadata": {
        "id": "8X9mDZMzMSbH",
        "colab_type": "code",
        "outputId": "46b9a0d0-f8d7-47d0-f245-bd1abedc7870",
        "colab": {
          "base_uri": "https://localhost:8080/",
          "height": 279
        }
      },
      "source": [
        "#plt.figure(figsize=(20, 12))\n",
        "plot_series(time[-10:-1], series[-10:-1])\n",
        "plot_series(time[-10:-1], rnn_forecast[-10:-1],format='-')"
      ],
      "execution_count": 0,
      "outputs": [
        {
          "output_type": "display_data",
          "data": {
            "image/png": "[encoded data removed]",
            "text/plain": [
              "<Figure size 432x288 with 1 Axes>"
            ]
          },
          "metadata": {
            "tags": []
          }
        }
      ]
    },
    {
      "cell_type": "code",
      "metadata": {
        "id": "_Acle0hWMg6x",
        "colab_type": "code",
        "outputId": "90d1785f-cb06-41ee-a04d-1eb5eca5f10c",
        "colab": {
          "base_uri": "https://localhost:8080/",
          "height": 280
        }
      },
      "source": [
        "plot_series(time, series,format='-')\n",
        "plot_series(time[window_size:], rnn_forecast,format='-')"
      ],
      "execution_count": 0,
      "outputs": [
        {
          "output_type": "display_data",
          "data": {
            "image/png": "[encoded data removed]",
            "text/plain": [
              "<Figure size 432x288 with 1 Axes>"
            ]
          },
          "metadata": {
            "tags": []
          }
        }
      ]
    },
    {
      "cell_type": "code",
      "metadata": {
        "id": "JeKrm-RHNcaQ",
        "colab_type": "code",
        "outputId": "3c1d0975-3418-475e-ce7a-862b7b62b0a0",
        "colab": {
          "base_uri": "https://localhost:8080/",
          "height": 34
        }
      },
      "source": [
        "tf.keras.metrics.mean_absolute_error(series[window_size:], rnn_forecast).numpy()"
      ],
      "execution_count": 0,
      "outputs": [
        {
          "output_type": "execute_result",
          "data": {
            "text/plain": [
              "39.14699"
            ]
          },
          "metadata": {
            "tags": []
          },
          "execution_count": 36
        }
      ]
    },
    {
      "cell_type": "code",
      "metadata": {
        "id": "pXmjU4eSAFl7",
        "colab_type": "code",
        "outputId": "2519763d-5d35-446c-8ef2-3a66211c59d3",
        "colab": {
          "base_uri": "https://localhost:8080/",
          "height": 34
        }
      },
      "source": [
        "1-(39.226772/7296.409446)"
      ],
      "execution_count": 0,
      "outputs": [
        {
          "output_type": "execute_result",
          "data": {
            "text/plain": [
              "0.9946238252814191"
            ]
          },
          "metadata": {
            "tags": []
          },
          "execution_count": 78
        }
      ]
    },
    {
      "cell_type": "code",
      "metadata": {
        "id": "zKqzFic9txN6",
        "colab_type": "code",
        "outputId": "c7d06006-1d0b-4df6-dffe-b2302142982e",
        "colab": {
          "base_uri": "https://localhost:8080/",
          "height": 34
        }
      },
      "source": [
        "rnn_forecast = model_forecast(loaded_model, series[7304-window_size:7304][...,np.newaxis], window_size)\n",
        "#rnn_forecast = rnn_forecast[:-1, -1,0]\n",
        "rnn_forecast.shape"
      ],
      "execution_count": 0,
      "outputs": [
        {
          "output_type": "execute_result",
          "data": {
            "text/plain": [
              "(1, 64, 1)"
            ]
          },
          "metadata": {
            "tags": []
          },
          "execution_count": 39
        }
      ]
    },
    {
      "cell_type": "code",
      "metadata": {
        "id": "eYMIgZ-NbNsh",
        "colab_type": "code",
        "outputId": "5aacd6a6-30b2-47c8-c3a4-825fca89aace",
        "colab": {
          "base_uri": "https://localhost:8080/",
          "height": 34
        }
      },
      "source": [
        "rnn_forecast[0][-1][0]"
      ],
      "execution_count": 0,
      "outputs": [
        {
          "output_type": "execute_result",
          "data": {
            "text/plain": [
              "13622.92"
            ]
          },
          "metadata": {
            "tags": []
          },
          "execution_count": 45
        }
      ]
    },
    {
      "cell_type": "code",
      "metadata": {
        "id": "LDtIav6rb10y",
        "colab_type": "code",
        "outputId": "8aaecaba-8e68-4928-c7e2-72114e5c896f",
        "colab": {
          "base_uri": "https://localhost:8080/",
          "height": 34
        }
      },
      "source": [
        "series[7304]"
      ],
      "execution_count": 0,
      "outputs": [
        {
          "output_type": "execute_result",
          "data": {
            "text/plain": [
              "13691"
            ]
          },
          "metadata": {
            "tags": []
          },
          "execution_count": 41
        }
      ]
    },
    {
      "cell_type": "code",
      "metadata": {
        "id": "vytgdNNab8b_",
        "colab_type": "code",
        "outputId": "a52815af-00cc-4f15-b580-db209d18b63d",
        "colab": {
          "base_uri": "https://localhost:8080/",
          "height": 34
        }
      },
      "source": [
        "time[7304]"
      ],
      "execution_count": 0,
      "outputs": [
        {
          "output_type": "execute_result",
          "data": {
            "text/plain": [
              "7304"
            ]
          },
          "metadata": {
            "tags": []
          },
          "execution_count": 48
        }
      ]
    },
    {
      "cell_type": "code",
      "metadata": {
        "id": "zzs450J5c_pK",
        "colab_type": "code",
        "colab": {}
      },
      "source": [
        ""
      ],
      "execution_count": 0,
      "outputs": []
    }
  ]
}